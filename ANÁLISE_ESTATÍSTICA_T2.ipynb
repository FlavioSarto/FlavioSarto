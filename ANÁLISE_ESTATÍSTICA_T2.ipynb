{
  "nbformat": 4,
  "nbformat_minor": 0,
  "metadata": {
    "colab": {
      "name": "ANÁLISE ESTATÍSTICA - T2.ipynb",
      "provenance": [],
      "include_colab_link": true
    },
    "kernelspec": {
      "name": "ir",
      "display_name": "R"
    },
    "language_info": {
      "name": "R"
    }
  },
  "cells": [
    {
      "cell_type": "markdown",
      "metadata": {
        "id": "view-in-github",
        "colab_type": "text"
      },
      "source": [
        "<a href=\"https://colab.research.google.com/github/FlavioSarto/FlavioSarto/blob/main/AN%C3%81LISE_ESTAT%C3%8DSTICA_T2.ipynb\" target=\"_parent\"><img src=\"https://colab.research.google.com/assets/colab-badge.svg\" alt=\"Open In Colab\"/></a>"
      ]
    },
    {
      "cell_type": "markdown",
      "source": [
        " Explorações em Distribuições de Probabilidade, Testes de Hipóteses e Inferência\n",
        "\n"
      ],
      "metadata": {
        "id": "BGfrYQGHhYL8"
      }
    },
    {
      "cell_type": "markdown",
      "source": [
        "# Atividade 1\n",
        "\n",
        "Suponha que o peso médio dos Pinguins Reis encontrados em uma colônia na Antártica no último ano foi 15.4 kg. Em uma amostra de 35 pinguins na mesma época neste ano, na mesma colônia, o peso médio foi 14.1kg. Assuma que o desvio padrão da população seja 2kg. A um nível de significância de 5%, nós podemos rejeitar a hipótese nula de que o peso médio dos pinguins não difere do último ano?"
      ],
      "metadata": {
        "id": "wqTNJ0gqhYdw"
      }
    },
    {
      "cell_type": "code",
      "source": [
        "#Hipoteses\n",
        "h0 = 15.4\n",
        "h1 = 15.4\n",
        "\n",
        "#Estatisticas Teste\n",
        "xbar = 14.1 # media da amostra\n",
        "mu0 = 15.4 # valor da hipótese\n",
        "sigma = 2 # desvio padrão da população\n",
        "n = 35 # tamanho da amostra\n",
        "z = (xbar-mu0)/(sigma/sqrt(n)) # estatística de teste\n",
        "z\n",
        "\n",
        "#Teste Hipoteses\n",
        "alpha = 0.05\n",
        "z.half.alpha = qnorm(1 - alpha/2)\n",
        "c(-z.half.alpha,z.half.alpha)\n",
        "\n",
        "#Distribuição\n",
        "alpha = 0.05\n",
        "df = 11\n",
        "tc = qt(alpha/2,df = df);\n",
        "tc\n"
      ],
      "metadata": {
        "colab": {
          "base_uri": "https://localhost:8080/",
          "height": 69
        },
        "id": "IrfuiuzHkz_Z",
        "outputId": "581f1edf-1946-4241-9fa6-364797e780a3"
      },
      "execution_count": 1,
      "outputs": [
        {
          "output_type": "display_data",
          "data": {
            "text/plain": [
              "[1] -3.845452"
            ],
            "text/latex": "-3.84545185901475",
            "text/markdown": "-3.84545185901475",
            "text/html": [
              "-3.84545185901475"
            ]
          },
          "metadata": {}
        },
        {
          "output_type": "display_data",
          "data": {
            "text/plain": [
              "[1] -1.959964  1.959964"
            ],
            "text/latex": "\\begin{enumerate*}\n\\item -1.95996398454005\n\\item 1.95996398454005\n\\end{enumerate*}\n",
            "text/markdown": "1. -1.95996398454005\n2. 1.95996398454005\n\n\n",
            "text/html": [
              "<style>\n",
              ".list-inline {list-style: none; margin:0; padding: 0}\n",
              ".list-inline>li {display: inline-block}\n",
              ".list-inline>li:not(:last-child)::after {content: \"\\00b7\"; padding: 0 .5ex}\n",
              "</style>\n",
              "<ol class=list-inline><li>-1.95996398454005</li><li>1.95996398454005</li></ol>\n"
            ]
          },
          "metadata": {}
        },
        {
          "output_type": "display_data",
          "data": {
            "text/plain": [
              "[1] -2.200985"
            ],
            "text/latex": "-2.20098516009164",
            "text/markdown": "-2.20098516009164",
            "text/html": [
              "-2.20098516009164"
            ]
          },
          "metadata": {}
        }
      ]
    },
    {
      "cell_type": "markdown",
      "source": [
        "# Atividade 2\n",
        "\n",
        "Na indústria cerâmica, avalia-se sistematicamente a resistência de amostras de massas cerâmicas, após o processo de queima. Dessas avaliações, sabe-se que certo tipo de massa tem resistência mecânica aproximadamente normal, com média 53 MPa e variância 16 MPa². Após a troca de alguns fornecedores de matérias- primas, deseja-se verificar se houve alteração na qualidade. Uma amostra de 15 corpos de prova de massa cerâmica acusou média igual a 50 MPa. Qual é a conclusão ao nível de significância de 5 %? "
      ],
      "metadata": {
        "id": "7kpU9HbMh0SF"
      }
    },
    {
      "cell_type": "code",
      "source": [
        "#Hipoteses\n",
        "h0 = 53\n",
        "h1 = 53\n",
        "\n",
        "#Estatisticas Teste\n",
        "xbar = 53 # media da amostra\n",
        "mu0 = 53 # valor da hipótese\n",
        "sigma = 16 # desvio padrão da população\n",
        "n = 15 # tamanho da amostra\n",
        "z = (xbar-mu0)/(sigma/sqrt(n)) # estatística de teste\n",
        "z\n",
        "\n",
        "#Teste Hipoteses\n",
        "alpha = 0.05\n",
        "z.half.alpha = qnorm(1 - alpha/2)\n",
        "c(-z.half.alpha,z.half.alpha)\n",
        "\n",
        "#Distribuição\n",
        "alpha = 0.05\n",
        "df = 11\n",
        "tc = qt(alpha/2,df = df);\n",
        "tc\n"
      ],
      "metadata": {
        "colab": {
          "base_uri": "https://localhost:8080/",
          "height": 69
        },
        "id": "n23lXpwymNes",
        "outputId": "dec3af81-f255-42b1-9766-704af99766c6"
      },
      "execution_count": 2,
      "outputs": [
        {
          "output_type": "display_data",
          "data": {
            "text/plain": [
              "[1] 0"
            ],
            "text/latex": "0",
            "text/markdown": "0",
            "text/html": [
              "0"
            ]
          },
          "metadata": {}
        },
        {
          "output_type": "display_data",
          "data": {
            "text/plain": [
              "[1] -1.959964  1.959964"
            ],
            "text/latex": "\\begin{enumerate*}\n\\item -1.95996398454005\n\\item 1.95996398454005\n\\end{enumerate*}\n",
            "text/markdown": "1. -1.95996398454005\n2. 1.95996398454005\n\n\n",
            "text/html": [
              "<style>\n",
              ".list-inline {list-style: none; margin:0; padding: 0}\n",
              ".list-inline>li {display: inline-block}\n",
              ".list-inline>li:not(:last-child)::after {content: \"\\00b7\"; padding: 0 .5ex}\n",
              "</style>\n",
              "<ol class=list-inline><li>-1.95996398454005</li><li>1.95996398454005</li></ol>\n"
            ]
          },
          "metadata": {}
        },
        {
          "output_type": "display_data",
          "data": {
            "text/plain": [
              "[1] -2.200985"
            ],
            "text/latex": "-2.20098516009164",
            "text/markdown": "-2.20098516009164",
            "text/html": [
              "-2.20098516009164"
            ]
          },
          "metadata": {}
        }
      ]
    },
    {
      "cell_type": "markdown",
      "source": [
        "# Atividade 3\n",
        "\n",
        "O tempo para transmitir 10 MB em determinada rede de computadores varia segundo um modelo normal, com média 7,4 seg e variância 1,3 seg2. Depois de algumas mudanças na rede acredita-se numa redução no tempo de transmissão de dados, além de uma possível alteração na variabilidade. Foram realizados 10 ensaios independentes com um arquivo de 10 MB e foram anotados os tempos de transmissão, em segundos:\n",
        "\n",
        "   6,8; 7,1; 5,9; 7,5; 6,3; 6,9; 7,2; 7,6; 6,6; 6,3\n",
        "\n",
        "Existe evidência suficiente de que o tempo médio de transmissão foi reduzido? Use nível de significância de 1%"
      ],
      "metadata": {
        "id": "jM5NHr3Dh6Yr"
      }
    },
    {
      "cell_type": "code",
      "source": [
        "#Hipoteses\n",
        "h0 = 7.4\n",
        "h1 = 7.4\n",
        "\n",
        "#Calculando Média da Amostra\n",
        "x<-c(6.8, 7.1, 5.9, 7.5, 6.3, 6.9, 7.2, 7.6, 6.6, 6.3 )\n",
        "xbar<-mean(x)\n",
        "\n",
        "#Estatisticas Teste\n",
        "xbar = xbar\n",
        "mu0 = 7.4 # valor da hipótese\n",
        "sigma = 1.3 # desvio padrão da população\n",
        "n = 10 # tamanho da amostra\n",
        "z = (xbar-mu0)/(sigma/sqrt(n)) # estatística de teste\n",
        "z\n",
        "\n",
        "#Teste Hipoteses\n",
        "alpha = 0.01\n",
        "z.half.alpha = qnorm(1 - alpha/2)\n",
        "c(-z.half.alpha,z.half.alpha)\n",
        "\n",
        "#Distribuição\n",
        "alpha = 0.01\n",
        "df = 11\n",
        "tc = qt(alpha/2,df = df);\n",
        "tc\n"
      ],
      "metadata": {
        "colab": {
          "base_uri": "https://localhost:8080/",
          "height": 69
        },
        "id": "dFlOb47ZpROf",
        "outputId": "8de320e6-9814-42e4-8aea-d9e989a0639c"
      },
      "execution_count": 3,
      "outputs": [
        {
          "output_type": "display_data",
          "data": {
            "text/plain": [
              "[1] -1.410862"
            ],
            "text/latex": "-1.41086234069051",
            "text/markdown": "-1.41086234069051",
            "text/html": [
              "-1.41086234069051"
            ]
          },
          "metadata": {}
        },
        {
          "output_type": "display_data",
          "data": {
            "text/plain": [
              "[1] -2.575829  2.575829"
            ],
            "text/latex": "\\begin{enumerate*}\n\\item -2.5758293035489\n\\item 2.5758293035489\n\\end{enumerate*}\n",
            "text/markdown": "1. -2.5758293035489\n2. 2.5758293035489\n\n\n",
            "text/html": [
              "<style>\n",
              ".list-inline {list-style: none; margin:0; padding: 0}\n",
              ".list-inline>li {display: inline-block}\n",
              ".list-inline>li:not(:last-child)::after {content: \"\\00b7\"; padding: 0 .5ex}\n",
              "</style>\n",
              "<ol class=list-inline><li>-2.5758293035489</li><li>2.5758293035489</li></ol>\n"
            ]
          },
          "metadata": {}
        },
        {
          "output_type": "display_data",
          "data": {
            "text/plain": [
              "[1] -3.105807"
            ],
            "text/latex": "-3.10580651553928",
            "text/markdown": "-3.10580651553928",
            "text/html": [
              "-3.10580651553928"
            ]
          },
          "metadata": {}
        }
      ]
    }
  ]
}