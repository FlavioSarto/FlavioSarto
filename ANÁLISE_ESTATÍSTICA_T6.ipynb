{
  "nbformat": 4,
  "nbformat_minor": 0,
  "metadata": {
    "colab": {
      "name": "ANÁLISE ESTATÍSTICA - T6.ipynb",
      "provenance": [],
      "include_colab_link": true
    },
    "kernelspec": {
      "name": "ir",
      "display_name": "R"
    },
    "language_info": {
      "name": "R"
    }
  },
  "cells": [
    {
      "cell_type": "markdown",
      "metadata": {
        "id": "view-in-github",
        "colab_type": "text"
      },
      "source": [
        "<a href=\"https://colab.research.google.com/github/FlavioSarto/FlavioSarto/blob/main/AN%C3%81LISE_ESTAT%C3%8DSTICA_T6.ipynb\" target=\"_parent\"><img src=\"https://colab.research.google.com/assets/colab-badge.svg\" alt=\"Open In Colab\"/></a>"
      ]
    },
    {
      "cell_type": "markdown",
      "source": [
        "#Problema 1"
      ],
      "metadata": {
        "id": "7cJ69hC_iOX2"
      }
    },
    {
      "cell_type": "markdown",
      "source": [
        "Vamos fazer um exercício de Regressão Logística, trabalhando com a base de dados do Titanic.\n",
        "\n",
        "Utilizaremos os arquivos disponibilizados no Moodle que foram preparados para esta atividade. Embora os nomes sejam os mesmos, estes arquivos do Moodle poder ser diferentes (em conteúdo) daqueles encontrados no site Kaggle.\n",
        "\n",
        "A base de dados (treinamento) é uma coleção de dados sobre alguns dos passageiros (891 ou 892) e o objetivo é prever a sobrevivência (1 se o passageiro sobreviveu ou 0 caso contrário), baseado em algumas características tais como classe de serviço, sexo, idade, etc. A base de dados de teste tem a mesma estrutura da base de treinamento, mas a variável Survived não contém nenhum valor (ou não está presente)\n",
        "\n",
        "Depois de construir seu modelo, você vai aplicá-lo ao este conjunto de dados de teste e prever o valor da variável Survived.\n",
        "\n",
        "Como se pode ver, utilizaremos tanto variáveis categóricas como contínuas.\n",
        "\n",
        "Quando trabalhamos com uma base de dados real, precisamos levar em conta o fato de podermos ter dados faltantes ou corrompidos, e, portanto, precisamos preparar a base de dados para nossa análise.\n",
        "\n",
        "As tarefas a serem realizadas são:"
      ],
      "metadata": {
        "id": "LbpQZ3MfiRkl"
      }
    },
    {
      "cell_type": "code",
      "source": [
        "train = read.csv('http://raw.githubusercontent.com/samuelhenrick1/Arduino/main/titanic_dw_train.csv')"
      ],
      "metadata": {
        "id": "ThKqYudljJtN"
      },
      "execution_count": null,
      "outputs": []
    },
    {
      "cell_type": "code",
      "source": [
        "test = read.csv('https://raw.githubusercontent.com/samuelhenrick1/Arduino/main/titanic_dw_test.csv')"
      ],
      "metadata": {
        "id": "WyAj3agSjefn"
      },
      "execution_count": null,
      "outputs": []
    },
    {
      "cell_type": "code",
      "source": [
        "install.packages('dplyr')"
      ],
      "metadata": {
        "colab": {
          "base_uri": "https://localhost:8080/"
        },
        "id": "T2C9ngGhj17U",
        "outputId": "425e8a71-4b7c-4ed8-ded1-68c1f0e4ed7d"
      },
      "execution_count": null,
      "outputs": [
        {
          "output_type": "stream",
          "name": "stderr",
          "text": [
            "Installing package into ‘/usr/local/lib/R/site-library’\n",
            "(as ‘lib’ is unspecified)\n",
            "\n"
          ]
        }
      ]
    },
    {
      "cell_type": "code",
      "source": [
        "library(\"dplyr\")"
      ],
      "metadata": {
        "id": "q2RNnLJzj2R1",
        "colab": {
          "base_uri": "https://localhost:8080/"
        },
        "outputId": "0e6a5d7d-cbea-4980-acac-13b774bc4180"
      },
      "execution_count": null,
      "outputs": [
        {
          "output_type": "stream",
          "name": "stderr",
          "text": [
            "\n",
            "Attaching package: ‘dplyr’\n",
            "\n",
            "\n",
            "The following objects are masked from ‘package:stats’:\n",
            "\n",
            "    filter, lag\n",
            "\n",
            "\n",
            "The following objects are masked from ‘package:base’:\n",
            "\n",
            "    intersect, setdiff, setequal, union\n",
            "\n",
            "\n"
          ]
        }
      ]
    },
    {
      "cell_type": "code",
      "source": [
        "str(test)"
      ],
      "metadata": {
        "colab": {
          "base_uri": "https://localhost:8080/"
        },
        "id": "SfLThq4yj-UK",
        "outputId": "1ae4b152-7593-4dc4-8411-72adb6dd8ba1"
      },
      "execution_count": null,
      "outputs": [
        {
          "output_type": "stream",
          "name": "stdout",
          "text": [
            "'data.frame':\t418 obs. of  11 variables:\n",
            " $ PassengerId: int  1 7 8 9 14 16 20 23 29 37 ...\n",
            " $ Pclass     : int  2 3 1 1 1 1 3 3 1 3 ...\n",
            " $ Name       : chr  \"Stanton, Mr. Samuel Ward\" \"Lang, Mr. Fang\" \"Eustis, Miss. Elizabeth Mussey\" \"Frolicher-Stehli, Mrs. Maxmillian (Margaretha Emerentia Stehli)\" ...\n",
            " $ Sex        : chr  \"male\" \"male\" \"female\" \"female\" ...\n",
            " $ Age        : num  41 26 54 48 62 36 21 NA 45 22 ...\n",
            " $ SibSp      : int  0 0 1 1 0 0 2 0 0 0 ...\n",
            " $ Parch      : int  0 0 0 1 0 2 0 0 0 0 ...\n",
            " $ Ticket     : chr  \"237734\" \"1601\" \"36947\" \"13567\" ...\n",
            " $ Fare       : num  15 56.5 78.3 79.2 26.6 ...\n",
            " $ Cabin      : chr  NA NA \"D20\" \"B41\" ...\n",
            " $ Embarked   : chr  \"C\" \"S\" \"C\" \"C\" ...\n"
          ]
        }
      ]
    },
    {
      "cell_type": "code",
      "source": [
        "head(test)"
      ],
      "metadata": {
        "colab": {
          "base_uri": "https://localhost:8080/",
          "height": 286
        },
        "id": "21TKrI8EkIw6",
        "outputId": "8baeef3d-d9e2-466c-959b-1ac4836f1b7e"
      },
      "execution_count": null,
      "outputs": [
        {
          "output_type": "display_data",
          "data": {
            "text/html": [
              "<table class=\"dataframe\">\n",
              "<caption>A data.frame: 6 × 11</caption>\n",
              "<thead>\n",
              "\t<tr><th></th><th scope=col>PassengerId</th><th scope=col>Pclass</th><th scope=col>Name</th><th scope=col>Sex</th><th scope=col>Age</th><th scope=col>SibSp</th><th scope=col>Parch</th><th scope=col>Ticket</th><th scope=col>Fare</th><th scope=col>Cabin</th><th scope=col>Embarked</th></tr>\n",
              "\t<tr><th></th><th scope=col>&lt;int&gt;</th><th scope=col>&lt;int&gt;</th><th scope=col>&lt;chr&gt;</th><th scope=col>&lt;chr&gt;</th><th scope=col>&lt;dbl&gt;</th><th scope=col>&lt;int&gt;</th><th scope=col>&lt;int&gt;</th><th scope=col>&lt;chr&gt;</th><th scope=col>&lt;dbl&gt;</th><th scope=col>&lt;chr&gt;</th><th scope=col>&lt;chr&gt;</th></tr>\n",
              "</thead>\n",
              "<tbody>\n",
              "\t<tr><th scope=row>1</th><td> 1</td><td>2</td><td>Stanton, Mr. Samuel Ward                                       </td><td>male  </td><td>41</td><td>0</td><td>0</td><td>237734   </td><td>15.0458</td><td>NA </td><td>C</td></tr>\n",
              "\t<tr><th scope=row>2</th><td> 7</td><td>3</td><td>Lang, Mr. Fang                                                 </td><td>male  </td><td>26</td><td>0</td><td>0</td><td>1601     </td><td>56.4958</td><td>NA </td><td>S</td></tr>\n",
              "\t<tr><th scope=row>3</th><td> 8</td><td>1</td><td>Eustis, Miss. Elizabeth Mussey                                 </td><td>female</td><td>54</td><td>1</td><td>0</td><td>36947    </td><td>78.2667</td><td>D20</td><td>C</td></tr>\n",
              "\t<tr><th scope=row>4</th><td> 9</td><td>1</td><td>Frolicher-Stehli, Mrs. Maxmillian (Margaretha Emerentia Stehli)</td><td>female</td><td>48</td><td>1</td><td>1</td><td>13567    </td><td>79.2000</td><td>B41</td><td>C</td></tr>\n",
              "\t<tr><th scope=row>5</th><td>14</td><td>1</td><td>Stead, Mr. William Thomas                                      </td><td>male  </td><td>62</td><td>0</td><td>0</td><td>113514   </td><td>26.5500</td><td>C87</td><td>S</td></tr>\n",
              "\t<tr><th scope=row>6</th><td>16</td><td>1</td><td>Crosby, Miss. Harriet R                                        </td><td>female</td><td>36</td><td>0</td><td>2</td><td>WE/P 5735</td><td>71.0000</td><td>B22</td><td>S</td></tr>\n",
              "</tbody>\n",
              "</table>\n"
            ],
            "text/markdown": "\nA data.frame: 6 × 11\n\n| <!--/--> | PassengerId &lt;int&gt; | Pclass &lt;int&gt; | Name &lt;chr&gt; | Sex &lt;chr&gt; | Age &lt;dbl&gt; | SibSp &lt;int&gt; | Parch &lt;int&gt; | Ticket &lt;chr&gt; | Fare &lt;dbl&gt; | Cabin &lt;chr&gt; | Embarked &lt;chr&gt; |\n|---|---|---|---|---|---|---|---|---|---|---|---|\n| 1 |  1 | 2 | Stanton, Mr. Samuel Ward                                        | male   | 41 | 0 | 0 | 237734    | 15.0458 | NA  | C |\n| 2 |  7 | 3 | Lang, Mr. Fang                                                  | male   | 26 | 0 | 0 | 1601      | 56.4958 | NA  | S |\n| 3 |  8 | 1 | Eustis, Miss. Elizabeth Mussey                                  | female | 54 | 1 | 0 | 36947     | 78.2667 | D20 | C |\n| 4 |  9 | 1 | Frolicher-Stehli, Mrs. Maxmillian (Margaretha Emerentia Stehli) | female | 48 | 1 | 1 | 13567     | 79.2000 | B41 | C |\n| 5 | 14 | 1 | Stead, Mr. William Thomas                                       | male   | 62 | 0 | 0 | 113514    | 26.5500 | C87 | S |\n| 6 | 16 | 1 | Crosby, Miss. Harriet R                                         | female | 36 | 0 | 2 | WE/P 5735 | 71.0000 | B22 | S |\n\n",
            "text/latex": "A data.frame: 6 × 11\n\\begin{tabular}{r|lllllllllll}\n  & PassengerId & Pclass & Name & Sex & Age & SibSp & Parch & Ticket & Fare & Cabin & Embarked\\\\\n  & <int> & <int> & <chr> & <chr> & <dbl> & <int> & <int> & <chr> & <dbl> & <chr> & <chr>\\\\\n\\hline\n\t1 &  1 & 2 & Stanton, Mr. Samuel Ward                                        & male   & 41 & 0 & 0 & 237734    & 15.0458 & NA  & C\\\\\n\t2 &  7 & 3 & Lang, Mr. Fang                                                  & male   & 26 & 0 & 0 & 1601      & 56.4958 & NA  & S\\\\\n\t3 &  8 & 1 & Eustis, Miss. Elizabeth Mussey                                  & female & 54 & 1 & 0 & 36947     & 78.2667 & D20 & C\\\\\n\t4 &  9 & 1 & Frolicher-Stehli, Mrs. Maxmillian (Margaretha Emerentia Stehli) & female & 48 & 1 & 1 & 13567     & 79.2000 & B41 & C\\\\\n\t5 & 14 & 1 & Stead, Mr. William Thomas                                       & male   & 62 & 0 & 0 & 113514    & 26.5500 & C87 & S\\\\\n\t6 & 16 & 1 & Crosby, Miss. Harriet R                                         & female & 36 & 0 & 2 & WE/P 5735 & 71.0000 & B22 & S\\\\\n\\end{tabular}\n",
            "text/plain": [
              "  PassengerId Pclass\n",
              "1  1          2     \n",
              "2  7          3     \n",
              "3  8          1     \n",
              "4  9          1     \n",
              "5 14          1     \n",
              "6 16          1     \n",
              "  Name                                                            Sex    Age\n",
              "1 Stanton, Mr. Samuel Ward                                        male   41 \n",
              "2 Lang, Mr. Fang                                                  male   26 \n",
              "3 Eustis, Miss. Elizabeth Mussey                                  female 54 \n",
              "4 Frolicher-Stehli, Mrs. Maxmillian (Margaretha Emerentia Stehli) female 48 \n",
              "5 Stead, Mr. William Thomas                                       male   62 \n",
              "6 Crosby, Miss. Harriet R                                         female 36 \n",
              "  SibSp Parch Ticket    Fare    Cabin Embarked\n",
              "1 0     0     237734    15.0458 NA    C       \n",
              "2 0     0     1601      56.4958 NA    S       \n",
              "3 1     0     36947     78.2667 D20   C       \n",
              "4 1     1     13567     79.2000 B41   C       \n",
              "5 0     0     113514    26.5500 C87   S       \n",
              "6 0     2     WE/P 5735 71.0000 B22   S       "
            ]
          },
          "metadata": {}
        }
      ]
    },
    {
      "cell_type": "code",
      "source": [
        "str(train)"
      ],
      "metadata": {
        "colab": {
          "base_uri": "https://localhost:8080/"
        },
        "id": "chFIGmQAj_yB",
        "outputId": "7a6599e3-53fb-4fe0-eab7-45808e5076a3"
      },
      "execution_count": null,
      "outputs": [
        {
          "output_type": "stream",
          "name": "stdout",
          "text": [
            "'data.frame':\t891 obs. of  12 variables:\n",
            " $ PassengerId: int  2 3 4 5 6 10 11 12 13 15 ...\n",
            " $ Survived   : int  0 1 0 1 0 0 1 0 0 1 ...\n",
            " $ Pclass     : int  3 1 2 1 3 3 1 3 3 2 ...\n",
            " $ Name       : chr  \"Johansson, Mr. Nils\" \"Minahan, Mrs. William Edward (Lillian E Thorpe)\" \"Hocking, Mr. Samuel James Metcalfe\" \"Chibnall, Mrs. (Edith Martha Bowerman)\" ...\n",
            " $ Sex        : chr  \"male\" \"female\" \"male\" \"female\" ...\n",
            " $ Age        : num  29 37 36 NA 30 21 53 20 26 62 ...\n",
            " $ SibSp      : int  0 1 0 0 0 1 1 0 0 0 ...\n",
            " $ Parch      : int  0 0 0 1 0 0 1 0 0 0 ...\n",
            " $ Ticket     : chr  \"347467\" \"19928\" \"242963\" \"113505\" ...\n",
            " $ Fare       : num  7.85 90 13 55 8.05 ...\n",
            " $ Cabin      : chr  NA \"C78\" NA \"E33\" ...\n",
            " $ Embarked   : chr  \"S\" \"Q\" \"S\" \"S\" ...\n"
          ]
        }
      ]
    },
    {
      "cell_type": "code",
      "source": [
        "head(train)"
      ],
      "metadata": {
        "colab": {
          "base_uri": "https://localhost:8080/",
          "height": 286
        },
        "id": "G0p3ieydk6kl",
        "outputId": "e5ffb36b-a05b-4e31-ee17-ea6622c35edc"
      },
      "execution_count": null,
      "outputs": [
        {
          "output_type": "display_data",
          "data": {
            "text/html": [
              "<table class=\"dataframe\">\n",
              "<caption>A data.frame: 6 × 12</caption>\n",
              "<thead>\n",
              "\t<tr><th></th><th scope=col>PassengerId</th><th scope=col>Survived</th><th scope=col>Pclass</th><th scope=col>Name</th><th scope=col>Sex</th><th scope=col>Age</th><th scope=col>SibSp</th><th scope=col>Parch</th><th scope=col>Ticket</th><th scope=col>Fare</th><th scope=col>Cabin</th><th scope=col>Embarked</th></tr>\n",
              "\t<tr><th></th><th scope=col>&lt;int&gt;</th><th scope=col>&lt;int&gt;</th><th scope=col>&lt;int&gt;</th><th scope=col>&lt;chr&gt;</th><th scope=col>&lt;chr&gt;</th><th scope=col>&lt;dbl&gt;</th><th scope=col>&lt;int&gt;</th><th scope=col>&lt;int&gt;</th><th scope=col>&lt;chr&gt;</th><th scope=col>&lt;dbl&gt;</th><th scope=col>&lt;chr&gt;</th><th scope=col>&lt;chr&gt;</th></tr>\n",
              "</thead>\n",
              "<tbody>\n",
              "\t<tr><th scope=row>1</th><td> 2</td><td>0</td><td>3</td><td>Johansson, Mr. Nils                            </td><td>male  </td><td>29</td><td>0</td><td>0</td><td>347467         </td><td> 7.8542</td><td>NA </td><td>S</td></tr>\n",
              "\t<tr><th scope=row>2</th><td> 3</td><td>1</td><td>1</td><td>Minahan, Mrs. William Edward (Lillian E Thorpe)</td><td>female</td><td>37</td><td>1</td><td>0</td><td>19928          </td><td>90.0000</td><td>C78</td><td>Q</td></tr>\n",
              "\t<tr><th scope=row>3</th><td> 4</td><td>0</td><td>2</td><td>Hocking, Mr. Samuel James Metcalfe             </td><td>male  </td><td>36</td><td>0</td><td>0</td><td>242963         </td><td>13.0000</td><td>NA </td><td>S</td></tr>\n",
              "\t<tr><th scope=row>4</th><td> 5</td><td>1</td><td>1</td><td>Chibnall, Mrs. (Edith Martha Bowerman)         </td><td>female</td><td>NA</td><td>0</td><td>1</td><td>113505         </td><td>55.0000</td><td>E33</td><td>S</td></tr>\n",
              "\t<tr><th scope=row>5</th><td> 6</td><td>0</td><td>3</td><td>Corn, Mr. Harry                                </td><td>male  </td><td>30</td><td>0</td><td>0</td><td>SOTON/OQ 392090</td><td> 8.0500</td><td>NA </td><td>S</td></tr>\n",
              "\t<tr><th scope=row>6</th><td>10</td><td>0</td><td>3</td><td>Wiklund, Mr. Karl Johan                        </td><td>male  </td><td>21</td><td>1</td><td>0</td><td>3101266        </td><td> 6.4958</td><td>NA </td><td>S</td></tr>\n",
              "</tbody>\n",
              "</table>\n"
            ],
            "text/markdown": "\nA data.frame: 6 × 12\n\n| <!--/--> | PassengerId &lt;int&gt; | Survived &lt;int&gt; | Pclass &lt;int&gt; | Name &lt;chr&gt; | Sex &lt;chr&gt; | Age &lt;dbl&gt; | SibSp &lt;int&gt; | Parch &lt;int&gt; | Ticket &lt;chr&gt; | Fare &lt;dbl&gt; | Cabin &lt;chr&gt; | Embarked &lt;chr&gt; |\n|---|---|---|---|---|---|---|---|---|---|---|---|---|\n| 1 |  2 | 0 | 3 | Johansson, Mr. Nils                             | male   | 29 | 0 | 0 | 347467          |  7.8542 | NA  | S |\n| 2 |  3 | 1 | 1 | Minahan, Mrs. William Edward (Lillian E Thorpe) | female | 37 | 1 | 0 | 19928           | 90.0000 | C78 | Q |\n| 3 |  4 | 0 | 2 | Hocking, Mr. Samuel James Metcalfe              | male   | 36 | 0 | 0 | 242963          | 13.0000 | NA  | S |\n| 4 |  5 | 1 | 1 | Chibnall, Mrs. (Edith Martha Bowerman)          | female | NA | 0 | 1 | 113505          | 55.0000 | E33 | S |\n| 5 |  6 | 0 | 3 | Corn, Mr. Harry                                 | male   | 30 | 0 | 0 | SOTON/OQ 392090 |  8.0500 | NA  | S |\n| 6 | 10 | 0 | 3 | Wiklund, Mr. Karl Johan                         | male   | 21 | 1 | 0 | 3101266         |  6.4958 | NA  | S |\n\n",
            "text/latex": "A data.frame: 6 × 12\n\\begin{tabular}{r|llllllllllll}\n  & PassengerId & Survived & Pclass & Name & Sex & Age & SibSp & Parch & Ticket & Fare & Cabin & Embarked\\\\\n  & <int> & <int> & <int> & <chr> & <chr> & <dbl> & <int> & <int> & <chr> & <dbl> & <chr> & <chr>\\\\\n\\hline\n\t1 &  2 & 0 & 3 & Johansson, Mr. Nils                             & male   & 29 & 0 & 0 & 347467          &  7.8542 & NA  & S\\\\\n\t2 &  3 & 1 & 1 & Minahan, Mrs. William Edward (Lillian E Thorpe) & female & 37 & 1 & 0 & 19928           & 90.0000 & C78 & Q\\\\\n\t3 &  4 & 0 & 2 & Hocking, Mr. Samuel James Metcalfe              & male   & 36 & 0 & 0 & 242963          & 13.0000 & NA  & S\\\\\n\t4 &  5 & 1 & 1 & Chibnall, Mrs. (Edith Martha Bowerman)          & female & NA & 0 & 1 & 113505          & 55.0000 & E33 & S\\\\\n\t5 &  6 & 0 & 3 & Corn, Mr. Harry                                 & male   & 30 & 0 & 0 & SOTON/OQ 392090 &  8.0500 & NA  & S\\\\\n\t6 & 10 & 0 & 3 & Wiklund, Mr. Karl Johan                         & male   & 21 & 1 & 0 & 3101266         &  6.4958 & NA  & S\\\\\n\\end{tabular}\n",
            "text/plain": [
              "  PassengerId Survived Pclass Name                                           \n",
              "1  2          0        3      Johansson, Mr. Nils                            \n",
              "2  3          1        1      Minahan, Mrs. William Edward (Lillian E Thorpe)\n",
              "3  4          0        2      Hocking, Mr. Samuel James Metcalfe             \n",
              "4  5          1        1      Chibnall, Mrs. (Edith Martha Bowerman)         \n",
              "5  6          0        3      Corn, Mr. Harry                                \n",
              "6 10          0        3      Wiklund, Mr. Karl Johan                        \n",
              "  Sex    Age SibSp Parch Ticket          Fare    Cabin Embarked\n",
              "1 male   29  0     0     347467           7.8542 NA    S       \n",
              "2 female 37  1     0     19928           90.0000 C78   Q       \n",
              "3 male   36  0     0     242963          13.0000 NA    S       \n",
              "4 female NA  0     1     113505          55.0000 E33   S       \n",
              "5 male   30  0     0     SOTON/OQ 392090  8.0500 NA    S       \n",
              "6 male   21  1     0     3101266          6.4958 NA    S       "
            ]
          },
          "metadata": {}
        }
      ]
    },
    {
      "cell_type": "markdown",
      "source": [
        "a)       Fazer a preparação dos dados para serem utilizados na análise, considerando que serão utilizadas apenas as variáveis Survived, Pclass, Sex, Age, SibSp, Parch, Fare, Embarked"
      ],
      "metadata": {
        "id": "srDFIr96iU9v"
      }
    },
    {
      "cell_type": "markdown",
      "source": [
        "A1) Do conjunto de dados original, você deve selecionar um subconjunto apenas com as variáveis indicadas acima e a variável PassengerId."
      ],
      "metadata": {
        "id": "b8-WfOLQiXR8"
      }
    },
    {
      "cell_type": "code",
      "source": [
        "#Dica: função subset() ou select()\n",
        "train[, c(\"Survived\",\"Pclass\",\"Sex\",\"Age\",\"SibSp\",\"Parch\",\"Fare\",\"Embarked\",\"PassengerId\")]"
      ],
      "metadata": {
        "colab": {
          "base_uri": "https://localhost:8080/",
          "height": 1000
        },
        "id": "u4WgGi60pTo4",
        "outputId": "2fda92c7-9c19-41b3-e587-1ffc8f747dca"
      },
      "execution_count": null,
      "outputs": [
        {
          "output_type": "display_data",
          "data": {
            "text/html": [
              "<table class=\"dataframe\">\n",
              "<caption>A data.frame: 891 × 9</caption>\n",
              "<thead>\n",
              "\t<tr><th scope=col>Survived</th><th scope=col>Pclass</th><th scope=col>Sex</th><th scope=col>Age</th><th scope=col>SibSp</th><th scope=col>Parch</th><th scope=col>Fare</th><th scope=col>Embarked</th><th scope=col>PassengerId</th></tr>\n",
              "\t<tr><th scope=col>&lt;int&gt;</th><th scope=col>&lt;int&gt;</th><th scope=col>&lt;chr&gt;</th><th scope=col>&lt;dbl&gt;</th><th scope=col>&lt;int&gt;</th><th scope=col>&lt;int&gt;</th><th scope=col>&lt;dbl&gt;</th><th scope=col>&lt;chr&gt;</th><th scope=col>&lt;int&gt;</th></tr>\n",
              "</thead>\n",
              "<tbody>\n",
              "\t<tr><td>0</td><td>3</td><td>male  </td><td>29</td><td>0</td><td>0</td><td>  7.8542</td><td>S</td><td> 2</td></tr>\n",
              "\t<tr><td>1</td><td>1</td><td>female</td><td>37</td><td>1</td><td>0</td><td> 90.0000</td><td>Q</td><td> 3</td></tr>\n",
              "\t<tr><td>0</td><td>2</td><td>male  </td><td>36</td><td>0</td><td>0</td><td> 13.0000</td><td>S</td><td> 4</td></tr>\n",
              "\t<tr><td>1</td><td>1</td><td>female</td><td>NA</td><td>0</td><td>1</td><td> 55.0000</td><td>S</td><td> 5</td></tr>\n",
              "\t<tr><td>0</td><td>3</td><td>male  </td><td>30</td><td>0</td><td>0</td><td>  8.0500</td><td>S</td><td> 6</td></tr>\n",
              "\t<tr><td>0</td><td>3</td><td>male  </td><td>21</td><td>1</td><td>0</td><td>  6.4958</td><td>S</td><td>10</td></tr>\n",
              "\t<tr><td>1</td><td>1</td><td>male  </td><td>53</td><td>1</td><td>1</td><td> 81.8583</td><td>S</td><td>11</td></tr>\n",
              "\t<tr><td>0</td><td>3</td><td>male  </td><td>20</td><td>0</td><td>0</td><td>  7.9250</td><td>S</td><td>12</td></tr>\n",
              "\t<tr><td>0</td><td>3</td><td>male  </td><td>26</td><td>0</td><td>0</td><td>  7.8958</td><td>S</td><td>13</td></tr>\n",
              "\t<tr><td>1</td><td>2</td><td>male  </td><td>62</td><td>0</td><td>0</td><td> 10.5000</td><td>S</td><td>15</td></tr>\n",
              "\t<tr><td>1</td><td>3</td><td>male  </td><td>24</td><td>0</td><td>0</td><td>  7.5500</td><td>S</td><td>17</td></tr>\n",
              "\t<tr><td>1</td><td>1</td><td>female</td><td>38</td><td>0</td><td>0</td><td>227.5250</td><td>C</td><td>18</td></tr>\n",
              "\t<tr><td>0</td><td>2</td><td>female</td><td>27</td><td>1</td><td>0</td><td> 21.0000</td><td>S</td><td>19</td></tr>\n",
              "\t<tr><td>1</td><td>3</td><td>male  </td><td>NA</td><td>0</td><td>0</td><td>  7.8875</td><td>S</td><td>21</td></tr>\n",
              "\t<tr><td>1</td><td>3</td><td>male  </td><td> 1</td><td>1</td><td>2</td><td> 20.5750</td><td>S</td><td>22</td></tr>\n",
              "\t<tr><td>0</td><td>2</td><td>male  </td><td>24</td><td>2</td><td>0</td><td> 31.5000</td><td>S</td><td>24</td></tr>\n",
              "\t<tr><td>0</td><td>3</td><td>male  </td><td>33</td><td>0</td><td>0</td><td>  8.6625</td><td>C</td><td>25</td></tr>\n",
              "\t<tr><td>1</td><td>1</td><td>female</td><td>29</td><td>0</td><td>0</td><td>211.3375</td><td>S</td><td>26</td></tr>\n",
              "\t<tr><td>0</td><td>1</td><td>male  </td><td>48</td><td>0</td><td>0</td><td> 50.4958</td><td>C</td><td>27</td></tr>\n",
              "\t<tr><td>1</td><td>2</td><td>female</td><td>14</td><td>1</td><td>0</td><td> 30.0708</td><td>C</td><td>28</td></tr>\n",
              "\t<tr><td>0</td><td>3</td><td>male  </td><td>27</td><td>0</td><td>0</td><td>  7.2250</td><td>C</td><td>30</td></tr>\n",
              "\t<tr><td>0</td><td>3</td><td>male  </td><td>18</td><td>0</td><td>0</td><td>  7.7750</td><td>S</td><td>31</td></tr>\n",
              "\t<tr><td>0</td><td>3</td><td>male  </td><td>23</td><td>0</td><td>0</td><td>  7.0500</td><td>S</td><td>32</td></tr>\n",
              "\t<tr><td>1</td><td>1</td><td>female</td><td>NA</td><td>0</td><td>0</td><td>110.8833</td><td>C</td><td>33</td></tr>\n",
              "\t<tr><td>1</td><td>1</td><td>female</td><td>NA</td><td>1</td><td>0</td><td>133.6500</td><td>S</td><td>34</td></tr>\n",
              "\t<tr><td>1</td><td>1</td><td>male  </td><td>32</td><td>0</td><td>0</td><td> 30.5000</td><td>C</td><td>35</td></tr>\n",
              "\t<tr><td>0</td><td>3</td><td>male  </td><td>NA</td><td>0</td><td>0</td><td>  7.7333</td><td>Q</td><td>36</td></tr>\n",
              "\t<tr><td>0</td><td>2</td><td>male  </td><td>26</td><td>0</td><td>0</td><td> 13.0000</td><td>S</td><td>38</td></tr>\n",
              "\t<tr><td>0</td><td>2</td><td>male  </td><td>27</td><td>0</td><td>0</td><td> 15.0333</td><td>C</td><td>39</td></tr>\n",
              "\t<tr><td>0</td><td>3</td><td>male  </td><td>74</td><td>0</td><td>0</td><td>  7.7750</td><td>S</td><td>40</td></tr>\n",
              "\t<tr><td>⋮</td><td>⋮</td><td>⋮</td><td>⋮</td><td>⋮</td><td>⋮</td><td>⋮</td><td>⋮</td><td>⋮</td></tr>\n",
              "\t<tr><td>1</td><td>2</td><td>female</td><td>36.0</td><td>0</td><td>3</td><td> 39.0000</td><td>S</td><td>1265</td></tr>\n",
              "\t<tr><td>1</td><td>2</td><td>male  </td><td>32.0</td><td>1</td><td>0</td><td> 26.0000</td><td>S</td><td>1266</td></tr>\n",
              "\t<tr><td>1</td><td>1</td><td>female</td><td>22.0</td><td>0</td><td>0</td><td>151.5500</td><td>S</td><td>1267</td></tr>\n",
              "\t<tr><td>1</td><td>1</td><td>male  </td><td>54.0</td><td>1</td><td>0</td><td> 55.4417</td><td>C</td><td>1268</td></tr>\n",
              "\t<tr><td>0</td><td>2</td><td>male  </td><td>54.0</td><td>0</td><td>0</td><td> 26.0000</td><td>S</td><td>1269</td></tr>\n",
              "\t<tr><td>0</td><td>3</td><td>male  </td><td>  NA</td><td>1</td><td>0</td><td> 14.4542</td><td>C</td><td>1271</td></tr>\n",
              "\t<tr><td>0</td><td>3</td><td>male  </td><td>  NA</td><td>0</td><td>0</td><td>  7.8958</td><td>C</td><td>1272</td></tr>\n",
              "\t<tr><td>0</td><td>3</td><td>male  </td><td> 7.0</td><td>4</td><td>1</td><td> 29.1250</td><td>Q</td><td>1273</td></tr>\n",
              "\t<tr><td>0</td><td>3</td><td>female</td><td>14.5</td><td>1</td><td>0</td><td> 14.4542</td><td>C</td><td>1275</td></tr>\n",
              "\t<tr><td>0</td><td>3</td><td>female</td><td>  NA</td><td>1</td><td>0</td><td> 14.4583</td><td>C</td><td>1276</td></tr>\n",
              "\t<tr><td>1</td><td>1</td><td>female</td><td>52.0</td><td>1</td><td>1</td><td> 93.5000</td><td>S</td><td>1277</td></tr>\n",
              "\t<tr><td>0</td><td>3</td><td>male  </td><td>  NA</td><td>0</td><td>0</td><td>  6.8583</td><td>Q</td><td>1280</td></tr>\n",
              "\t<tr><td>1</td><td>3</td><td>male  </td><td>25.0</td><td>1</td><td>0</td><td>  7.7750</td><td>S</td><td>1281</td></tr>\n",
              "\t<tr><td>0</td><td>3</td><td>male  </td><td>21.0</td><td>0</td><td>0</td><td>  7.9250</td><td>S</td><td>1282</td></tr>\n",
              "\t<tr><td>0</td><td>3</td><td>male  </td><td>  NA</td><td>0</td><td>0</td><td>  8.0500</td><td>S</td><td>1283</td></tr>\n",
              "\t<tr><td>1</td><td>2</td><td>female</td><td>22.0</td><td>1</td><td>1</td><td> 29.0000</td><td>S</td><td>1285</td></tr>\n",
              "\t<tr><td>0</td><td>1</td><td>male  </td><td>46.0</td><td>0</td><td>0</td><td> 79.2000</td><td>C</td><td>1286</td></tr>\n",
              "\t<tr><td>1</td><td>1</td><td>female</td><td>44.0</td><td>0</td><td>0</td><td> 27.7208</td><td>C</td><td>1287</td></tr>\n",
              "\t<tr><td>1</td><td>1</td><td>female</td><td>42.0</td><td>0</td><td>0</td><td>227.5250</td><td>C</td><td>1288</td></tr>\n",
              "\t<tr><td>0</td><td>2</td><td>male  </td><td>18.0</td><td>0</td><td>0</td><td> 11.5000</td><td>S</td><td>1289</td></tr>\n",
              "\t<tr><td>0</td><td>3</td><td>male  </td><td>20.0</td><td>0</td><td>0</td><td>  9.8458</td><td>S</td><td>1290</td></tr>\n",
              "\t<tr><td>0</td><td>1</td><td>male  </td><td>50.0</td><td>1</td><td>0</td><td>106.4250</td><td>C</td><td>1293</td></tr>\n",
              "\t<tr><td>0</td><td>3</td><td>female</td><td>18.0</td><td>0</td><td>1</td><td> 14.4542</td><td>C</td><td>1294</td></tr>\n",
              "\t<tr><td>0</td><td>3</td><td>male  </td><td>  NA</td><td>0</td><td>0</td><td>  7.7500</td><td>Q</td><td>1295</td></tr>\n",
              "\t<tr><td>0</td><td>3</td><td>male  </td><td>  NA</td><td>0</td><td>0</td><td>  7.7750</td><td>S</td><td>1296</td></tr>\n",
              "\t<tr><td>1</td><td>1</td><td>male  </td><td>36.0</td><td>0</td><td>0</td><td> 26.3875</td><td>S</td><td>1297</td></tr>\n",
              "\t<tr><td>0</td><td>2</td><td>male  </td><td>22.0</td><td>2</td><td>0</td><td> 31.5000</td><td>S</td><td>1298</td></tr>\n",
              "\t<tr><td>1</td><td>2</td><td>female</td><td>24.0</td><td>0</td><td>0</td><td> 13.0000</td><td>S</td><td>1299</td></tr>\n",
              "\t<tr><td>0</td><td>3</td><td>male  </td><td>31.0</td><td>0</td><td>0</td><td>  7.7750</td><td>S</td><td>1303</td></tr>\n",
              "\t<tr><td>0</td><td>3</td><td>male  </td><td>21.0</td><td>0</td><td>0</td><td>  8.0500</td><td>S</td><td>1304</td></tr>\n",
              "</tbody>\n",
              "</table>\n"
            ],
            "text/markdown": "\nA data.frame: 891 × 9\n\n| Survived &lt;int&gt; | Pclass &lt;int&gt; | Sex &lt;chr&gt; | Age &lt;dbl&gt; | SibSp &lt;int&gt; | Parch &lt;int&gt; | Fare &lt;dbl&gt; | Embarked &lt;chr&gt; | PassengerId &lt;int&gt; |\n|---|---|---|---|---|---|---|---|---|\n| 0 | 3 | male   | 29 | 0 | 0 |   7.8542 | S |  2 |\n| 1 | 1 | female | 37 | 1 | 0 |  90.0000 | Q |  3 |\n| 0 | 2 | male   | 36 | 0 | 0 |  13.0000 | S |  4 |\n| 1 | 1 | female | NA | 0 | 1 |  55.0000 | S |  5 |\n| 0 | 3 | male   | 30 | 0 | 0 |   8.0500 | S |  6 |\n| 0 | 3 | male   | 21 | 1 | 0 |   6.4958 | S | 10 |\n| 1 | 1 | male   | 53 | 1 | 1 |  81.8583 | S | 11 |\n| 0 | 3 | male   | 20 | 0 | 0 |   7.9250 | S | 12 |\n| 0 | 3 | male   | 26 | 0 | 0 |   7.8958 | S | 13 |\n| 1 | 2 | male   | 62 | 0 | 0 |  10.5000 | S | 15 |\n| 1 | 3 | male   | 24 | 0 | 0 |   7.5500 | S | 17 |\n| 1 | 1 | female | 38 | 0 | 0 | 227.5250 | C | 18 |\n| 0 | 2 | female | 27 | 1 | 0 |  21.0000 | S | 19 |\n| 1 | 3 | male   | NA | 0 | 0 |   7.8875 | S | 21 |\n| 1 | 3 | male   |  1 | 1 | 2 |  20.5750 | S | 22 |\n| 0 | 2 | male   | 24 | 2 | 0 |  31.5000 | S | 24 |\n| 0 | 3 | male   | 33 | 0 | 0 |   8.6625 | C | 25 |\n| 1 | 1 | female | 29 | 0 | 0 | 211.3375 | S | 26 |\n| 0 | 1 | male   | 48 | 0 | 0 |  50.4958 | C | 27 |\n| 1 | 2 | female | 14 | 1 | 0 |  30.0708 | C | 28 |\n| 0 | 3 | male   | 27 | 0 | 0 |   7.2250 | C | 30 |\n| 0 | 3 | male   | 18 | 0 | 0 |   7.7750 | S | 31 |\n| 0 | 3 | male   | 23 | 0 | 0 |   7.0500 | S | 32 |\n| 1 | 1 | female | NA | 0 | 0 | 110.8833 | C | 33 |\n| 1 | 1 | female | NA | 1 | 0 | 133.6500 | S | 34 |\n| 1 | 1 | male   | 32 | 0 | 0 |  30.5000 | C | 35 |\n| 0 | 3 | male   | NA | 0 | 0 |   7.7333 | Q | 36 |\n| 0 | 2 | male   | 26 | 0 | 0 |  13.0000 | S | 38 |\n| 0 | 2 | male   | 27 | 0 | 0 |  15.0333 | C | 39 |\n| 0 | 3 | male   | 74 | 0 | 0 |   7.7750 | S | 40 |\n| ⋮ | ⋮ | ⋮ | ⋮ | ⋮ | ⋮ | ⋮ | ⋮ | ⋮ |\n| 1 | 2 | female | 36.0 | 0 | 3 |  39.0000 | S | 1265 |\n| 1 | 2 | male   | 32.0 | 1 | 0 |  26.0000 | S | 1266 |\n| 1 | 1 | female | 22.0 | 0 | 0 | 151.5500 | S | 1267 |\n| 1 | 1 | male   | 54.0 | 1 | 0 |  55.4417 | C | 1268 |\n| 0 | 2 | male   | 54.0 | 0 | 0 |  26.0000 | S | 1269 |\n| 0 | 3 | male   |   NA | 1 | 0 |  14.4542 | C | 1271 |\n| 0 | 3 | male   |   NA | 0 | 0 |   7.8958 | C | 1272 |\n| 0 | 3 | male   |  7.0 | 4 | 1 |  29.1250 | Q | 1273 |\n| 0 | 3 | female | 14.5 | 1 | 0 |  14.4542 | C | 1275 |\n| 0 | 3 | female |   NA | 1 | 0 |  14.4583 | C | 1276 |\n| 1 | 1 | female | 52.0 | 1 | 1 |  93.5000 | S | 1277 |\n| 0 | 3 | male   |   NA | 0 | 0 |   6.8583 | Q | 1280 |\n| 1 | 3 | male   | 25.0 | 1 | 0 |   7.7750 | S | 1281 |\n| 0 | 3 | male   | 21.0 | 0 | 0 |   7.9250 | S | 1282 |\n| 0 | 3 | male   |   NA | 0 | 0 |   8.0500 | S | 1283 |\n| 1 | 2 | female | 22.0 | 1 | 1 |  29.0000 | S | 1285 |\n| 0 | 1 | male   | 46.0 | 0 | 0 |  79.2000 | C | 1286 |\n| 1 | 1 | female | 44.0 | 0 | 0 |  27.7208 | C | 1287 |\n| 1 | 1 | female | 42.0 | 0 | 0 | 227.5250 | C | 1288 |\n| 0 | 2 | male   | 18.0 | 0 | 0 |  11.5000 | S | 1289 |\n| 0 | 3 | male   | 20.0 | 0 | 0 |   9.8458 | S | 1290 |\n| 0 | 1 | male   | 50.0 | 1 | 0 | 106.4250 | C | 1293 |\n| 0 | 3 | female | 18.0 | 0 | 1 |  14.4542 | C | 1294 |\n| 0 | 3 | male   |   NA | 0 | 0 |   7.7500 | Q | 1295 |\n| 0 | 3 | male   |   NA | 0 | 0 |   7.7750 | S | 1296 |\n| 1 | 1 | male   | 36.0 | 0 | 0 |  26.3875 | S | 1297 |\n| 0 | 2 | male   | 22.0 | 2 | 0 |  31.5000 | S | 1298 |\n| 1 | 2 | female | 24.0 | 0 | 0 |  13.0000 | S | 1299 |\n| 0 | 3 | male   | 31.0 | 0 | 0 |   7.7750 | S | 1303 |\n| 0 | 3 | male   | 21.0 | 0 | 0 |   8.0500 | S | 1304 |\n\n",
            "text/latex": "A data.frame: 891 × 9\n\\begin{tabular}{lllllllll}\n Survived & Pclass & Sex & Age & SibSp & Parch & Fare & Embarked & PassengerId\\\\\n <int> & <int> & <chr> & <dbl> & <int> & <int> & <dbl> & <chr> & <int>\\\\\n\\hline\n\t 0 & 3 & male   & 29 & 0 & 0 &   7.8542 & S &  2\\\\\n\t 1 & 1 & female & 37 & 1 & 0 &  90.0000 & Q &  3\\\\\n\t 0 & 2 & male   & 36 & 0 & 0 &  13.0000 & S &  4\\\\\n\t 1 & 1 & female & NA & 0 & 1 &  55.0000 & S &  5\\\\\n\t 0 & 3 & male   & 30 & 0 & 0 &   8.0500 & S &  6\\\\\n\t 0 & 3 & male   & 21 & 1 & 0 &   6.4958 & S & 10\\\\\n\t 1 & 1 & male   & 53 & 1 & 1 &  81.8583 & S & 11\\\\\n\t 0 & 3 & male   & 20 & 0 & 0 &   7.9250 & S & 12\\\\\n\t 0 & 3 & male   & 26 & 0 & 0 &   7.8958 & S & 13\\\\\n\t 1 & 2 & male   & 62 & 0 & 0 &  10.5000 & S & 15\\\\\n\t 1 & 3 & male   & 24 & 0 & 0 &   7.5500 & S & 17\\\\\n\t 1 & 1 & female & 38 & 0 & 0 & 227.5250 & C & 18\\\\\n\t 0 & 2 & female & 27 & 1 & 0 &  21.0000 & S & 19\\\\\n\t 1 & 3 & male   & NA & 0 & 0 &   7.8875 & S & 21\\\\\n\t 1 & 3 & male   &  1 & 1 & 2 &  20.5750 & S & 22\\\\\n\t 0 & 2 & male   & 24 & 2 & 0 &  31.5000 & S & 24\\\\\n\t 0 & 3 & male   & 33 & 0 & 0 &   8.6625 & C & 25\\\\\n\t 1 & 1 & female & 29 & 0 & 0 & 211.3375 & S & 26\\\\\n\t 0 & 1 & male   & 48 & 0 & 0 &  50.4958 & C & 27\\\\\n\t 1 & 2 & female & 14 & 1 & 0 &  30.0708 & C & 28\\\\\n\t 0 & 3 & male   & 27 & 0 & 0 &   7.2250 & C & 30\\\\\n\t 0 & 3 & male   & 18 & 0 & 0 &   7.7750 & S & 31\\\\\n\t 0 & 3 & male   & 23 & 0 & 0 &   7.0500 & S & 32\\\\\n\t 1 & 1 & female & NA & 0 & 0 & 110.8833 & C & 33\\\\\n\t 1 & 1 & female & NA & 1 & 0 & 133.6500 & S & 34\\\\\n\t 1 & 1 & male   & 32 & 0 & 0 &  30.5000 & C & 35\\\\\n\t 0 & 3 & male   & NA & 0 & 0 &   7.7333 & Q & 36\\\\\n\t 0 & 2 & male   & 26 & 0 & 0 &  13.0000 & S & 38\\\\\n\t 0 & 2 & male   & 27 & 0 & 0 &  15.0333 & C & 39\\\\\n\t 0 & 3 & male   & 74 & 0 & 0 &   7.7750 & S & 40\\\\\n\t ⋮ & ⋮ & ⋮ & ⋮ & ⋮ & ⋮ & ⋮ & ⋮ & ⋮\\\\\n\t 1 & 2 & female & 36.0 & 0 & 3 &  39.0000 & S & 1265\\\\\n\t 1 & 2 & male   & 32.0 & 1 & 0 &  26.0000 & S & 1266\\\\\n\t 1 & 1 & female & 22.0 & 0 & 0 & 151.5500 & S & 1267\\\\\n\t 1 & 1 & male   & 54.0 & 1 & 0 &  55.4417 & C & 1268\\\\\n\t 0 & 2 & male   & 54.0 & 0 & 0 &  26.0000 & S & 1269\\\\\n\t 0 & 3 & male   &   NA & 1 & 0 &  14.4542 & C & 1271\\\\\n\t 0 & 3 & male   &   NA & 0 & 0 &   7.8958 & C & 1272\\\\\n\t 0 & 3 & male   &  7.0 & 4 & 1 &  29.1250 & Q & 1273\\\\\n\t 0 & 3 & female & 14.5 & 1 & 0 &  14.4542 & C & 1275\\\\\n\t 0 & 3 & female &   NA & 1 & 0 &  14.4583 & C & 1276\\\\\n\t 1 & 1 & female & 52.0 & 1 & 1 &  93.5000 & S & 1277\\\\\n\t 0 & 3 & male   &   NA & 0 & 0 &   6.8583 & Q & 1280\\\\\n\t 1 & 3 & male   & 25.0 & 1 & 0 &   7.7750 & S & 1281\\\\\n\t 0 & 3 & male   & 21.0 & 0 & 0 &   7.9250 & S & 1282\\\\\n\t 0 & 3 & male   &   NA & 0 & 0 &   8.0500 & S & 1283\\\\\n\t 1 & 2 & female & 22.0 & 1 & 1 &  29.0000 & S & 1285\\\\\n\t 0 & 1 & male   & 46.0 & 0 & 0 &  79.2000 & C & 1286\\\\\n\t 1 & 1 & female & 44.0 & 0 & 0 &  27.7208 & C & 1287\\\\\n\t 1 & 1 & female & 42.0 & 0 & 0 & 227.5250 & C & 1288\\\\\n\t 0 & 2 & male   & 18.0 & 0 & 0 &  11.5000 & S & 1289\\\\\n\t 0 & 3 & male   & 20.0 & 0 & 0 &   9.8458 & S & 1290\\\\\n\t 0 & 1 & male   & 50.0 & 1 & 0 & 106.4250 & C & 1293\\\\\n\t 0 & 3 & female & 18.0 & 0 & 1 &  14.4542 & C & 1294\\\\\n\t 0 & 3 & male   &   NA & 0 & 0 &   7.7500 & Q & 1295\\\\\n\t 0 & 3 & male   &   NA & 0 & 0 &   7.7750 & S & 1296\\\\\n\t 1 & 1 & male   & 36.0 & 0 & 0 &  26.3875 & S & 1297\\\\\n\t 0 & 2 & male   & 22.0 & 2 & 0 &  31.5000 & S & 1298\\\\\n\t 1 & 2 & female & 24.0 & 0 & 0 &  13.0000 & S & 1299\\\\\n\t 0 & 3 & male   & 31.0 & 0 & 0 &   7.7750 & S & 1303\\\\\n\t 0 & 3 & male   & 21.0 & 0 & 0 &   8.0500 & S & 1304\\\\\n\\end{tabular}\n",
            "text/plain": [
              "    Survived Pclass Sex    Age  SibSp Parch Fare     Embarked PassengerId\n",
              "1   0        3      male   29   0     0       7.8542 S         2         \n",
              "2   1        1      female 37   1     0      90.0000 Q         3         \n",
              "3   0        2      male   36   0     0      13.0000 S         4         \n",
              "4   1        1      female NA   0     1      55.0000 S         5         \n",
              "5   0        3      male   30   0     0       8.0500 S         6         \n",
              "6   0        3      male   21   1     0       6.4958 S        10         \n",
              "7   1        1      male   53   1     1      81.8583 S        11         \n",
              "8   0        3      male   20   0     0       7.9250 S        12         \n",
              "9   0        3      male   26   0     0       7.8958 S        13         \n",
              "10  1        2      male   62   0     0      10.5000 S        15         \n",
              "11  1        3      male   24   0     0       7.5500 S        17         \n",
              "12  1        1      female 38   0     0     227.5250 C        18         \n",
              "13  0        2      female 27   1     0      21.0000 S        19         \n",
              "14  1        3      male   NA   0     0       7.8875 S        21         \n",
              "15  1        3      male    1   1     2      20.5750 S        22         \n",
              "16  0        2      male   24   2     0      31.5000 S        24         \n",
              "17  0        3      male   33   0     0       8.6625 C        25         \n",
              "18  1        1      female 29   0     0     211.3375 S        26         \n",
              "19  0        1      male   48   0     0      50.4958 C        27         \n",
              "20  1        2      female 14   1     0      30.0708 C        28         \n",
              "21  0        3      male   27   0     0       7.2250 C        30         \n",
              "22  0        3      male   18   0     0       7.7750 S        31         \n",
              "23  0        3      male   23   0     0       7.0500 S        32         \n",
              "24  1        1      female NA   0     0     110.8833 C        33         \n",
              "25  1        1      female NA   1     0     133.6500 S        34         \n",
              "26  1        1      male   32   0     0      30.5000 C        35         \n",
              "27  0        3      male   NA   0     0       7.7333 Q        36         \n",
              "28  0        2      male   26   0     0      13.0000 S        38         \n",
              "29  0        2      male   27   0     0      15.0333 C        39         \n",
              "30  0        3      male   74   0     0       7.7750 S        40         \n",
              "⋮   ⋮        ⋮      ⋮      ⋮    ⋮     ⋮     ⋮        ⋮        ⋮          \n",
              "862 1        2      female 36.0 0     3      39.0000 S        1265       \n",
              "863 1        2      male   32.0 1     0      26.0000 S        1266       \n",
              "864 1        1      female 22.0 0     0     151.5500 S        1267       \n",
              "865 1        1      male   54.0 1     0      55.4417 C        1268       \n",
              "866 0        2      male   54.0 0     0      26.0000 S        1269       \n",
              "867 0        3      male     NA 1     0      14.4542 C        1271       \n",
              "868 0        3      male     NA 0     0       7.8958 C        1272       \n",
              "869 0        3      male    7.0 4     1      29.1250 Q        1273       \n",
              "870 0        3      female 14.5 1     0      14.4542 C        1275       \n",
              "871 0        3      female   NA 1     0      14.4583 C        1276       \n",
              "872 1        1      female 52.0 1     1      93.5000 S        1277       \n",
              "873 0        3      male     NA 0     0       6.8583 Q        1280       \n",
              "874 1        3      male   25.0 1     0       7.7750 S        1281       \n",
              "875 0        3      male   21.0 0     0       7.9250 S        1282       \n",
              "876 0        3      male     NA 0     0       8.0500 S        1283       \n",
              "877 1        2      female 22.0 1     1      29.0000 S        1285       \n",
              "878 0        1      male   46.0 0     0      79.2000 C        1286       \n",
              "879 1        1      female 44.0 0     0      27.7208 C        1287       \n",
              "880 1        1      female 42.0 0     0     227.5250 C        1288       \n",
              "881 0        2      male   18.0 0     0      11.5000 S        1289       \n",
              "882 0        3      male   20.0 0     0       9.8458 S        1290       \n",
              "883 0        1      male   50.0 1     0     106.4250 C        1293       \n",
              "884 0        3      female 18.0 0     1      14.4542 C        1294       \n",
              "885 0        3      male     NA 0     0       7.7500 Q        1295       \n",
              "886 0        3      male     NA 0     0       7.7750 S        1296       \n",
              "887 1        1      male   36.0 0     0      26.3875 S        1297       \n",
              "888 0        2      male   22.0 2     0      31.5000 S        1298       \n",
              "889 1        2      female 24.0 0     0      13.0000 S        1299       \n",
              "890 0        3      male   31.0 0     0       7.7750 S        1303       \n",
              "891 0        3      male   21.0 0     0       8.0500 S        1304       "
            ]
          },
          "metadata": {}
        }
      ]
    },
    {
      "cell_type": "markdown",
      "source": [
        "A2) Você deve  atribuir um valor para os NAs na variável Age. Utilize algum critério razoável, por exemplo, o valor médio."
      ],
      "metadata": {
        "id": "BMNyLDfOid5I"
      }
    },
    {
      "cell_type": "code",
      "source": [
        "# Dica: mean(train$Age, na.rm=TRUE)\n",
        "# Dica: função mutate()\n",
        "\n",
        "a = mean(train$Age, na.rm=TRUE)\n",
        "a\n"
      ],
      "metadata": {
        "colab": {
          "base_uri": "https://localhost:8080/",
          "height": 34
        },
        "id": "YrC7SSjflUuk",
        "outputId": "77e6c280-294a-4a5a-f493-3bdd985ac74e"
      },
      "execution_count": null,
      "outputs": [
        {
          "output_type": "display_data",
          "data": {
            "text/html": [
              "29.9936254520167"
            ],
            "text/markdown": "29.9936254520167",
            "text/latex": "29.9936254520167",
            "text/plain": [
              "[1] 29.99363"
            ]
          },
          "metadata": {}
        }
      ]
    },
    {
      "cell_type": "code",
      "source": [
        "is.na(train$Age)"
      ],
      "metadata": {
        "colab": {
          "base_uri": "https://localhost:8080/",
          "height": 243
        },
        "id": "WWBo9bJYKrOi",
        "outputId": "cf76787b-d905-49c8-ddb4-09e09bfa82c8"
      },
      "execution_count": null,
      "outputs": [
        {
          "output_type": "display_data",
          "data": {
            "text/html": [
              "<style>\n",
              ".list-inline {list-style: none; margin:0; padding: 0}\n",
              ".list-inline>li {display: inline-block}\n",
              ".list-inline>li:not(:last-child)::after {content: \"\\00b7\"; padding: 0 .5ex}\n",
              "</style>\n",
              "<ol class=list-inline><li>FALSE</li><li>FALSE</li><li>FALSE</li><li>TRUE</li><li>FALSE</li><li>FALSE</li><li>FALSE</li><li>FALSE</li><li>FALSE</li><li>FALSE</li><li>FALSE</li><li>FALSE</li><li>FALSE</li><li>TRUE</li><li>FALSE</li><li>FALSE</li><li>FALSE</li><li>FALSE</li><li>FALSE</li><li>FALSE</li><li>FALSE</li><li>FALSE</li><li>FALSE</li><li>TRUE</li><li>TRUE</li><li>FALSE</li><li>TRUE</li><li>FALSE</li><li>FALSE</li><li>FALSE</li><li>FALSE</li><li>FALSE</li><li>FALSE</li><li>FALSE</li><li>FALSE</li><li>FALSE</li><li>FALSE</li><li>TRUE</li><li>TRUE</li><li>FALSE</li><li>FALSE</li><li>FALSE</li><li>TRUE</li><li>FALSE</li><li>FALSE</li><li>FALSE</li><li>TRUE</li><li>FALSE</li><li>FALSE</li><li>FALSE</li><li>FALSE</li><li>TRUE</li><li>FALSE</li><li>TRUE</li><li>FALSE</li><li>FALSE</li><li>TRUE</li><li>FALSE</li><li>FALSE</li><li>TRUE</li><li>FALSE</li><li>FALSE</li><li>TRUE</li><li>FALSE</li><li>TRUE</li><li>FALSE</li><li>FALSE</li><li>FALSE</li><li>FALSE</li><li>FALSE</li><li>FALSE</li><li>TRUE</li><li>FALSE</li><li>TRUE</li><li>TRUE</li><li>TRUE</li><li>FALSE</li><li>FALSE</li><li>FALSE</li><li>FALSE</li><li>FALSE</li><li>FALSE</li><li>FALSE</li><li>FALSE</li><li>TRUE</li><li>TRUE</li><li>TRUE</li><li>FALSE</li><li>FALSE</li><li>TRUE</li><li>FALSE</li><li>FALSE</li><li>FALSE</li><li>FALSE</li><li>FALSE</li><li>FALSE</li><li>FALSE</li><li>FALSE</li><li>FALSE</li><li>FALSE</li><li>FALSE</li><li>FALSE</li><li>FALSE</li><li>FALSE</li><li>FALSE</li><li>FALSE</li><li>FALSE</li><li>FALSE</li><li>FALSE</li><li>FALSE</li><li>FALSE</li><li>TRUE</li><li>FALSE</li><li>FALSE</li><li>TRUE</li><li>FALSE</li><li>FALSE</li><li>FALSE</li><li>FALSE</li><li>FALSE</li><li>TRUE</li><li>FALSE</li><li>FALSE</li><li>FALSE</li><li>FALSE</li><li>FALSE</li><li>FALSE</li><li>FALSE</li><li>TRUE</li><li>FALSE</li><li>FALSE</li><li>FALSE</li><li>FALSE</li><li>FALSE</li><li>FALSE</li><li>FALSE</li><li>FALSE</li><li>FALSE</li><li>FALSE</li><li>FALSE</li><li>FALSE</li><li>TRUE</li><li>FALSE</li><li>FALSE</li><li>FALSE</li><li>FALSE</li><li>FALSE</li><li>FALSE</li><li>TRUE</li><li>FALSE</li><li>FALSE</li><li>TRUE</li><li>FALSE</li><li>FALSE</li><li>TRUE</li><li>FALSE</li><li>FALSE</li><li>FALSE</li><li>TRUE</li><li>FALSE</li><li>FALSE</li><li>TRUE</li><li>FALSE</li><li>FALSE</li><li>FALSE</li><li>FALSE</li><li>FALSE</li><li>FALSE</li><li>FALSE</li><li>TRUE</li><li>FALSE</li><li>FALSE</li><li>FALSE</li><li>FALSE</li><li>FALSE</li><li>FALSE</li><li>FALSE</li><li>FALSE</li><li>FALSE</li><li>FALSE</li><li>TRUE</li><li>FALSE</li><li>FALSE</li><li>FALSE</li><li>FALSE</li><li>TRUE</li><li>FALSE</li><li>FALSE</li><li>FALSE</li><li>FALSE</li><li>FALSE</li><li>FALSE</li><li>FALSE</li><li>FALSE</li><li>FALSE</li><li>FALSE</li><li>FALSE</li><li>FALSE</li><li>FALSE</li><li>FALSE</li><li>⋯</li><li>TRUE</li><li>FALSE</li><li>FALSE</li><li>FALSE</li><li>FALSE</li><li>TRUE</li><li>FALSE</li><li>FALSE</li><li>TRUE</li><li>FALSE</li><li>FALSE</li><li>FALSE</li><li>FALSE</li><li>FALSE</li><li>FALSE</li><li>FALSE</li><li>FALSE</li><li>FALSE</li><li>FALSE</li><li>FALSE</li><li>FALSE</li><li>FALSE</li><li>FALSE</li><li>FALSE</li><li>FALSE</li><li>FALSE</li><li>FALSE</li><li>FALSE</li><li>FALSE</li><li>FALSE</li><li>TRUE</li><li>TRUE</li><li>FALSE</li><li>FALSE</li><li>FALSE</li><li>FALSE</li><li>FALSE</li><li>FALSE</li><li>FALSE</li><li>FALSE</li><li>FALSE</li><li>FALSE</li><li>FALSE</li><li>FALSE</li><li>FALSE</li><li>FALSE</li><li>FALSE</li><li>FALSE</li><li>FALSE</li><li>FALSE</li><li>FALSE</li><li>FALSE</li><li>FALSE</li><li>FALSE</li><li>FALSE</li><li>FALSE</li><li>FALSE</li><li>FALSE</li><li>TRUE</li><li>FALSE</li><li>FALSE</li><li>FALSE</li><li>FALSE</li><li>TRUE</li><li>TRUE</li><li>FALSE</li><li>FALSE</li><li>FALSE</li><li>FALSE</li><li>FALSE</li><li>TRUE</li><li>FALSE</li><li>FALSE</li><li>FALSE</li><li>TRUE</li><li>TRUE</li><li>FALSE</li><li>FALSE</li><li>FALSE</li><li>FALSE</li><li>FALSE</li><li>TRUE</li><li>FALSE</li><li>FALSE</li><li>FALSE</li><li>FALSE</li><li>FALSE</li><li>TRUE</li><li>FALSE</li><li>FALSE</li><li>FALSE</li><li>TRUE</li><li>FALSE</li><li>FALSE</li><li>FALSE</li><li>FALSE</li><li>FALSE</li><li>FALSE</li><li>FALSE</li><li>FALSE</li><li>FALSE</li><li>FALSE</li><li>FALSE</li><li>FALSE</li><li>FALSE</li><li>TRUE</li><li>FALSE</li><li>TRUE</li><li>TRUE</li><li>FALSE</li><li>FALSE</li><li>TRUE</li><li>TRUE</li><li>FALSE</li><li>FALSE</li><li>FALSE</li><li>FALSE</li><li>FALSE</li><li>TRUE</li><li>FALSE</li><li>FALSE</li><li>TRUE</li><li>FALSE</li><li>FALSE</li><li>FALSE</li><li>FALSE</li><li>FALSE</li><li>FALSE</li><li>FALSE</li><li>TRUE</li><li>TRUE</li><li>FALSE</li><li>FALSE</li><li>TRUE</li><li>FALSE</li><li>FALSE</li><li>FALSE</li><li>TRUE</li><li>FALSE</li><li>FALSE</li><li>FALSE</li><li>FALSE</li><li>FALSE</li><li>FALSE</li><li>FALSE</li><li>FALSE</li><li>FALSE</li><li>FALSE</li><li>FALSE</li><li>FALSE</li><li>FALSE</li><li>FALSE</li><li>TRUE</li><li>FALSE</li><li>FALSE</li><li>FALSE</li><li>FALSE</li><li>FALSE</li><li>TRUE</li><li>FALSE</li><li>FALSE</li><li>FALSE</li><li>FALSE</li><li>FALSE</li><li>FALSE</li><li>FALSE</li><li>FALSE</li><li>TRUE</li><li>FALSE</li><li>FALSE</li><li>FALSE</li><li>FALSE</li><li>FALSE</li><li>FALSE</li><li>FALSE</li><li>TRUE</li><li>TRUE</li><li>FALSE</li><li>FALSE</li><li>TRUE</li><li>FALSE</li><li>TRUE</li><li>FALSE</li><li>FALSE</li><li>TRUE</li><li>FALSE</li><li>FALSE</li><li>FALSE</li><li>FALSE</li><li>FALSE</li><li>FALSE</li><li>FALSE</li><li>FALSE</li><li>TRUE</li><li>TRUE</li><li>FALSE</li><li>FALSE</li><li>FALSE</li><li>FALSE</li><li>FALSE</li></ol>\n"
            ],
            "text/markdown": "1. FALSE\n2. FALSE\n3. FALSE\n4. TRUE\n5. FALSE\n6. FALSE\n7. FALSE\n8. FALSE\n9. FALSE\n10. FALSE\n11. FALSE\n12. FALSE\n13. FALSE\n14. TRUE\n15. FALSE\n16. FALSE\n17. FALSE\n18. FALSE\n19. FALSE\n20. FALSE\n21. FALSE\n22. FALSE\n23. FALSE\n24. TRUE\n25. TRUE\n26. FALSE\n27. TRUE\n28. FALSE\n29. FALSE\n30. FALSE\n31. FALSE\n32. FALSE\n33. FALSE\n34. FALSE\n35. FALSE\n36. FALSE\n37. FALSE\n38. TRUE\n39. TRUE\n40. FALSE\n41. FALSE\n42. FALSE\n43. TRUE\n44. FALSE\n45. FALSE\n46. FALSE\n47. TRUE\n48. FALSE\n49. FALSE\n50. FALSE\n51. FALSE\n52. TRUE\n53. FALSE\n54. TRUE\n55. FALSE\n56. FALSE\n57. TRUE\n58. FALSE\n59. FALSE\n60. TRUE\n61. FALSE\n62. FALSE\n63. TRUE\n64. FALSE\n65. TRUE\n66. FALSE\n67. FALSE\n68. FALSE\n69. FALSE\n70. FALSE\n71. FALSE\n72. TRUE\n73. FALSE\n74. TRUE\n75. TRUE\n76. TRUE\n77. FALSE\n78. FALSE\n79. FALSE\n80. FALSE\n81. FALSE\n82. FALSE\n83. FALSE\n84. FALSE\n85. TRUE\n86. TRUE\n87. TRUE\n88. FALSE\n89. FALSE\n90. TRUE\n91. FALSE\n92. FALSE\n93. FALSE\n94. FALSE\n95. FALSE\n96. FALSE\n97. FALSE\n98. FALSE\n99. FALSE\n100. FALSE\n101. FALSE\n102. FALSE\n103. FALSE\n104. FALSE\n105. FALSE\n106. FALSE\n107. FALSE\n108. FALSE\n109. FALSE\n110. FALSE\n111. FALSE\n112. TRUE\n113. FALSE\n114. FALSE\n115. TRUE\n116. FALSE\n117. FALSE\n118. FALSE\n119. FALSE\n120. FALSE\n121. TRUE\n122. FALSE\n123. FALSE\n124. FALSE\n125. FALSE\n126. FALSE\n127. FALSE\n128. FALSE\n129. TRUE\n130. FALSE\n131. FALSE\n132. FALSE\n133. FALSE\n134. FALSE\n135. FALSE\n136. FALSE\n137. FALSE\n138. FALSE\n139. FALSE\n140. FALSE\n141. FALSE\n142. TRUE\n143. FALSE\n144. FALSE\n145. FALSE\n146. FALSE\n147. FALSE\n148. FALSE\n149. TRUE\n150. FALSE\n151. FALSE\n152. TRUE\n153. FALSE\n154. FALSE\n155. TRUE\n156. FALSE\n157. FALSE\n158. FALSE\n159. TRUE\n160. FALSE\n161. FALSE\n162. TRUE\n163. FALSE\n164. FALSE\n165. FALSE\n166. FALSE\n167. FALSE\n168. FALSE\n169. FALSE\n170. TRUE\n171. FALSE\n172. FALSE\n173. FALSE\n174. FALSE\n175. FALSE\n176. FALSE\n177. FALSE\n178. FALSE\n179. FALSE\n180. FALSE\n181. TRUE\n182. FALSE\n183. FALSE\n184. FALSE\n185. FALSE\n186. TRUE\n187. FALSE\n188. FALSE\n189. FALSE\n190. FALSE\n191. FALSE\n192. FALSE\n193. FALSE\n194. FALSE\n195. FALSE\n196. FALSE\n197. FALSE\n198. FALSE\n199. FALSE\n200. FALSE\n201. ⋯\n202. TRUE\n203. FALSE\n204. FALSE\n205. FALSE\n206. FALSE\n207. TRUE\n208. FALSE\n209. FALSE\n210. TRUE\n211. FALSE\n212. FALSE\n213. FALSE\n214. FALSE\n215. FALSE\n216. FALSE\n217. FALSE\n218. FALSE\n219. FALSE\n220. FALSE\n221. FALSE\n222. FALSE\n223. FALSE\n224. FALSE\n225. FALSE\n226. FALSE\n227. FALSE\n228. FALSE\n229. FALSE\n230. FALSE\n231. FALSE\n232. TRUE\n233. TRUE\n234. FALSE\n235. FALSE\n236. FALSE\n237. FALSE\n238. FALSE\n239. FALSE\n240. FALSE\n241. FALSE\n242. FALSE\n243. FALSE\n244. FALSE\n245. FALSE\n246. FALSE\n247. FALSE\n248. FALSE\n249. FALSE\n250. FALSE\n251. FALSE\n252. FALSE\n253. FALSE\n254. FALSE\n255. FALSE\n256. FALSE\n257. FALSE\n258. FALSE\n259. FALSE\n260. TRUE\n261. FALSE\n262. FALSE\n263. FALSE\n264. FALSE\n265. TRUE\n266. TRUE\n267. FALSE\n268. FALSE\n269. FALSE\n270. FALSE\n271. FALSE\n272. TRUE\n273. FALSE\n274. FALSE\n275. FALSE\n276. TRUE\n277. TRUE\n278. FALSE\n279. FALSE\n280. FALSE\n281. FALSE\n282. FALSE\n283. TRUE\n284. FALSE\n285. FALSE\n286. FALSE\n287. FALSE\n288. FALSE\n289. TRUE\n290. FALSE\n291. FALSE\n292. FALSE\n293. TRUE\n294. FALSE\n295. FALSE\n296. FALSE\n297. FALSE\n298. FALSE\n299. FALSE\n300. FALSE\n301. FALSE\n302. FALSE\n303. FALSE\n304. FALSE\n305. FALSE\n306. FALSE\n307. TRUE\n308. FALSE\n309. TRUE\n310. TRUE\n311. FALSE\n312. FALSE\n313. TRUE\n314. TRUE\n315. FALSE\n316. FALSE\n317. FALSE\n318. FALSE\n319. FALSE\n320. TRUE\n321. FALSE\n322. FALSE\n323. TRUE\n324. FALSE\n325. FALSE\n326. FALSE\n327. FALSE\n328. FALSE\n329. FALSE\n330. FALSE\n331. TRUE\n332. TRUE\n333. FALSE\n334. FALSE\n335. TRUE\n336. FALSE\n337. FALSE\n338. FALSE\n339. TRUE\n340. FALSE\n341. FALSE\n342. FALSE\n343. FALSE\n344. FALSE\n345. FALSE\n346. FALSE\n347. FALSE\n348. FALSE\n349. FALSE\n350. FALSE\n351. FALSE\n352. FALSE\n353. FALSE\n354. TRUE\n355. FALSE\n356. FALSE\n357. FALSE\n358. FALSE\n359. FALSE\n360. TRUE\n361. FALSE\n362. FALSE\n363. FALSE\n364. FALSE\n365. FALSE\n366. FALSE\n367. FALSE\n368. FALSE\n369. TRUE\n370. FALSE\n371. FALSE\n372. FALSE\n373. FALSE\n374. FALSE\n375. FALSE\n376. FALSE\n377. TRUE\n378. TRUE\n379. FALSE\n380. FALSE\n381. TRUE\n382. FALSE\n383. TRUE\n384. FALSE\n385. FALSE\n386. TRUE\n387. FALSE\n388. FALSE\n389. FALSE\n390. FALSE\n391. FALSE\n392. FALSE\n393. FALSE\n394. FALSE\n395. TRUE\n396. TRUE\n397. FALSE\n398. FALSE\n399. FALSE\n400. FALSE\n401. FALSE\n\n\n",
            "text/latex": "\\begin{enumerate*}\n\\item FALSE\n\\item FALSE\n\\item FALSE\n\\item TRUE\n\\item FALSE\n\\item FALSE\n\\item FALSE\n\\item FALSE\n\\item FALSE\n\\item FALSE\n\\item FALSE\n\\item FALSE\n\\item FALSE\n\\item TRUE\n\\item FALSE\n\\item FALSE\n\\item FALSE\n\\item FALSE\n\\item FALSE\n\\item FALSE\n\\item FALSE\n\\item FALSE\n\\item FALSE\n\\item TRUE\n\\item TRUE\n\\item FALSE\n\\item TRUE\n\\item FALSE\n\\item FALSE\n\\item FALSE\n\\item FALSE\n\\item FALSE\n\\item FALSE\n\\item FALSE\n\\item FALSE\n\\item FALSE\n\\item FALSE\n\\item TRUE\n\\item TRUE\n\\item FALSE\n\\item FALSE\n\\item FALSE\n\\item TRUE\n\\item FALSE\n\\item FALSE\n\\item FALSE\n\\item TRUE\n\\item FALSE\n\\item FALSE\n\\item FALSE\n\\item FALSE\n\\item TRUE\n\\item FALSE\n\\item TRUE\n\\item FALSE\n\\item FALSE\n\\item TRUE\n\\item FALSE\n\\item FALSE\n\\item TRUE\n\\item FALSE\n\\item FALSE\n\\item TRUE\n\\item FALSE\n\\item TRUE\n\\item FALSE\n\\item FALSE\n\\item FALSE\n\\item FALSE\n\\item FALSE\n\\item FALSE\n\\item TRUE\n\\item FALSE\n\\item TRUE\n\\item TRUE\n\\item TRUE\n\\item FALSE\n\\item FALSE\n\\item FALSE\n\\item FALSE\n\\item FALSE\n\\item FALSE\n\\item FALSE\n\\item FALSE\n\\item TRUE\n\\item TRUE\n\\item TRUE\n\\item FALSE\n\\item FALSE\n\\item TRUE\n\\item FALSE\n\\item FALSE\n\\item FALSE\n\\item FALSE\n\\item FALSE\n\\item FALSE\n\\item FALSE\n\\item FALSE\n\\item FALSE\n\\item FALSE\n\\item FALSE\n\\item FALSE\n\\item FALSE\n\\item FALSE\n\\item FALSE\n\\item FALSE\n\\item FALSE\n\\item FALSE\n\\item FALSE\n\\item FALSE\n\\item FALSE\n\\item TRUE\n\\item FALSE\n\\item FALSE\n\\item TRUE\n\\item FALSE\n\\item FALSE\n\\item FALSE\n\\item FALSE\n\\item FALSE\n\\item TRUE\n\\item FALSE\n\\item FALSE\n\\item FALSE\n\\item FALSE\n\\item FALSE\n\\item FALSE\n\\item FALSE\n\\item TRUE\n\\item FALSE\n\\item FALSE\n\\item FALSE\n\\item FALSE\n\\item FALSE\n\\item FALSE\n\\item FALSE\n\\item FALSE\n\\item FALSE\n\\item FALSE\n\\item FALSE\n\\item FALSE\n\\item TRUE\n\\item FALSE\n\\item FALSE\n\\item FALSE\n\\item FALSE\n\\item FALSE\n\\item FALSE\n\\item TRUE\n\\item FALSE\n\\item FALSE\n\\item TRUE\n\\item FALSE\n\\item FALSE\n\\item TRUE\n\\item FALSE\n\\item FALSE\n\\item FALSE\n\\item TRUE\n\\item FALSE\n\\item FALSE\n\\item TRUE\n\\item FALSE\n\\item FALSE\n\\item FALSE\n\\item FALSE\n\\item FALSE\n\\item FALSE\n\\item FALSE\n\\item TRUE\n\\item FALSE\n\\item FALSE\n\\item FALSE\n\\item FALSE\n\\item FALSE\n\\item FALSE\n\\item FALSE\n\\item FALSE\n\\item FALSE\n\\item FALSE\n\\item TRUE\n\\item FALSE\n\\item FALSE\n\\item FALSE\n\\item FALSE\n\\item TRUE\n\\item FALSE\n\\item FALSE\n\\item FALSE\n\\item FALSE\n\\item FALSE\n\\item FALSE\n\\item FALSE\n\\item FALSE\n\\item FALSE\n\\item FALSE\n\\item FALSE\n\\item FALSE\n\\item FALSE\n\\item FALSE\n\\item ⋯\n\\item TRUE\n\\item FALSE\n\\item FALSE\n\\item FALSE\n\\item FALSE\n\\item TRUE\n\\item FALSE\n\\item FALSE\n\\item TRUE\n\\item FALSE\n\\item FALSE\n\\item FALSE\n\\item FALSE\n\\item FALSE\n\\item FALSE\n\\item FALSE\n\\item FALSE\n\\item FALSE\n\\item FALSE\n\\item FALSE\n\\item FALSE\n\\item FALSE\n\\item FALSE\n\\item FALSE\n\\item FALSE\n\\item FALSE\n\\item FALSE\n\\item FALSE\n\\item FALSE\n\\item FALSE\n\\item TRUE\n\\item TRUE\n\\item FALSE\n\\item FALSE\n\\item FALSE\n\\item FALSE\n\\item FALSE\n\\item FALSE\n\\item FALSE\n\\item FALSE\n\\item FALSE\n\\item FALSE\n\\item FALSE\n\\item FALSE\n\\item FALSE\n\\item FALSE\n\\item FALSE\n\\item FALSE\n\\item FALSE\n\\item FALSE\n\\item FALSE\n\\item FALSE\n\\item FALSE\n\\item FALSE\n\\item FALSE\n\\item FALSE\n\\item FALSE\n\\item FALSE\n\\item TRUE\n\\item FALSE\n\\item FALSE\n\\item FALSE\n\\item FALSE\n\\item TRUE\n\\item TRUE\n\\item FALSE\n\\item FALSE\n\\item FALSE\n\\item FALSE\n\\item FALSE\n\\item TRUE\n\\item FALSE\n\\item FALSE\n\\item FALSE\n\\item TRUE\n\\item TRUE\n\\item FALSE\n\\item FALSE\n\\item FALSE\n\\item FALSE\n\\item FALSE\n\\item TRUE\n\\item FALSE\n\\item FALSE\n\\item FALSE\n\\item FALSE\n\\item FALSE\n\\item TRUE\n\\item FALSE\n\\item FALSE\n\\item FALSE\n\\item TRUE\n\\item FALSE\n\\item FALSE\n\\item FALSE\n\\item FALSE\n\\item FALSE\n\\item FALSE\n\\item FALSE\n\\item FALSE\n\\item FALSE\n\\item FALSE\n\\item FALSE\n\\item FALSE\n\\item FALSE\n\\item TRUE\n\\item FALSE\n\\item TRUE\n\\item TRUE\n\\item FALSE\n\\item FALSE\n\\item TRUE\n\\item TRUE\n\\item FALSE\n\\item FALSE\n\\item FALSE\n\\item FALSE\n\\item FALSE\n\\item TRUE\n\\item FALSE\n\\item FALSE\n\\item TRUE\n\\item FALSE\n\\item FALSE\n\\item FALSE\n\\item FALSE\n\\item FALSE\n\\item FALSE\n\\item FALSE\n\\item TRUE\n\\item TRUE\n\\item FALSE\n\\item FALSE\n\\item TRUE\n\\item FALSE\n\\item FALSE\n\\item FALSE\n\\item TRUE\n\\item FALSE\n\\item FALSE\n\\item FALSE\n\\item FALSE\n\\item FALSE\n\\item FALSE\n\\item FALSE\n\\item FALSE\n\\item FALSE\n\\item FALSE\n\\item FALSE\n\\item FALSE\n\\item FALSE\n\\item FALSE\n\\item TRUE\n\\item FALSE\n\\item FALSE\n\\item FALSE\n\\item FALSE\n\\item FALSE\n\\item TRUE\n\\item FALSE\n\\item FALSE\n\\item FALSE\n\\item FALSE\n\\item FALSE\n\\item FALSE\n\\item FALSE\n\\item FALSE\n\\item TRUE\n\\item FALSE\n\\item FALSE\n\\item FALSE\n\\item FALSE\n\\item FALSE\n\\item FALSE\n\\item FALSE\n\\item TRUE\n\\item TRUE\n\\item FALSE\n\\item FALSE\n\\item TRUE\n\\item FALSE\n\\item TRUE\n\\item FALSE\n\\item FALSE\n\\item TRUE\n\\item FALSE\n\\item FALSE\n\\item FALSE\n\\item FALSE\n\\item FALSE\n\\item FALSE\n\\item FALSE\n\\item FALSE\n\\item TRUE\n\\item TRUE\n\\item FALSE\n\\item FALSE\n\\item FALSE\n\\item FALSE\n\\item FALSE\n\\end{enumerate*}\n",
            "text/plain": [
              "  [1] FALSE FALSE FALSE  TRUE FALSE FALSE FALSE FALSE FALSE FALSE FALSE FALSE\n",
              " [13] FALSE  TRUE FALSE FALSE FALSE FALSE FALSE FALSE FALSE FALSE FALSE  TRUE\n",
              " [25]  TRUE FALSE  TRUE FALSE FALSE FALSE FALSE FALSE FALSE FALSE FALSE FALSE\n",
              " [37] FALSE  TRUE  TRUE FALSE FALSE FALSE  TRUE FALSE FALSE FALSE  TRUE FALSE\n",
              " [49] FALSE FALSE FALSE  TRUE FALSE  TRUE FALSE FALSE  TRUE FALSE FALSE  TRUE\n",
              " [61] FALSE FALSE  TRUE FALSE  TRUE FALSE FALSE FALSE FALSE FALSE FALSE  TRUE\n",
              " [73] FALSE  TRUE  TRUE  TRUE FALSE FALSE FALSE FALSE FALSE FALSE FALSE FALSE\n",
              " [85]  TRUE  TRUE  TRUE FALSE FALSE  TRUE FALSE FALSE FALSE FALSE FALSE FALSE\n",
              " [97] FALSE FALSE FALSE FALSE FALSE FALSE FALSE FALSE FALSE FALSE FALSE FALSE\n",
              "[109] FALSE FALSE FALSE  TRUE FALSE FALSE  TRUE FALSE FALSE FALSE FALSE FALSE\n",
              "[121]  TRUE FALSE FALSE FALSE FALSE FALSE FALSE FALSE  TRUE FALSE FALSE FALSE\n",
              "[133] FALSE FALSE FALSE FALSE FALSE FALSE FALSE FALSE FALSE  TRUE FALSE FALSE\n",
              "[145] FALSE FALSE FALSE FALSE  TRUE FALSE FALSE  TRUE FALSE FALSE  TRUE FALSE\n",
              "[157] FALSE FALSE  TRUE FALSE FALSE  TRUE FALSE FALSE FALSE FALSE FALSE FALSE\n",
              "[169] FALSE  TRUE FALSE FALSE FALSE FALSE FALSE FALSE FALSE FALSE FALSE FALSE\n",
              "[181]  TRUE FALSE FALSE FALSE FALSE  TRUE FALSE FALSE FALSE FALSE FALSE FALSE\n",
              "[193] FALSE FALSE FALSE FALSE FALSE FALSE FALSE FALSE FALSE FALSE FALSE FALSE\n",
              "[205] FALSE  TRUE FALSE  TRUE FALSE FALSE FALSE  TRUE FALSE FALSE FALSE FALSE\n",
              "[217]  TRUE FALSE FALSE FALSE FALSE FALSE FALSE FALSE FALSE FALSE FALSE FALSE\n",
              "[229] FALSE FALSE  TRUE FALSE FALSE  TRUE  TRUE  TRUE FALSE  TRUE FALSE FALSE\n",
              "[241] FALSE FALSE FALSE FALSE FALSE FALSE FALSE FALSE FALSE FALSE FALSE FALSE\n",
              "[253]  TRUE FALSE FALSE FALSE  TRUE  TRUE FALSE  TRUE FALSE FALSE FALSE FALSE\n",
              "[265] FALSE  TRUE FALSE FALSE FALSE FALSE FALSE  TRUE  TRUE FALSE FALSE FALSE\n",
              "[277] FALSE  TRUE FALSE FALSE FALSE FALSE FALSE FALSE FALSE FALSE FALSE  TRUE\n",
              "[289] FALSE FALSE FALSE FALSE FALSE FALSE FALSE  TRUE FALSE  TRUE FALSE  TRUE\n",
              "[301] FALSE  TRUE FALSE  TRUE FALSE FALSE FALSE  TRUE FALSE FALSE  TRUE  TRUE\n",
              "[313] FALSE FALSE FALSE FALSE FALSE FALSE FALSE FALSE FALSE FALSE FALSE FALSE\n",
              "[325]  TRUE FALSE FALSE  TRUE FALSE FALSE FALSE FALSE FALSE FALSE FALSE FALSE\n",
              "[337] FALSE FALSE FALSE FALSE FALSE FALSE  TRUE  TRUE FALSE FALSE FALSE FALSE\n",
              "[349] FALSE FALSE FALSE FALSE FALSE FALSE FALSE FALSE FALSE FALSE FALSE FALSE\n",
              "[361] FALSE FALSE FALSE FALSE FALSE FALSE  TRUE  TRUE  TRUE  TRUE FALSE FALSE\n",
              "[373] FALSE FALSE  TRUE FALSE FALSE FALSE FALSE FALSE FALSE FALSE  TRUE FALSE\n",
              "[385] FALSE FALSE FALSE  TRUE FALSE FALSE FALSE  TRUE  TRUE FALSE FALSE FALSE\n",
              "[397] FALSE FALSE FALSE  TRUE FALSE FALSE FALSE FALSE FALSE FALSE  TRUE FALSE\n",
              "[409] FALSE FALSE FALSE  TRUE FALSE  TRUE  TRUE  TRUE FALSE  TRUE FALSE FALSE\n",
              "[421] FALSE FALSE FALSE FALSE  TRUE FALSE FALSE FALSE FALSE FALSE  TRUE FALSE\n",
              "[433] FALSE FALSE FALSE FALSE  TRUE FALSE  TRUE  TRUE FALSE FALSE FALSE FALSE\n",
              "[445] FALSE FALSE  TRUE FALSE  TRUE FALSE FALSE FALSE  TRUE  TRUE FALSE  TRUE\n",
              "[457] FALSE FALSE FALSE  TRUE  TRUE FALSE FALSE FALSE FALSE FALSE FALSE  TRUE\n",
              "[469] FALSE FALSE FALSE FALSE FALSE FALSE FALSE FALSE FALSE FALSE  TRUE FALSE\n",
              "[481] FALSE FALSE FALSE  TRUE FALSE FALSE FALSE  TRUE FALSE  TRUE  TRUE FALSE\n",
              "[493] FALSE FALSE FALSE  TRUE FALSE  TRUE FALSE FALSE  TRUE FALSE FALSE FALSE\n",
              "[505] FALSE FALSE FALSE  TRUE FALSE FALSE FALSE FALSE  TRUE FALSE  TRUE FALSE\n",
              "[517] FALSE FALSE FALSE FALSE FALSE  TRUE FALSE FALSE FALSE FALSE FALSE FALSE\n",
              "[529] FALSE FALSE FALSE FALSE FALSE  TRUE  TRUE FALSE FALSE FALSE FALSE FALSE\n",
              "[541] FALSE FALSE FALSE FALSE FALSE FALSE  TRUE FALSE FALSE FALSE FALSE FALSE\n",
              "[553]  TRUE FALSE FALSE FALSE FALSE FALSE FALSE FALSE FALSE FALSE FALSE FALSE\n",
              "[565]  TRUE FALSE FALSE FALSE FALSE  TRUE FALSE FALSE FALSE  TRUE FALSE FALSE\n",
              "[577] FALSE FALSE  TRUE  TRUE FALSE FALSE FALSE FALSE FALSE FALSE FALSE FALSE\n",
              "[589] FALSE FALSE  TRUE  TRUE FALSE  TRUE FALSE FALSE FALSE  TRUE FALSE  TRUE\n",
              "[601] FALSE FALSE FALSE FALSE FALSE FALSE FALSE  TRUE FALSE FALSE FALSE FALSE\n",
              "[613] FALSE FALSE  TRUE FALSE FALSE FALSE FALSE FALSE FALSE FALSE FALSE FALSE\n",
              "[625] FALSE FALSE FALSE FALSE FALSE FALSE FALSE FALSE FALSE FALSE FALSE FALSE\n",
              "[637] FALSE FALSE FALSE  TRUE FALSE FALSE FALSE FALSE FALSE  TRUE FALSE FALSE\n",
              "[649] FALSE  TRUE FALSE FALSE FALSE  TRUE FALSE FALSE FALSE FALSE FALSE FALSE\n",
              "[661] FALSE FALSE FALSE  TRUE FALSE FALSE  TRUE FALSE FALSE  TRUE FALSE FALSE\n",
              "[673] FALSE FALSE  TRUE  TRUE FALSE  TRUE FALSE  TRUE FALSE FALSE FALSE FALSE\n",
              "[685] FALSE  TRUE FALSE  TRUE FALSE FALSE  TRUE  TRUE FALSE FALSE FALSE FALSE\n",
              "[697]  TRUE FALSE FALSE  TRUE FALSE FALSE FALSE FALSE FALSE FALSE FALSE FALSE\n",
              "[709] FALSE FALSE FALSE FALSE FALSE FALSE FALSE FALSE FALSE FALSE FALSE FALSE\n",
              "[721] FALSE  TRUE  TRUE FALSE FALSE FALSE FALSE FALSE FALSE FALSE FALSE FALSE\n",
              "[733] FALSE FALSE FALSE FALSE FALSE FALSE FALSE FALSE FALSE FALSE FALSE FALSE\n",
              "[745] FALSE FALSE FALSE FALSE FALSE  TRUE FALSE FALSE FALSE FALSE  TRUE  TRUE\n",
              "[757] FALSE FALSE FALSE FALSE FALSE  TRUE FALSE FALSE FALSE  TRUE  TRUE FALSE\n",
              "[769] FALSE FALSE FALSE FALSE  TRUE FALSE FALSE FALSE FALSE FALSE  TRUE FALSE\n",
              "[781] FALSE FALSE  TRUE FALSE FALSE FALSE FALSE FALSE FALSE FALSE FALSE FALSE\n",
              "[793] FALSE FALSE FALSE FALSE  TRUE FALSE  TRUE  TRUE FALSE FALSE  TRUE  TRUE\n",
              "[805] FALSE FALSE FALSE FALSE FALSE  TRUE FALSE FALSE  TRUE FALSE FALSE FALSE\n",
              "[817] FALSE FALSE FALSE FALSE  TRUE  TRUE FALSE FALSE  TRUE FALSE FALSE FALSE\n",
              "[829]  TRUE FALSE FALSE FALSE FALSE FALSE FALSE FALSE FALSE FALSE FALSE FALSE\n",
              "[841] FALSE FALSE FALSE  TRUE FALSE FALSE FALSE FALSE FALSE  TRUE FALSE FALSE\n",
              "[853] FALSE FALSE FALSE FALSE FALSE FALSE  TRUE FALSE FALSE FALSE FALSE FALSE\n",
              "[865] FALSE FALSE  TRUE  TRUE FALSE FALSE  TRUE FALSE  TRUE FALSE FALSE  TRUE\n",
              "[877] FALSE FALSE FALSE FALSE FALSE FALSE FALSE FALSE  TRUE  TRUE FALSE FALSE\n",
              "[889] FALSE FALSE FALSE"
            ]
          },
          "metadata": {}
        }
      ]
    },
    {
      "cell_type": "code",
      "source": [
        "any(is.na(train$Age))"
      ],
      "metadata": {
        "colab": {
          "base_uri": "https://localhost:8080/",
          "height": 34
        },
        "id": "6b25MMxJLH-5",
        "outputId": "b8be841e-0f6d-4e01-8de1-c5d45c2975f3"
      },
      "execution_count": null,
      "outputs": [
        {
          "output_type": "display_data",
          "data": {
            "text/html": [
              "TRUE"
            ],
            "text/markdown": "TRUE",
            "text/latex": "TRUE",
            "text/plain": [
              "[1] TRUE"
            ]
          },
          "metadata": {}
        }
      ]
    },
    {
      "cell_type": "code",
      "source": [
        "train$Age[is.na(train$Age)] = mean(train$Age, na.rm = TRUE)"
      ],
      "metadata": {
        "id": "JOJhBmFU4ASr"
      },
      "execution_count": null,
      "outputs": []
    },
    {
      "cell_type": "code",
      "source": [
        "train[, c(\"Survived\",\"Pclass\",\"Sex\",\"Age\",\"SibSp\",\"Parch\",\"Fare\",\"Embarked\",\"PassengerId\")]"
      ],
      "metadata": {
        "colab": {
          "base_uri": "https://localhost:8080/",
          "height": 1000
        },
        "id": "ogS0SuXHMUi2",
        "outputId": "d89f1e76-6919-4750-bed9-b7e5f42a5c5d"
      },
      "execution_count": null,
      "outputs": [
        {
          "output_type": "display_data",
          "data": {
            "text/html": [
              "<table class=\"dataframe\">\n",
              "<caption>A data.frame: 891 × 9</caption>\n",
              "<thead>\n",
              "\t<tr><th scope=col>Survived</th><th scope=col>Pclass</th><th scope=col>Sex</th><th scope=col>Age</th><th scope=col>SibSp</th><th scope=col>Parch</th><th scope=col>Fare</th><th scope=col>Embarked</th><th scope=col>PassengerId</th></tr>\n",
              "\t<tr><th scope=col>&lt;int&gt;</th><th scope=col>&lt;int&gt;</th><th scope=col>&lt;chr&gt;</th><th scope=col>&lt;dbl&gt;</th><th scope=col>&lt;int&gt;</th><th scope=col>&lt;int&gt;</th><th scope=col>&lt;dbl&gt;</th><th scope=col>&lt;chr&gt;</th><th scope=col>&lt;int&gt;</th></tr>\n",
              "</thead>\n",
              "<tbody>\n",
              "\t<tr><td>0</td><td>3</td><td>male  </td><td>29.00000</td><td>0</td><td>0</td><td>  7.8542</td><td>S</td><td> 2</td></tr>\n",
              "\t<tr><td>1</td><td>1</td><td>female</td><td>37.00000</td><td>1</td><td>0</td><td> 90.0000</td><td>Q</td><td> 3</td></tr>\n",
              "\t<tr><td>0</td><td>2</td><td>male  </td><td>36.00000</td><td>0</td><td>0</td><td> 13.0000</td><td>S</td><td> 4</td></tr>\n",
              "\t<tr><td>1</td><td>1</td><td>female</td><td>29.99363</td><td>0</td><td>1</td><td> 55.0000</td><td>S</td><td> 5</td></tr>\n",
              "\t<tr><td>0</td><td>3</td><td>male  </td><td>30.00000</td><td>0</td><td>0</td><td>  8.0500</td><td>S</td><td> 6</td></tr>\n",
              "\t<tr><td>0</td><td>3</td><td>male  </td><td>21.00000</td><td>1</td><td>0</td><td>  6.4958</td><td>S</td><td>10</td></tr>\n",
              "\t<tr><td>1</td><td>1</td><td>male  </td><td>53.00000</td><td>1</td><td>1</td><td> 81.8583</td><td>S</td><td>11</td></tr>\n",
              "\t<tr><td>0</td><td>3</td><td>male  </td><td>20.00000</td><td>0</td><td>0</td><td>  7.9250</td><td>S</td><td>12</td></tr>\n",
              "\t<tr><td>0</td><td>3</td><td>male  </td><td>26.00000</td><td>0</td><td>0</td><td>  7.8958</td><td>S</td><td>13</td></tr>\n",
              "\t<tr><td>1</td><td>2</td><td>male  </td><td>62.00000</td><td>0</td><td>0</td><td> 10.5000</td><td>S</td><td>15</td></tr>\n",
              "\t<tr><td>1</td><td>3</td><td>male  </td><td>24.00000</td><td>0</td><td>0</td><td>  7.5500</td><td>S</td><td>17</td></tr>\n",
              "\t<tr><td>1</td><td>1</td><td>female</td><td>38.00000</td><td>0</td><td>0</td><td>227.5250</td><td>C</td><td>18</td></tr>\n",
              "\t<tr><td>0</td><td>2</td><td>female</td><td>27.00000</td><td>1</td><td>0</td><td> 21.0000</td><td>S</td><td>19</td></tr>\n",
              "\t<tr><td>1</td><td>3</td><td>male  </td><td>29.99363</td><td>0</td><td>0</td><td>  7.8875</td><td>S</td><td>21</td></tr>\n",
              "\t<tr><td>1</td><td>3</td><td>male  </td><td> 1.00000</td><td>1</td><td>2</td><td> 20.5750</td><td>S</td><td>22</td></tr>\n",
              "\t<tr><td>0</td><td>2</td><td>male  </td><td>24.00000</td><td>2</td><td>0</td><td> 31.5000</td><td>S</td><td>24</td></tr>\n",
              "\t<tr><td>0</td><td>3</td><td>male  </td><td>33.00000</td><td>0</td><td>0</td><td>  8.6625</td><td>C</td><td>25</td></tr>\n",
              "\t<tr><td>1</td><td>1</td><td>female</td><td>29.00000</td><td>0</td><td>0</td><td>211.3375</td><td>S</td><td>26</td></tr>\n",
              "\t<tr><td>0</td><td>1</td><td>male  </td><td>48.00000</td><td>0</td><td>0</td><td> 50.4958</td><td>C</td><td>27</td></tr>\n",
              "\t<tr><td>1</td><td>2</td><td>female</td><td>14.00000</td><td>1</td><td>0</td><td> 30.0708</td><td>C</td><td>28</td></tr>\n",
              "\t<tr><td>0</td><td>3</td><td>male  </td><td>27.00000</td><td>0</td><td>0</td><td>  7.2250</td><td>C</td><td>30</td></tr>\n",
              "\t<tr><td>0</td><td>3</td><td>male  </td><td>18.00000</td><td>0</td><td>0</td><td>  7.7750</td><td>S</td><td>31</td></tr>\n",
              "\t<tr><td>0</td><td>3</td><td>male  </td><td>23.00000</td><td>0</td><td>0</td><td>  7.0500</td><td>S</td><td>32</td></tr>\n",
              "\t<tr><td>1</td><td>1</td><td>female</td><td>29.99363</td><td>0</td><td>0</td><td>110.8833</td><td>C</td><td>33</td></tr>\n",
              "\t<tr><td>1</td><td>1</td><td>female</td><td>29.99363</td><td>1</td><td>0</td><td>133.6500</td><td>S</td><td>34</td></tr>\n",
              "\t<tr><td>1</td><td>1</td><td>male  </td><td>32.00000</td><td>0</td><td>0</td><td> 30.5000</td><td>C</td><td>35</td></tr>\n",
              "\t<tr><td>0</td><td>3</td><td>male  </td><td>29.99363</td><td>0</td><td>0</td><td>  7.7333</td><td>Q</td><td>36</td></tr>\n",
              "\t<tr><td>0</td><td>2</td><td>male  </td><td>26.00000</td><td>0</td><td>0</td><td> 13.0000</td><td>S</td><td>38</td></tr>\n",
              "\t<tr><td>0</td><td>2</td><td>male  </td><td>27.00000</td><td>0</td><td>0</td><td> 15.0333</td><td>C</td><td>39</td></tr>\n",
              "\t<tr><td>0</td><td>3</td><td>male  </td><td>74.00000</td><td>0</td><td>0</td><td>  7.7750</td><td>S</td><td>40</td></tr>\n",
              "\t<tr><td>⋮</td><td>⋮</td><td>⋮</td><td>⋮</td><td>⋮</td><td>⋮</td><td>⋮</td><td>⋮</td><td>⋮</td></tr>\n",
              "\t<tr><td>1</td><td>2</td><td>female</td><td>36.00000</td><td>0</td><td>3</td><td> 39.0000</td><td>S</td><td>1265</td></tr>\n",
              "\t<tr><td>1</td><td>2</td><td>male  </td><td>32.00000</td><td>1</td><td>0</td><td> 26.0000</td><td>S</td><td>1266</td></tr>\n",
              "\t<tr><td>1</td><td>1</td><td>female</td><td>22.00000</td><td>0</td><td>0</td><td>151.5500</td><td>S</td><td>1267</td></tr>\n",
              "\t<tr><td>1</td><td>1</td><td>male  </td><td>54.00000</td><td>1</td><td>0</td><td> 55.4417</td><td>C</td><td>1268</td></tr>\n",
              "\t<tr><td>0</td><td>2</td><td>male  </td><td>54.00000</td><td>0</td><td>0</td><td> 26.0000</td><td>S</td><td>1269</td></tr>\n",
              "\t<tr><td>0</td><td>3</td><td>male  </td><td>29.99363</td><td>1</td><td>0</td><td> 14.4542</td><td>C</td><td>1271</td></tr>\n",
              "\t<tr><td>0</td><td>3</td><td>male  </td><td>29.99363</td><td>0</td><td>0</td><td>  7.8958</td><td>C</td><td>1272</td></tr>\n",
              "\t<tr><td>0</td><td>3</td><td>male  </td><td> 7.00000</td><td>4</td><td>1</td><td> 29.1250</td><td>Q</td><td>1273</td></tr>\n",
              "\t<tr><td>0</td><td>3</td><td>female</td><td>14.50000</td><td>1</td><td>0</td><td> 14.4542</td><td>C</td><td>1275</td></tr>\n",
              "\t<tr><td>0</td><td>3</td><td>female</td><td>29.99363</td><td>1</td><td>0</td><td> 14.4583</td><td>C</td><td>1276</td></tr>\n",
              "\t<tr><td>1</td><td>1</td><td>female</td><td>52.00000</td><td>1</td><td>1</td><td> 93.5000</td><td>S</td><td>1277</td></tr>\n",
              "\t<tr><td>0</td><td>3</td><td>male  </td><td>29.99363</td><td>0</td><td>0</td><td>  6.8583</td><td>Q</td><td>1280</td></tr>\n",
              "\t<tr><td>1</td><td>3</td><td>male  </td><td>25.00000</td><td>1</td><td>0</td><td>  7.7750</td><td>S</td><td>1281</td></tr>\n",
              "\t<tr><td>0</td><td>3</td><td>male  </td><td>21.00000</td><td>0</td><td>0</td><td>  7.9250</td><td>S</td><td>1282</td></tr>\n",
              "\t<tr><td>0</td><td>3</td><td>male  </td><td>29.99363</td><td>0</td><td>0</td><td>  8.0500</td><td>S</td><td>1283</td></tr>\n",
              "\t<tr><td>1</td><td>2</td><td>female</td><td>22.00000</td><td>1</td><td>1</td><td> 29.0000</td><td>S</td><td>1285</td></tr>\n",
              "\t<tr><td>0</td><td>1</td><td>male  </td><td>46.00000</td><td>0</td><td>0</td><td> 79.2000</td><td>C</td><td>1286</td></tr>\n",
              "\t<tr><td>1</td><td>1</td><td>female</td><td>44.00000</td><td>0</td><td>0</td><td> 27.7208</td><td>C</td><td>1287</td></tr>\n",
              "\t<tr><td>1</td><td>1</td><td>female</td><td>42.00000</td><td>0</td><td>0</td><td>227.5250</td><td>C</td><td>1288</td></tr>\n",
              "\t<tr><td>0</td><td>2</td><td>male  </td><td>18.00000</td><td>0</td><td>0</td><td> 11.5000</td><td>S</td><td>1289</td></tr>\n",
              "\t<tr><td>0</td><td>3</td><td>male  </td><td>20.00000</td><td>0</td><td>0</td><td>  9.8458</td><td>S</td><td>1290</td></tr>\n",
              "\t<tr><td>0</td><td>1</td><td>male  </td><td>50.00000</td><td>1</td><td>0</td><td>106.4250</td><td>C</td><td>1293</td></tr>\n",
              "\t<tr><td>0</td><td>3</td><td>female</td><td>18.00000</td><td>0</td><td>1</td><td> 14.4542</td><td>C</td><td>1294</td></tr>\n",
              "\t<tr><td>0</td><td>3</td><td>male  </td><td>29.99363</td><td>0</td><td>0</td><td>  7.7500</td><td>Q</td><td>1295</td></tr>\n",
              "\t<tr><td>0</td><td>3</td><td>male  </td><td>29.99363</td><td>0</td><td>0</td><td>  7.7750</td><td>S</td><td>1296</td></tr>\n",
              "\t<tr><td>1</td><td>1</td><td>male  </td><td>36.00000</td><td>0</td><td>0</td><td> 26.3875</td><td>S</td><td>1297</td></tr>\n",
              "\t<tr><td>0</td><td>2</td><td>male  </td><td>22.00000</td><td>2</td><td>0</td><td> 31.5000</td><td>S</td><td>1298</td></tr>\n",
              "\t<tr><td>1</td><td>2</td><td>female</td><td>24.00000</td><td>0</td><td>0</td><td> 13.0000</td><td>S</td><td>1299</td></tr>\n",
              "\t<tr><td>0</td><td>3</td><td>male  </td><td>31.00000</td><td>0</td><td>0</td><td>  7.7750</td><td>S</td><td>1303</td></tr>\n",
              "\t<tr><td>0</td><td>3</td><td>male  </td><td>21.00000</td><td>0</td><td>0</td><td>  8.0500</td><td>S</td><td>1304</td></tr>\n",
              "</tbody>\n",
              "</table>\n"
            ],
            "text/markdown": "\nA data.frame: 891 × 9\n\n| Survived &lt;int&gt; | Pclass &lt;int&gt; | Sex &lt;chr&gt; | Age &lt;dbl&gt; | SibSp &lt;int&gt; | Parch &lt;int&gt; | Fare &lt;dbl&gt; | Embarked &lt;chr&gt; | PassengerId &lt;int&gt; |\n|---|---|---|---|---|---|---|---|---|\n| 0 | 3 | male   | 29.00000 | 0 | 0 |   7.8542 | S |  2 |\n| 1 | 1 | female | 37.00000 | 1 | 0 |  90.0000 | Q |  3 |\n| 0 | 2 | male   | 36.00000 | 0 | 0 |  13.0000 | S |  4 |\n| 1 | 1 | female | 29.99363 | 0 | 1 |  55.0000 | S |  5 |\n| 0 | 3 | male   | 30.00000 | 0 | 0 |   8.0500 | S |  6 |\n| 0 | 3 | male   | 21.00000 | 1 | 0 |   6.4958 | S | 10 |\n| 1 | 1 | male   | 53.00000 | 1 | 1 |  81.8583 | S | 11 |\n| 0 | 3 | male   | 20.00000 | 0 | 0 |   7.9250 | S | 12 |\n| 0 | 3 | male   | 26.00000 | 0 | 0 |   7.8958 | S | 13 |\n| 1 | 2 | male   | 62.00000 | 0 | 0 |  10.5000 | S | 15 |\n| 1 | 3 | male   | 24.00000 | 0 | 0 |   7.5500 | S | 17 |\n| 1 | 1 | female | 38.00000 | 0 | 0 | 227.5250 | C | 18 |\n| 0 | 2 | female | 27.00000 | 1 | 0 |  21.0000 | S | 19 |\n| 1 | 3 | male   | 29.99363 | 0 | 0 |   7.8875 | S | 21 |\n| 1 | 3 | male   |  1.00000 | 1 | 2 |  20.5750 | S | 22 |\n| 0 | 2 | male   | 24.00000 | 2 | 0 |  31.5000 | S | 24 |\n| 0 | 3 | male   | 33.00000 | 0 | 0 |   8.6625 | C | 25 |\n| 1 | 1 | female | 29.00000 | 0 | 0 | 211.3375 | S | 26 |\n| 0 | 1 | male   | 48.00000 | 0 | 0 |  50.4958 | C | 27 |\n| 1 | 2 | female | 14.00000 | 1 | 0 |  30.0708 | C | 28 |\n| 0 | 3 | male   | 27.00000 | 0 | 0 |   7.2250 | C | 30 |\n| 0 | 3 | male   | 18.00000 | 0 | 0 |   7.7750 | S | 31 |\n| 0 | 3 | male   | 23.00000 | 0 | 0 |   7.0500 | S | 32 |\n| 1 | 1 | female | 29.99363 | 0 | 0 | 110.8833 | C | 33 |\n| 1 | 1 | female | 29.99363 | 1 | 0 | 133.6500 | S | 34 |\n| 1 | 1 | male   | 32.00000 | 0 | 0 |  30.5000 | C | 35 |\n| 0 | 3 | male   | 29.99363 | 0 | 0 |   7.7333 | Q | 36 |\n| 0 | 2 | male   | 26.00000 | 0 | 0 |  13.0000 | S | 38 |\n| 0 | 2 | male   | 27.00000 | 0 | 0 |  15.0333 | C | 39 |\n| 0 | 3 | male   | 74.00000 | 0 | 0 |   7.7750 | S | 40 |\n| ⋮ | ⋮ | ⋮ | ⋮ | ⋮ | ⋮ | ⋮ | ⋮ | ⋮ |\n| 1 | 2 | female | 36.00000 | 0 | 3 |  39.0000 | S | 1265 |\n| 1 | 2 | male   | 32.00000 | 1 | 0 |  26.0000 | S | 1266 |\n| 1 | 1 | female | 22.00000 | 0 | 0 | 151.5500 | S | 1267 |\n| 1 | 1 | male   | 54.00000 | 1 | 0 |  55.4417 | C | 1268 |\n| 0 | 2 | male   | 54.00000 | 0 | 0 |  26.0000 | S | 1269 |\n| 0 | 3 | male   | 29.99363 | 1 | 0 |  14.4542 | C | 1271 |\n| 0 | 3 | male   | 29.99363 | 0 | 0 |   7.8958 | C | 1272 |\n| 0 | 3 | male   |  7.00000 | 4 | 1 |  29.1250 | Q | 1273 |\n| 0 | 3 | female | 14.50000 | 1 | 0 |  14.4542 | C | 1275 |\n| 0 | 3 | female | 29.99363 | 1 | 0 |  14.4583 | C | 1276 |\n| 1 | 1 | female | 52.00000 | 1 | 1 |  93.5000 | S | 1277 |\n| 0 | 3 | male   | 29.99363 | 0 | 0 |   6.8583 | Q | 1280 |\n| 1 | 3 | male   | 25.00000 | 1 | 0 |   7.7750 | S | 1281 |\n| 0 | 3 | male   | 21.00000 | 0 | 0 |   7.9250 | S | 1282 |\n| 0 | 3 | male   | 29.99363 | 0 | 0 |   8.0500 | S | 1283 |\n| 1 | 2 | female | 22.00000 | 1 | 1 |  29.0000 | S | 1285 |\n| 0 | 1 | male   | 46.00000 | 0 | 0 |  79.2000 | C | 1286 |\n| 1 | 1 | female | 44.00000 | 0 | 0 |  27.7208 | C | 1287 |\n| 1 | 1 | female | 42.00000 | 0 | 0 | 227.5250 | C | 1288 |\n| 0 | 2 | male   | 18.00000 | 0 | 0 |  11.5000 | S | 1289 |\n| 0 | 3 | male   | 20.00000 | 0 | 0 |   9.8458 | S | 1290 |\n| 0 | 1 | male   | 50.00000 | 1 | 0 | 106.4250 | C | 1293 |\n| 0 | 3 | female | 18.00000 | 0 | 1 |  14.4542 | C | 1294 |\n| 0 | 3 | male   | 29.99363 | 0 | 0 |   7.7500 | Q | 1295 |\n| 0 | 3 | male   | 29.99363 | 0 | 0 |   7.7750 | S | 1296 |\n| 1 | 1 | male   | 36.00000 | 0 | 0 |  26.3875 | S | 1297 |\n| 0 | 2 | male   | 22.00000 | 2 | 0 |  31.5000 | S | 1298 |\n| 1 | 2 | female | 24.00000 | 0 | 0 |  13.0000 | S | 1299 |\n| 0 | 3 | male   | 31.00000 | 0 | 0 |   7.7750 | S | 1303 |\n| 0 | 3 | male   | 21.00000 | 0 | 0 |   8.0500 | S | 1304 |\n\n",
            "text/latex": "A data.frame: 891 × 9\n\\begin{tabular}{lllllllll}\n Survived & Pclass & Sex & Age & SibSp & Parch & Fare & Embarked & PassengerId\\\\\n <int> & <int> & <chr> & <dbl> & <int> & <int> & <dbl> & <chr> & <int>\\\\\n\\hline\n\t 0 & 3 & male   & 29.00000 & 0 & 0 &   7.8542 & S &  2\\\\\n\t 1 & 1 & female & 37.00000 & 1 & 0 &  90.0000 & Q &  3\\\\\n\t 0 & 2 & male   & 36.00000 & 0 & 0 &  13.0000 & S &  4\\\\\n\t 1 & 1 & female & 29.99363 & 0 & 1 &  55.0000 & S &  5\\\\\n\t 0 & 3 & male   & 30.00000 & 0 & 0 &   8.0500 & S &  6\\\\\n\t 0 & 3 & male   & 21.00000 & 1 & 0 &   6.4958 & S & 10\\\\\n\t 1 & 1 & male   & 53.00000 & 1 & 1 &  81.8583 & S & 11\\\\\n\t 0 & 3 & male   & 20.00000 & 0 & 0 &   7.9250 & S & 12\\\\\n\t 0 & 3 & male   & 26.00000 & 0 & 0 &   7.8958 & S & 13\\\\\n\t 1 & 2 & male   & 62.00000 & 0 & 0 &  10.5000 & S & 15\\\\\n\t 1 & 3 & male   & 24.00000 & 0 & 0 &   7.5500 & S & 17\\\\\n\t 1 & 1 & female & 38.00000 & 0 & 0 & 227.5250 & C & 18\\\\\n\t 0 & 2 & female & 27.00000 & 1 & 0 &  21.0000 & S & 19\\\\\n\t 1 & 3 & male   & 29.99363 & 0 & 0 &   7.8875 & S & 21\\\\\n\t 1 & 3 & male   &  1.00000 & 1 & 2 &  20.5750 & S & 22\\\\\n\t 0 & 2 & male   & 24.00000 & 2 & 0 &  31.5000 & S & 24\\\\\n\t 0 & 3 & male   & 33.00000 & 0 & 0 &   8.6625 & C & 25\\\\\n\t 1 & 1 & female & 29.00000 & 0 & 0 & 211.3375 & S & 26\\\\\n\t 0 & 1 & male   & 48.00000 & 0 & 0 &  50.4958 & C & 27\\\\\n\t 1 & 2 & female & 14.00000 & 1 & 0 &  30.0708 & C & 28\\\\\n\t 0 & 3 & male   & 27.00000 & 0 & 0 &   7.2250 & C & 30\\\\\n\t 0 & 3 & male   & 18.00000 & 0 & 0 &   7.7750 & S & 31\\\\\n\t 0 & 3 & male   & 23.00000 & 0 & 0 &   7.0500 & S & 32\\\\\n\t 1 & 1 & female & 29.99363 & 0 & 0 & 110.8833 & C & 33\\\\\n\t 1 & 1 & female & 29.99363 & 1 & 0 & 133.6500 & S & 34\\\\\n\t 1 & 1 & male   & 32.00000 & 0 & 0 &  30.5000 & C & 35\\\\\n\t 0 & 3 & male   & 29.99363 & 0 & 0 &   7.7333 & Q & 36\\\\\n\t 0 & 2 & male   & 26.00000 & 0 & 0 &  13.0000 & S & 38\\\\\n\t 0 & 2 & male   & 27.00000 & 0 & 0 &  15.0333 & C & 39\\\\\n\t 0 & 3 & male   & 74.00000 & 0 & 0 &   7.7750 & S & 40\\\\\n\t ⋮ & ⋮ & ⋮ & ⋮ & ⋮ & ⋮ & ⋮ & ⋮ & ⋮\\\\\n\t 1 & 2 & female & 36.00000 & 0 & 3 &  39.0000 & S & 1265\\\\\n\t 1 & 2 & male   & 32.00000 & 1 & 0 &  26.0000 & S & 1266\\\\\n\t 1 & 1 & female & 22.00000 & 0 & 0 & 151.5500 & S & 1267\\\\\n\t 1 & 1 & male   & 54.00000 & 1 & 0 &  55.4417 & C & 1268\\\\\n\t 0 & 2 & male   & 54.00000 & 0 & 0 &  26.0000 & S & 1269\\\\\n\t 0 & 3 & male   & 29.99363 & 1 & 0 &  14.4542 & C & 1271\\\\\n\t 0 & 3 & male   & 29.99363 & 0 & 0 &   7.8958 & C & 1272\\\\\n\t 0 & 3 & male   &  7.00000 & 4 & 1 &  29.1250 & Q & 1273\\\\\n\t 0 & 3 & female & 14.50000 & 1 & 0 &  14.4542 & C & 1275\\\\\n\t 0 & 3 & female & 29.99363 & 1 & 0 &  14.4583 & C & 1276\\\\\n\t 1 & 1 & female & 52.00000 & 1 & 1 &  93.5000 & S & 1277\\\\\n\t 0 & 3 & male   & 29.99363 & 0 & 0 &   6.8583 & Q & 1280\\\\\n\t 1 & 3 & male   & 25.00000 & 1 & 0 &   7.7750 & S & 1281\\\\\n\t 0 & 3 & male   & 21.00000 & 0 & 0 &   7.9250 & S & 1282\\\\\n\t 0 & 3 & male   & 29.99363 & 0 & 0 &   8.0500 & S & 1283\\\\\n\t 1 & 2 & female & 22.00000 & 1 & 1 &  29.0000 & S & 1285\\\\\n\t 0 & 1 & male   & 46.00000 & 0 & 0 &  79.2000 & C & 1286\\\\\n\t 1 & 1 & female & 44.00000 & 0 & 0 &  27.7208 & C & 1287\\\\\n\t 1 & 1 & female & 42.00000 & 0 & 0 & 227.5250 & C & 1288\\\\\n\t 0 & 2 & male   & 18.00000 & 0 & 0 &  11.5000 & S & 1289\\\\\n\t 0 & 3 & male   & 20.00000 & 0 & 0 &   9.8458 & S & 1290\\\\\n\t 0 & 1 & male   & 50.00000 & 1 & 0 & 106.4250 & C & 1293\\\\\n\t 0 & 3 & female & 18.00000 & 0 & 1 &  14.4542 & C & 1294\\\\\n\t 0 & 3 & male   & 29.99363 & 0 & 0 &   7.7500 & Q & 1295\\\\\n\t 0 & 3 & male   & 29.99363 & 0 & 0 &   7.7750 & S & 1296\\\\\n\t 1 & 1 & male   & 36.00000 & 0 & 0 &  26.3875 & S & 1297\\\\\n\t 0 & 2 & male   & 22.00000 & 2 & 0 &  31.5000 & S & 1298\\\\\n\t 1 & 2 & female & 24.00000 & 0 & 0 &  13.0000 & S & 1299\\\\\n\t 0 & 3 & male   & 31.00000 & 0 & 0 &   7.7750 & S & 1303\\\\\n\t 0 & 3 & male   & 21.00000 & 0 & 0 &   8.0500 & S & 1304\\\\\n\\end{tabular}\n",
            "text/plain": [
              "    Survived Pclass Sex    Age      SibSp Parch Fare     Embarked PassengerId\n",
              "1   0        3      male   29.00000 0     0       7.8542 S         2         \n",
              "2   1        1      female 37.00000 1     0      90.0000 Q         3         \n",
              "3   0        2      male   36.00000 0     0      13.0000 S         4         \n",
              "4   1        1      female 29.99363 0     1      55.0000 S         5         \n",
              "5   0        3      male   30.00000 0     0       8.0500 S         6         \n",
              "6   0        3      male   21.00000 1     0       6.4958 S        10         \n",
              "7   1        1      male   53.00000 1     1      81.8583 S        11         \n",
              "8   0        3      male   20.00000 0     0       7.9250 S        12         \n",
              "9   0        3      male   26.00000 0     0       7.8958 S        13         \n",
              "10  1        2      male   62.00000 0     0      10.5000 S        15         \n",
              "11  1        3      male   24.00000 0     0       7.5500 S        17         \n",
              "12  1        1      female 38.00000 0     0     227.5250 C        18         \n",
              "13  0        2      female 27.00000 1     0      21.0000 S        19         \n",
              "14  1        3      male   29.99363 0     0       7.8875 S        21         \n",
              "15  1        3      male    1.00000 1     2      20.5750 S        22         \n",
              "16  0        2      male   24.00000 2     0      31.5000 S        24         \n",
              "17  0        3      male   33.00000 0     0       8.6625 C        25         \n",
              "18  1        1      female 29.00000 0     0     211.3375 S        26         \n",
              "19  0        1      male   48.00000 0     0      50.4958 C        27         \n",
              "20  1        2      female 14.00000 1     0      30.0708 C        28         \n",
              "21  0        3      male   27.00000 0     0       7.2250 C        30         \n",
              "22  0        3      male   18.00000 0     0       7.7750 S        31         \n",
              "23  0        3      male   23.00000 0     0       7.0500 S        32         \n",
              "24  1        1      female 29.99363 0     0     110.8833 C        33         \n",
              "25  1        1      female 29.99363 1     0     133.6500 S        34         \n",
              "26  1        1      male   32.00000 0     0      30.5000 C        35         \n",
              "27  0        3      male   29.99363 0     0       7.7333 Q        36         \n",
              "28  0        2      male   26.00000 0     0      13.0000 S        38         \n",
              "29  0        2      male   27.00000 0     0      15.0333 C        39         \n",
              "30  0        3      male   74.00000 0     0       7.7750 S        40         \n",
              "⋮   ⋮        ⋮      ⋮      ⋮        ⋮     ⋮     ⋮        ⋮        ⋮          \n",
              "862 1        2      female 36.00000 0     3      39.0000 S        1265       \n",
              "863 1        2      male   32.00000 1     0      26.0000 S        1266       \n",
              "864 1        1      female 22.00000 0     0     151.5500 S        1267       \n",
              "865 1        1      male   54.00000 1     0      55.4417 C        1268       \n",
              "866 0        2      male   54.00000 0     0      26.0000 S        1269       \n",
              "867 0        3      male   29.99363 1     0      14.4542 C        1271       \n",
              "868 0        3      male   29.99363 0     0       7.8958 C        1272       \n",
              "869 0        3      male    7.00000 4     1      29.1250 Q        1273       \n",
              "870 0        3      female 14.50000 1     0      14.4542 C        1275       \n",
              "871 0        3      female 29.99363 1     0      14.4583 C        1276       \n",
              "872 1        1      female 52.00000 1     1      93.5000 S        1277       \n",
              "873 0        3      male   29.99363 0     0       6.8583 Q        1280       \n",
              "874 1        3      male   25.00000 1     0       7.7750 S        1281       \n",
              "875 0        3      male   21.00000 0     0       7.9250 S        1282       \n",
              "876 0        3      male   29.99363 0     0       8.0500 S        1283       \n",
              "877 1        2      female 22.00000 1     1      29.0000 S        1285       \n",
              "878 0        1      male   46.00000 0     0      79.2000 C        1286       \n",
              "879 1        1      female 44.00000 0     0      27.7208 C        1287       \n",
              "880 1        1      female 42.00000 0     0     227.5250 C        1288       \n",
              "881 0        2      male   18.00000 0     0      11.5000 S        1289       \n",
              "882 0        3      male   20.00000 0     0       9.8458 S        1290       \n",
              "883 0        1      male   50.00000 1     0     106.4250 C        1293       \n",
              "884 0        3      female 18.00000 0     1      14.4542 C        1294       \n",
              "885 0        3      male   29.99363 0     0       7.7500 Q        1295       \n",
              "886 0        3      male   29.99363 0     0       7.7750 S        1296       \n",
              "887 1        1      male   36.00000 0     0      26.3875 S        1297       \n",
              "888 0        2      male   22.00000 2     0      31.5000 S        1298       \n",
              "889 1        2      female 24.00000 0     0      13.0000 S        1299       \n",
              "890 0        3      male   31.00000 0     0       7.7750 S        1303       \n",
              "891 0        3      male   21.00000 0     0       8.0500 S        1304       "
            ]
          },
          "metadata": {}
        }
      ]
    },
    {
      "cell_type": "code",
      "source": [
        "any(is.na(train$Age))"
      ],
      "metadata": {
        "colab": {
          "base_uri": "https://localhost:8080/",
          "height": 34
        },
        "id": "PF3F_plqMcSd",
        "outputId": "27e5af02-39d1-47ad-e456-efe4d1cd5bac"
      },
      "execution_count": null,
      "outputs": [
        {
          "output_type": "display_data",
          "data": {
            "text/html": [
              "FALSE"
            ],
            "text/markdown": "FALSE",
            "text/latex": "FALSE",
            "text/plain": [
              "[1] FALSE"
            ]
          },
          "metadata": {}
        }
      ]
    },
    {
      "cell_type": "markdown",
      "source": [
        "A3)  Você deve remover as linhas onde ainda estiverem faltando dados, depois de atribuir o valor para os NAs de Age. Poucas linhas estarão ainda com dados faltantes."
      ],
      "metadata": {
        "id": "nHO4ocNdigvg"
      }
    },
    {
      "cell_type": "code",
      "source": [
        "sapply(train, function(x) sum(is.na(x)))"
      ],
      "metadata": {
        "colab": {
          "base_uri": "https://localhost:8080/",
          "height": 34
        },
        "id": "UTQr3ivklYT5",
        "outputId": "5662aac0-d63e-4719-9987-cf67e7536140"
      },
      "execution_count": null,
      "outputs": [
        {
          "output_type": "display_data",
          "data": {
            "text/html": [
              "<style>\n",
              ".dl-inline {width: auto; margin:0; padding: 0}\n",
              ".dl-inline>dt, .dl-inline>dd {float: none; width: auto; display: inline-block}\n",
              ".dl-inline>dt::after {content: \":\\0020\"; padding-right: .5ex}\n",
              ".dl-inline>dt:not(:first-of-type) {padding-left: .5ex}\n",
              "</style><dl class=dl-inline><dt>PassengerId</dt><dd>0</dd><dt>Survived</dt><dd>0</dd><dt>Pclass</dt><dd>0</dd><dt>Name</dt><dd>0</dd><dt>Sex</dt><dd>0</dd><dt>Age</dt><dd>0</dd><dt>SibSp</dt><dd>0</dd><dt>Parch</dt><dd>0</dd><dt>Ticket</dt><dd>0</dd><dt>Fare</dt><dd>1</dd><dt>Cabin</dt><dd>689</dd><dt>Embarked</dt><dd>1</dd></dl>\n"
            ],
            "text/markdown": "PassengerId\n:   0Survived\n:   0Pclass\n:   0Name\n:   0Sex\n:   0Age\n:   0SibSp\n:   0Parch\n:   0Ticket\n:   0Fare\n:   1Cabin\n:   689Embarked\n:   1\n\n",
            "text/latex": "\\begin{description*}\n\\item[PassengerId] 0\n\\item[Survived] 0\n\\item[Pclass] 0\n\\item[Name] 0\n\\item[Sex] 0\n\\item[Age] 0\n\\item[SibSp] 0\n\\item[Parch] 0\n\\item[Ticket] 0\n\\item[Fare] 1\n\\item[Cabin] 689\n\\item[Embarked] 1\n\\end{description*}\n",
            "text/plain": [
              "PassengerId    Survived      Pclass        Name         Sex         Age \n",
              "          0           0           0           0           0           0 \n",
              "      SibSp       Parch      Ticket        Fare       Cabin    Embarked \n",
              "          0           0           0           1         689           1 "
            ]
          },
          "metadata": {}
        }
      ]
    },
    {
      "cell_type": "code",
      "source": [
        "any(is.na(train$Cabin))"
      ],
      "metadata": {
        "colab": {
          "base_uri": "https://localhost:8080/",
          "height": 34
        },
        "id": "E8QSCWFdMycl",
        "outputId": "0b684b8b-e9cb-4b5c-c9be-b7733543ec3c"
      },
      "execution_count": null,
      "outputs": [
        {
          "output_type": "display_data",
          "data": {
            "text/html": [
              "TRUE"
            ],
            "text/markdown": "TRUE",
            "text/latex": "TRUE",
            "text/plain": [
              "[1] TRUE"
            ]
          },
          "metadata": {}
        }
      ]
    },
    {
      "cell_type": "code",
      "source": [
        "any(is.na(train$Embarked))"
      ],
      "metadata": {
        "colab": {
          "base_uri": "https://localhost:8080/",
          "height": 34
        },
        "id": "hmaSqKjVM0Zu",
        "outputId": "975a220c-852a-4122-a503-b8b83dda3953"
      },
      "execution_count": null,
      "outputs": [
        {
          "output_type": "display_data",
          "data": {
            "text/html": [
              "TRUE"
            ],
            "text/markdown": "TRUE",
            "text/latex": "TRUE",
            "text/plain": [
              "[1] TRUE"
            ]
          },
          "metadata": {}
        }
      ]
    },
    {
      "cell_type": "code",
      "source": [
        "train = na.omit(train)"
      ],
      "metadata": {
        "id": "vEjVXy9RM2e4"
      },
      "execution_count": null,
      "outputs": []
    },
    {
      "cell_type": "code",
      "source": [
        "train"
      ],
      "metadata": {
        "colab": {
          "base_uri": "https://localhost:8080/",
          "height": 1000
        },
        "id": "UWfYk-hoNMt8",
        "outputId": "94ae7e3b-1a7e-4fe8-e7d2-4bc89ef41432"
      },
      "execution_count": null,
      "outputs": [
        {
          "output_type": "display_data",
          "data": {
            "text/html": [
              "<table class=\"dataframe\">\n",
              "<caption>A data.frame: 201 × 12</caption>\n",
              "<thead>\n",
              "\t<tr><th></th><th scope=col>PassengerId</th><th scope=col>Survived</th><th scope=col>Pclass</th><th scope=col>Name</th><th scope=col>Sex</th><th scope=col>Age</th><th scope=col>SibSp</th><th scope=col>Parch</th><th scope=col>Ticket</th><th scope=col>Fare</th><th scope=col>Cabin</th><th scope=col>Embarked</th></tr>\n",
              "\t<tr><th></th><th scope=col>&lt;int&gt;</th><th scope=col>&lt;int&gt;</th><th scope=col>&lt;int&gt;</th><th scope=col>&lt;chr&gt;</th><th scope=col>&lt;chr&gt;</th><th scope=col>&lt;dbl&gt;</th><th scope=col>&lt;int&gt;</th><th scope=col>&lt;int&gt;</th><th scope=col>&lt;chr&gt;</th><th scope=col>&lt;dbl&gt;</th><th scope=col>&lt;chr&gt;</th><th scope=col>&lt;chr&gt;</th></tr>\n",
              "</thead>\n",
              "<tbody>\n",
              "\t<tr><th scope=row>2</th><td>  3</td><td>1</td><td>1</td><td>Minahan, Mrs. William Edward (Lillian E Thorpe)      </td><td>female</td><td>37.00000</td><td>1</td><td>0</td><td>19928      </td><td> 90.0000</td><td>C78        </td><td>Q</td></tr>\n",
              "\t<tr><th scope=row>4</th><td>  5</td><td>1</td><td>1</td><td>Chibnall, Mrs. (Edith Martha Bowerman)               </td><td>female</td><td>29.99363</td><td>0</td><td>1</td><td>113505     </td><td> 55.0000</td><td>E33        </td><td>S</td></tr>\n",
              "\t<tr><th scope=row>7</th><td> 11</td><td>1</td><td>1</td><td>Dodge, Dr. Washington                                </td><td>male  </td><td>53.00000</td><td>1</td><td>1</td><td>33638      </td><td> 81.8583</td><td>A34        </td><td>S</td></tr>\n",
              "\t<tr><th scope=row>12</th><td> 18</td><td>1</td><td>1</td><td>Endres, Miss. Caroline Louise                        </td><td>female</td><td>38.00000</td><td>0</td><td>0</td><td>PC 17757   </td><td>227.5250</td><td>C45        </td><td>C</td></tr>\n",
              "\t<tr><th scope=row>18</th><td> 26</td><td>1</td><td>1</td><td>Allen, Miss. Elisabeth Walton                        </td><td>female</td><td>29.00000</td><td>0</td><td>0</td><td>24160      </td><td>211.3375</td><td>B5         </td><td>S</td></tr>\n",
              "\t<tr><th scope=row>19</th><td> 27</td><td>0</td><td>1</td><td>Brandeis, Mr. Emil                                   </td><td>male  </td><td>48.00000</td><td>0</td><td>0</td><td>PC 17591   </td><td> 50.4958</td><td>B10        </td><td>C</td></tr>\n",
              "\t<tr><th scope=row>26</th><td> 35</td><td>1</td><td>1</td><td>Stahelin-Maeglin, Dr. Max                            </td><td>male  </td><td>32.00000</td><td>0</td><td>0</td><td>13214      </td><td> 30.5000</td><td>B50        </td><td>C</td></tr>\n",
              "\t<tr><th scope=row>28</th><td> 38</td><td>0</td><td>2</td><td>Nesson, Mr. Israel                                   </td><td>male  </td><td>26.00000</td><td>0</td><td>0</td><td>244368     </td><td> 13.0000</td><td>F2         </td><td>S</td></tr>\n",
              "\t<tr><th scope=row>32</th><td> 44</td><td>0</td><td>1</td><td>Foreman, Mr. Benjamin Laventall                      </td><td>male  </td><td>30.00000</td><td>0</td><td>0</td><td>113051     </td><td> 27.7500</td><td>C111       </td><td>C</td></tr>\n",
              "\t<tr><th scope=row>34</th><td> 47</td><td>0</td><td>1</td><td>Chaffee, Mr. Herbert Fuller                          </td><td>male  </td><td>46.00000</td><td>1</td><td>0</td><td>W.E.P. 5734</td><td> 61.1750</td><td>E31        </td><td>S</td></tr>\n",
              "\t<tr><th scope=row>35</th><td> 49</td><td>1</td><td>1</td><td>Francatelli, Miss. Laura Mabel                       </td><td>female</td><td>30.00000</td><td>0</td><td>0</td><td>PC 17485   </td><td> 56.9292</td><td>E36        </td><td>C</td></tr>\n",
              "\t<tr><th scope=row>38</th><td> 58</td><td>0</td><td>1</td><td>Fry, Mr. Richard                                     </td><td>male  </td><td>29.99363</td><td>0</td><td>0</td><td>112058     </td><td>  0.0000</td><td>B102       </td><td>S</td></tr>\n",
              "\t<tr><th scope=row>41</th><td> 62</td><td>1</td><td>2</td><td>Nye, Mrs. (Elizabeth Ramell)                         </td><td>female</td><td>29.00000</td><td>0</td><td>0</td><td>C.A. 29395 </td><td> 10.5000</td><td>F33        </td><td>S</td></tr>\n",
              "\t<tr><th scope=row>42</th><td> 63</td><td>1</td><td>1</td><td>Greenfield, Mr. William Bertram                      </td><td>male  </td><td>23.00000</td><td>0</td><td>1</td><td>PC 17759   </td><td> 63.3583</td><td>D10 D12    </td><td>C</td></tr>\n",
              "\t<tr><th scope=row>44</th><td> 65</td><td>1</td><td>1</td><td>Mayne, Mlle. Berthe Antonine (\"Mrs de Villiers\")     </td><td>female</td><td>24.00000</td><td>0</td><td>0</td><td>PC 17482   </td><td> 49.5042</td><td>C90        </td><td>C</td></tr>\n",
              "\t<tr><th scope=row>49</th><td> 75</td><td>1</td><td>1</td><td>Perreault, Miss. Anne                                </td><td>female</td><td>30.00000</td><td>0</td><td>0</td><td>12749      </td><td> 93.5000</td><td>B73        </td><td>S</td></tr>\n",
              "\t<tr><th scope=row>50</th><td> 76</td><td>1</td><td>1</td><td>Gracie, Col. Archibald IV                            </td><td>male  </td><td>53.00000</td><td>0</td><td>0</td><td>113780     </td><td> 28.5000</td><td>C51        </td><td>C</td></tr>\n",
              "\t<tr><th scope=row>53</th><td> 80</td><td>1</td><td>1</td><td>Fortune, Miss. Alice Elizabeth                       </td><td>female</td><td>24.00000</td><td>3</td><td>2</td><td>19950      </td><td>263.0000</td><td>C23 C25 C27</td><td>S</td></tr>\n",
              "\t<tr><th scope=row>55</th><td> 84</td><td>1</td><td>1</td><td>Pears, Mrs. Thomas (Edith Wearne)                    </td><td>female</td><td>22.00000</td><td>1</td><td>0</td><td>113776     </td><td> 66.6000</td><td>C2         </td><td>S</td></tr>\n",
              "\t<tr><th scope=row>59</th><td> 88</td><td>1</td><td>1</td><td>Sloper, Mr. William Thompson                         </td><td>male  </td><td>28.00000</td><td>0</td><td>0</td><td>113788     </td><td> 35.5000</td><td>A6         </td><td>S</td></tr>\n",
              "\t<tr><th scope=row>64</th><td> 94</td><td>1</td><td>1</td><td>Fortune, Mrs. Mark (Mary McDougald)                  </td><td>female</td><td>60.00000</td><td>1</td><td>4</td><td>19950      </td><td>263.0000</td><td>C23 C25 C27</td><td>S</td></tr>\n",
              "\t<tr><th scope=row>66</th><td> 97</td><td>0</td><td>1</td><td>Sutton, Mr. Frederick                                </td><td>male  </td><td>61.00000</td><td>0</td><td>0</td><td>36963      </td><td> 32.3208</td><td>D50        </td><td>S</td></tr>\n",
              "\t<tr><th scope=row>67</th><td> 98</td><td>1</td><td>1</td><td>Snyder, Mrs. John Pillsbury (Nelle Stevenson)        </td><td>female</td><td>23.00000</td><td>1</td><td>0</td><td>21228      </td><td> 82.2667</td><td>B45        </td><td>S</td></tr>\n",
              "\t<tr><th scope=row>70</th><td>101</td><td>1</td><td>1</td><td>Earnshaw, Mrs. Boulton (Olive Potter)                </td><td>female</td><td>23.00000</td><td>0</td><td>1</td><td>11767      </td><td> 83.1583</td><td>C54        </td><td>C</td></tr>\n",
              "\t<tr><th scope=row>78</th><td>112</td><td>1</td><td>1</td><td>Daly, Mr. Peter Denis                                </td><td>male  </td><td>51.00000</td><td>0</td><td>0</td><td>113055     </td><td> 26.5500</td><td>E17        </td><td>S</td></tr>\n",
              "\t<tr><th scope=row>79</th><td>113</td><td>1</td><td>1</td><td>Lesurer, Mr. Gustave J                               </td><td>male  </td><td>35.00000</td><td>0</td><td>0</td><td>PC 17755   </td><td>512.3292</td><td>B101       </td><td>C</td></tr>\n",
              "\t<tr><th scope=row>84</th><td>118</td><td>1</td><td>1</td><td>Dodge, Mrs. Washington (Ruth Vidaver)                </td><td>female</td><td>54.00000</td><td>1</td><td>1</td><td>33638      </td><td> 81.8583</td><td>A34        </td><td>S</td></tr>\n",
              "\t<tr><th scope=row>87</th><td>122</td><td>0</td><td>1</td><td>Smith, Mr. Richard William                           </td><td>male  </td><td>29.99363</td><td>0</td><td>0</td><td>113056     </td><td> 26.0000</td><td>A19        </td><td>S</td></tr>\n",
              "\t<tr><th scope=row>88</th><td>123</td><td>0</td><td>1</td><td>Baxter, Mr. Quigg Edmond                             </td><td>male  </td><td>24.00000</td><td>0</td><td>1</td><td>PC 17558   </td><td>247.5208</td><td>B58 B60    </td><td>C</td></tr>\n",
              "\t<tr><th scope=row>92</th><td>127</td><td>1</td><td>1</td><td>Compton, Mrs. Alexander Taylor (Mary Eliza Ingersoll)</td><td>female</td><td>64.00000</td><td>0</td><td>2</td><td>PC 17756   </td><td> 83.1583</td><td>E45        </td><td>C</td></tr>\n",
              "\t<tr><th scope=row>⋮</th><td>⋮</td><td>⋮</td><td>⋮</td><td>⋮</td><td>⋮</td><td>⋮</td><td>⋮</td><td>⋮</td><td>⋮</td><td>⋮</td><td>⋮</td><td>⋮</td></tr>\n",
              "\t<tr><th scope=row>769</th><td>1121</td><td>1</td><td>1</td><td>Newsom, Miss. Helen Monypeny                       </td><td>female</td><td>19.00000</td><td>0</td><td>2</td><td>11752      </td><td> 26.2833</td><td>D47    </td><td>S</td></tr>\n",
              "\t<tr><th scope=row>782</th><td>1143</td><td>1</td><td>1</td><td>Rosenbaum, Miss. Edith Louise                      </td><td>female</td><td>33.00000</td><td>0</td><td>0</td><td>PC 17613   </td><td> 27.7208</td><td>A11    </td><td>C</td></tr>\n",
              "\t<tr><th scope=row>783</th><td>1145</td><td>0</td><td>1</td><td>Hilliard, Mr. Herbert Henry                        </td><td>male  </td><td>29.99363</td><td>0</td><td>0</td><td>17463      </td><td> 51.8625</td><td>E46    </td><td>S</td></tr>\n",
              "\t<tr><th scope=row>797</th><td>1163</td><td>0</td><td>1</td><td>Franklin, Mr. Thomas Parham                        </td><td>male  </td><td>29.99363</td><td>0</td><td>0</td><td>113778     </td><td> 26.5500</td><td>D34    </td><td>S</td></tr>\n",
              "\t<tr><th scope=row>805</th><td>1174</td><td>1</td><td>1</td><td>Maioni, Miss. Roberta                              </td><td>female</td><td>16.00000</td><td>0</td><td>0</td><td>110152     </td><td> 86.5000</td><td>B79    </td><td>S</td></tr>\n",
              "\t<tr><th scope=row>808</th><td>1180</td><td>1</td><td>1</td><td>Dodge, Master. Washington                          </td><td>male  </td><td> 4.00000</td><td>0</td><td>2</td><td>33638      </td><td> 81.8583</td><td>A34    </td><td>S</td></tr>\n",
              "\t<tr><th scope=row>809</th><td>1183</td><td>1</td><td>1</td><td>Bird, Miss. Ellen                                  </td><td>female</td><td>29.00000</td><td>0</td><td>0</td><td>PC 17483   </td><td>221.7792</td><td>C97    </td><td>S</td></tr>\n",
              "\t<tr><th scope=row>818</th><td>1196</td><td>0</td><td>1</td><td>Kenyon, Mr. Frederick R                            </td><td>male  </td><td>41.00000</td><td>1</td><td>0</td><td>17464      </td><td> 51.8625</td><td>D21    </td><td>S</td></tr>\n",
              "\t<tr><th scope=row>819</th><td>1197</td><td>1</td><td>2</td><td>Cook, Mrs. (Selena Rogers)                         </td><td>female</td><td>22.00000</td><td>0</td><td>0</td><td>W./C. 14266</td><td> 10.5000</td><td>F33    </td><td>S</td></tr>\n",
              "\t<tr><th scope=row>820</th><td>1198</td><td>1</td><td>3</td><td>Moor, Mrs. (Beila)                                 </td><td>female</td><td>27.00000</td><td>0</td><td>1</td><td>392096     </td><td> 12.4750</td><td>E121   </td><td>S</td></tr>\n",
              "\t<tr><th scope=row>832</th><td>1219</td><td>1</td><td>1</td><td>Smith, Mrs. Lucien Philip (Mary Eloise Hughes)     </td><td>female</td><td>18.00000</td><td>1</td><td>0</td><td>13695      </td><td> 60.0000</td><td>C31    </td><td>S</td></tr>\n",
              "\t<tr><th scope=row>833</th><td>1220</td><td>0</td><td>1</td><td>Allison, Mr. Hudson Joshua Creighton               </td><td>male  </td><td>30.00000</td><td>1</td><td>2</td><td>113781     </td><td>151.5500</td><td>C22 C26</td><td>S</td></tr>\n",
              "\t<tr><th scope=row>842</th><td>1236</td><td>0</td><td>1</td><td>Ross, Mr. John Hugo                                </td><td>male  </td><td>36.00000</td><td>0</td><td>0</td><td>13049      </td><td> 40.1250</td><td>A10    </td><td>C</td></tr>\n",
              "\t<tr><th scope=row>843</th><td>1237</td><td>0</td><td>1</td><td>Maguire, Mr. John Edward                           </td><td>male  </td><td>30.00000</td><td>0</td><td>0</td><td>110469     </td><td> 26.0000</td><td>C106   </td><td>S</td></tr>\n",
              "\t<tr><th scope=row>845</th><td>1239</td><td>0</td><td>1</td><td>Van der hoef, Mr. Wyckoff                          </td><td>male  </td><td>61.00000</td><td>0</td><td>0</td><td>111240     </td><td> 33.5000</td><td>B19    </td><td>S</td></tr>\n",
              "\t<tr><th scope=row>852</th><td>1252</td><td>0</td><td>1</td><td>Newell, Mr. Arthur Webster                         </td><td>male  </td><td>58.00000</td><td>0</td><td>2</td><td>35273      </td><td>113.2750</td><td>D48    </td><td>C</td></tr>\n",
              "\t<tr><th scope=row>854</th><td>1254</td><td>0</td><td>1</td><td>Molson, Mr. Harry Markland                         </td><td>male  </td><td>55.00000</td><td>0</td><td>0</td><td>113787     </td><td> 30.5000</td><td>C30    </td><td>S</td></tr>\n",
              "\t<tr><th scope=row>855</th><td>1255</td><td>0</td><td>1</td><td>Widener, Mr. George Dunton                         </td><td>male  </td><td>50.00000</td><td>1</td><td>1</td><td>113503     </td><td>211.5000</td><td>C80    </td><td>C</td></tr>\n",
              "\t<tr><th scope=row>857</th><td>1258</td><td>1</td><td>1</td><td>Appleton, Mrs. Edward Dale (Charlotte Lamson)      </td><td>female</td><td>53.00000</td><td>2</td><td>0</td><td>11769      </td><td> 51.4792</td><td>C101   </td><td>S</td></tr>\n",
              "\t<tr><th scope=row>858</th><td>1259</td><td>1</td><td>1</td><td>Cumings, Mrs. John Bradley (Florence Briggs Thayer)</td><td>female</td><td>38.00000</td><td>1</td><td>0</td><td>PC 17599   </td><td> 71.2833</td><td>C85    </td><td>C</td></tr>\n",
              "\t<tr><th scope=row>859</th><td>1261</td><td>0</td><td>1</td><td>Farthing, Mr. John                                 </td><td>male  </td><td>29.99363</td><td>0</td><td>0</td><td>PC 17483   </td><td>221.7792</td><td>C95    </td><td>S</td></tr>\n",
              "\t<tr><th scope=row>860</th><td>1263</td><td>0</td><td>2</td><td>Navratil, Mr. Michel (\"Louis M Hoffman\")           </td><td>male  </td><td>36.50000</td><td>0</td><td>2</td><td>230080     </td><td> 26.0000</td><td>F2     </td><td>S</td></tr>\n",
              "\t<tr><th scope=row>862</th><td>1265</td><td>1</td><td>2</td><td>Becker, Mrs. Allen Oliver (Nellie E Baumgardner)   </td><td>female</td><td>36.00000</td><td>0</td><td>3</td><td>230136     </td><td> 39.0000</td><td>F4     </td><td>S</td></tr>\n",
              "\t<tr><th scope=row>865</th><td>1268</td><td>1</td><td>1</td><td>Stengel, Mr. Charles Emil Henry                    </td><td>male  </td><td>54.00000</td><td>1</td><td>0</td><td>11778      </td><td> 55.4417</td><td>C116   </td><td>C</td></tr>\n",
              "\t<tr><th scope=row>872</th><td>1277</td><td>1</td><td>1</td><td>Hays, Mrs. Charles Melville (Clara Jennings Gregg) </td><td>female</td><td>52.00000</td><td>1</td><td>1</td><td>12749      </td><td> 93.5000</td><td>B69    </td><td>S</td></tr>\n",
              "\t<tr><th scope=row>878</th><td>1286</td><td>0</td><td>1</td><td>Guggenheim, Mr. Benjamin                           </td><td>male  </td><td>46.00000</td><td>0</td><td>0</td><td>PC 17593   </td><td> 79.2000</td><td>B82 B84</td><td>C</td></tr>\n",
              "\t<tr><th scope=row>879</th><td>1287</td><td>1</td><td>1</td><td>Brown, Mrs. James Joseph (Margaret Tobin)          </td><td>female</td><td>44.00000</td><td>0</td><td>0</td><td>PC 17610   </td><td> 27.7208</td><td>B4     </td><td>C</td></tr>\n",
              "\t<tr><th scope=row>883</th><td>1293</td><td>0</td><td>1</td><td>Douglas, Mr. Walter Donald                         </td><td>male  </td><td>50.00000</td><td>1</td><td>0</td><td>PC 17761   </td><td>106.4250</td><td>C86    </td><td>C</td></tr>\n",
              "\t<tr><th scope=row>887</th><td>1297</td><td>1</td><td>1</td><td>Flynn, Mr. John Irwin (\"Irving\")                   </td><td>male  </td><td>36.00000</td><td>0</td><td>0</td><td>PC 17474   </td><td> 26.3875</td><td>E25    </td><td>S</td></tr>\n",
              "\t<tr><th scope=row>889</th><td>1299</td><td>1</td><td>2</td><td>Brown, Miss. Amelia \"Mildred\"                      </td><td>female</td><td>24.00000</td><td>0</td><td>0</td><td>248733     </td><td> 13.0000</td><td>F33    </td><td>S</td></tr>\n",
              "</tbody>\n",
              "</table>\n"
            ],
            "text/markdown": "\nA data.frame: 201 × 12\n\n| <!--/--> | PassengerId &lt;int&gt; | Survived &lt;int&gt; | Pclass &lt;int&gt; | Name &lt;chr&gt; | Sex &lt;chr&gt; | Age &lt;dbl&gt; | SibSp &lt;int&gt; | Parch &lt;int&gt; | Ticket &lt;chr&gt; | Fare &lt;dbl&gt; | Cabin &lt;chr&gt; | Embarked &lt;chr&gt; |\n|---|---|---|---|---|---|---|---|---|---|---|---|---|\n| 2 |   3 | 1 | 1 | Minahan, Mrs. William Edward (Lillian E Thorpe)       | female | 37.00000 | 1 | 0 | 19928       |  90.0000 | C78         | Q |\n| 4 |   5 | 1 | 1 | Chibnall, Mrs. (Edith Martha Bowerman)                | female | 29.99363 | 0 | 1 | 113505      |  55.0000 | E33         | S |\n| 7 |  11 | 1 | 1 | Dodge, Dr. Washington                                 | male   | 53.00000 | 1 | 1 | 33638       |  81.8583 | A34         | S |\n| 12 |  18 | 1 | 1 | Endres, Miss. Caroline Louise                         | female | 38.00000 | 0 | 0 | PC 17757    | 227.5250 | C45         | C |\n| 18 |  26 | 1 | 1 | Allen, Miss. Elisabeth Walton                         | female | 29.00000 | 0 | 0 | 24160       | 211.3375 | B5          | S |\n| 19 |  27 | 0 | 1 | Brandeis, Mr. Emil                                    | male   | 48.00000 | 0 | 0 | PC 17591    |  50.4958 | B10         | C |\n| 26 |  35 | 1 | 1 | Stahelin-Maeglin, Dr. Max                             | male   | 32.00000 | 0 | 0 | 13214       |  30.5000 | B50         | C |\n| 28 |  38 | 0 | 2 | Nesson, Mr. Israel                                    | male   | 26.00000 | 0 | 0 | 244368      |  13.0000 | F2          | S |\n| 32 |  44 | 0 | 1 | Foreman, Mr. Benjamin Laventall                       | male   | 30.00000 | 0 | 0 | 113051      |  27.7500 | C111        | C |\n| 34 |  47 | 0 | 1 | Chaffee, Mr. Herbert Fuller                           | male   | 46.00000 | 1 | 0 | W.E.P. 5734 |  61.1750 | E31         | S |\n| 35 |  49 | 1 | 1 | Francatelli, Miss. Laura Mabel                        | female | 30.00000 | 0 | 0 | PC 17485    |  56.9292 | E36         | C |\n| 38 |  58 | 0 | 1 | Fry, Mr. Richard                                      | male   | 29.99363 | 0 | 0 | 112058      |   0.0000 | B102        | S |\n| 41 |  62 | 1 | 2 | Nye, Mrs. (Elizabeth Ramell)                          | female | 29.00000 | 0 | 0 | C.A. 29395  |  10.5000 | F33         | S |\n| 42 |  63 | 1 | 1 | Greenfield, Mr. William Bertram                       | male   | 23.00000 | 0 | 1 | PC 17759    |  63.3583 | D10 D12     | C |\n| 44 |  65 | 1 | 1 | Mayne, Mlle. Berthe Antonine (\"Mrs de Villiers\")      | female | 24.00000 | 0 | 0 | PC 17482    |  49.5042 | C90         | C |\n| 49 |  75 | 1 | 1 | Perreault, Miss. Anne                                 | female | 30.00000 | 0 | 0 | 12749       |  93.5000 | B73         | S |\n| 50 |  76 | 1 | 1 | Gracie, Col. Archibald IV                             | male   | 53.00000 | 0 | 0 | 113780      |  28.5000 | C51         | C |\n| 53 |  80 | 1 | 1 | Fortune, Miss. Alice Elizabeth                        | female | 24.00000 | 3 | 2 | 19950       | 263.0000 | C23 C25 C27 | S |\n| 55 |  84 | 1 | 1 | Pears, Mrs. Thomas (Edith Wearne)                     | female | 22.00000 | 1 | 0 | 113776      |  66.6000 | C2          | S |\n| 59 |  88 | 1 | 1 | Sloper, Mr. William Thompson                          | male   | 28.00000 | 0 | 0 | 113788      |  35.5000 | A6          | S |\n| 64 |  94 | 1 | 1 | Fortune, Mrs. Mark (Mary McDougald)                   | female | 60.00000 | 1 | 4 | 19950       | 263.0000 | C23 C25 C27 | S |\n| 66 |  97 | 0 | 1 | Sutton, Mr. Frederick                                 | male   | 61.00000 | 0 | 0 | 36963       |  32.3208 | D50         | S |\n| 67 |  98 | 1 | 1 | Snyder, Mrs. John Pillsbury (Nelle Stevenson)         | female | 23.00000 | 1 | 0 | 21228       |  82.2667 | B45         | S |\n| 70 | 101 | 1 | 1 | Earnshaw, Mrs. Boulton (Olive Potter)                 | female | 23.00000 | 0 | 1 | 11767       |  83.1583 | C54         | C |\n| 78 | 112 | 1 | 1 | Daly, Mr. Peter Denis                                 | male   | 51.00000 | 0 | 0 | 113055      |  26.5500 | E17         | S |\n| 79 | 113 | 1 | 1 | Lesurer, Mr. Gustave J                                | male   | 35.00000 | 0 | 0 | PC 17755    | 512.3292 | B101        | C |\n| 84 | 118 | 1 | 1 | Dodge, Mrs. Washington (Ruth Vidaver)                 | female | 54.00000 | 1 | 1 | 33638       |  81.8583 | A34         | S |\n| 87 | 122 | 0 | 1 | Smith, Mr. Richard William                            | male   | 29.99363 | 0 | 0 | 113056      |  26.0000 | A19         | S |\n| 88 | 123 | 0 | 1 | Baxter, Mr. Quigg Edmond                              | male   | 24.00000 | 0 | 1 | PC 17558    | 247.5208 | B58 B60     | C |\n| 92 | 127 | 1 | 1 | Compton, Mrs. Alexander Taylor (Mary Eliza Ingersoll) | female | 64.00000 | 0 | 2 | PC 17756    |  83.1583 | E45         | C |\n| ⋮ | ⋮ | ⋮ | ⋮ | ⋮ | ⋮ | ⋮ | ⋮ | ⋮ | ⋮ | ⋮ | ⋮ | ⋮ |\n| 769 | 1121 | 1 | 1 | Newsom, Miss. Helen Monypeny                        | female | 19.00000 | 0 | 2 | 11752       |  26.2833 | D47     | S |\n| 782 | 1143 | 1 | 1 | Rosenbaum, Miss. Edith Louise                       | female | 33.00000 | 0 | 0 | PC 17613    |  27.7208 | A11     | C |\n| 783 | 1145 | 0 | 1 | Hilliard, Mr. Herbert Henry                         | male   | 29.99363 | 0 | 0 | 17463       |  51.8625 | E46     | S |\n| 797 | 1163 | 0 | 1 | Franklin, Mr. Thomas Parham                         | male   | 29.99363 | 0 | 0 | 113778      |  26.5500 | D34     | S |\n| 805 | 1174 | 1 | 1 | Maioni, Miss. Roberta                               | female | 16.00000 | 0 | 0 | 110152      |  86.5000 | B79     | S |\n| 808 | 1180 | 1 | 1 | Dodge, Master. Washington                           | male   |  4.00000 | 0 | 2 | 33638       |  81.8583 | A34     | S |\n| 809 | 1183 | 1 | 1 | Bird, Miss. Ellen                                   | female | 29.00000 | 0 | 0 | PC 17483    | 221.7792 | C97     | S |\n| 818 | 1196 | 0 | 1 | Kenyon, Mr. Frederick R                             | male   | 41.00000 | 1 | 0 | 17464       |  51.8625 | D21     | S |\n| 819 | 1197 | 1 | 2 | Cook, Mrs. (Selena Rogers)                          | female | 22.00000 | 0 | 0 | W./C. 14266 |  10.5000 | F33     | S |\n| 820 | 1198 | 1 | 3 | Moor, Mrs. (Beila)                                  | female | 27.00000 | 0 | 1 | 392096      |  12.4750 | E121    | S |\n| 832 | 1219 | 1 | 1 | Smith, Mrs. Lucien Philip (Mary Eloise Hughes)      | female | 18.00000 | 1 | 0 | 13695       |  60.0000 | C31     | S |\n| 833 | 1220 | 0 | 1 | Allison, Mr. Hudson Joshua Creighton                | male   | 30.00000 | 1 | 2 | 113781      | 151.5500 | C22 C26 | S |\n| 842 | 1236 | 0 | 1 | Ross, Mr. John Hugo                                 | male   | 36.00000 | 0 | 0 | 13049       |  40.1250 | A10     | C |\n| 843 | 1237 | 0 | 1 | Maguire, Mr. John Edward                            | male   | 30.00000 | 0 | 0 | 110469      |  26.0000 | C106    | S |\n| 845 | 1239 | 0 | 1 | Van der hoef, Mr. Wyckoff                           | male   | 61.00000 | 0 | 0 | 111240      |  33.5000 | B19     | S |\n| 852 | 1252 | 0 | 1 | Newell, Mr. Arthur Webster                          | male   | 58.00000 | 0 | 2 | 35273       | 113.2750 | D48     | C |\n| 854 | 1254 | 0 | 1 | Molson, Mr. Harry Markland                          | male   | 55.00000 | 0 | 0 | 113787      |  30.5000 | C30     | S |\n| 855 | 1255 | 0 | 1 | Widener, Mr. George Dunton                          | male   | 50.00000 | 1 | 1 | 113503      | 211.5000 | C80     | C |\n| 857 | 1258 | 1 | 1 | Appleton, Mrs. Edward Dale (Charlotte Lamson)       | female | 53.00000 | 2 | 0 | 11769       |  51.4792 | C101    | S |\n| 858 | 1259 | 1 | 1 | Cumings, Mrs. John Bradley (Florence Briggs Thayer) | female | 38.00000 | 1 | 0 | PC 17599    |  71.2833 | C85     | C |\n| 859 | 1261 | 0 | 1 | Farthing, Mr. John                                  | male   | 29.99363 | 0 | 0 | PC 17483    | 221.7792 | C95     | S |\n| 860 | 1263 | 0 | 2 | Navratil, Mr. Michel (\"Louis M Hoffman\")            | male   | 36.50000 | 0 | 2 | 230080      |  26.0000 | F2      | S |\n| 862 | 1265 | 1 | 2 | Becker, Mrs. Allen Oliver (Nellie E Baumgardner)    | female | 36.00000 | 0 | 3 | 230136      |  39.0000 | F4      | S |\n| 865 | 1268 | 1 | 1 | Stengel, Mr. Charles Emil Henry                     | male   | 54.00000 | 1 | 0 | 11778       |  55.4417 | C116    | C |\n| 872 | 1277 | 1 | 1 | Hays, Mrs. Charles Melville (Clara Jennings Gregg)  | female | 52.00000 | 1 | 1 | 12749       |  93.5000 | B69     | S |\n| 878 | 1286 | 0 | 1 | Guggenheim, Mr. Benjamin                            | male   | 46.00000 | 0 | 0 | PC 17593    |  79.2000 | B82 B84 | C |\n| 879 | 1287 | 1 | 1 | Brown, Mrs. James Joseph (Margaret Tobin)           | female | 44.00000 | 0 | 0 | PC 17610    |  27.7208 | B4      | C |\n| 883 | 1293 | 0 | 1 | Douglas, Mr. Walter Donald                          | male   | 50.00000 | 1 | 0 | PC 17761    | 106.4250 | C86     | C |\n| 887 | 1297 | 1 | 1 | Flynn, Mr. John Irwin (\"Irving\")                    | male   | 36.00000 | 0 | 0 | PC 17474    |  26.3875 | E25     | S |\n| 889 | 1299 | 1 | 2 | Brown, Miss. Amelia \"Mildred\"                       | female | 24.00000 | 0 | 0 | 248733      |  13.0000 | F33     | S |\n\n",
            "text/latex": "A data.frame: 201 × 12\n\\begin{tabular}{r|llllllllllll}\n  & PassengerId & Survived & Pclass & Name & Sex & Age & SibSp & Parch & Ticket & Fare & Cabin & Embarked\\\\\n  & <int> & <int> & <int> & <chr> & <chr> & <dbl> & <int> & <int> & <chr> & <dbl> & <chr> & <chr>\\\\\n\\hline\n\t2 &   3 & 1 & 1 & Minahan, Mrs. William Edward (Lillian E Thorpe)       & female & 37.00000 & 1 & 0 & 19928       &  90.0000 & C78         & Q\\\\\n\t4 &   5 & 1 & 1 & Chibnall, Mrs. (Edith Martha Bowerman)                & female & 29.99363 & 0 & 1 & 113505      &  55.0000 & E33         & S\\\\\n\t7 &  11 & 1 & 1 & Dodge, Dr. Washington                                 & male   & 53.00000 & 1 & 1 & 33638       &  81.8583 & A34         & S\\\\\n\t12 &  18 & 1 & 1 & Endres, Miss. Caroline Louise                         & female & 38.00000 & 0 & 0 & PC 17757    & 227.5250 & C45         & C\\\\\n\t18 &  26 & 1 & 1 & Allen, Miss. Elisabeth Walton                         & female & 29.00000 & 0 & 0 & 24160       & 211.3375 & B5          & S\\\\\n\t19 &  27 & 0 & 1 & Brandeis, Mr. Emil                                    & male   & 48.00000 & 0 & 0 & PC 17591    &  50.4958 & B10         & C\\\\\n\t26 &  35 & 1 & 1 & Stahelin-Maeglin, Dr. Max                             & male   & 32.00000 & 0 & 0 & 13214       &  30.5000 & B50         & C\\\\\n\t28 &  38 & 0 & 2 & Nesson, Mr. Israel                                    & male   & 26.00000 & 0 & 0 & 244368      &  13.0000 & F2          & S\\\\\n\t32 &  44 & 0 & 1 & Foreman, Mr. Benjamin Laventall                       & male   & 30.00000 & 0 & 0 & 113051      &  27.7500 & C111        & C\\\\\n\t34 &  47 & 0 & 1 & Chaffee, Mr. Herbert Fuller                           & male   & 46.00000 & 1 & 0 & W.E.P. 5734 &  61.1750 & E31         & S\\\\\n\t35 &  49 & 1 & 1 & Francatelli, Miss. Laura Mabel                        & female & 30.00000 & 0 & 0 & PC 17485    &  56.9292 & E36         & C\\\\\n\t38 &  58 & 0 & 1 & Fry, Mr. Richard                                      & male   & 29.99363 & 0 & 0 & 112058      &   0.0000 & B102        & S\\\\\n\t41 &  62 & 1 & 2 & Nye, Mrs. (Elizabeth Ramell)                          & female & 29.00000 & 0 & 0 & C.A. 29395  &  10.5000 & F33         & S\\\\\n\t42 &  63 & 1 & 1 & Greenfield, Mr. William Bertram                       & male   & 23.00000 & 0 & 1 & PC 17759    &  63.3583 & D10 D12     & C\\\\\n\t44 &  65 & 1 & 1 & Mayne, Mlle. Berthe Antonine (\"Mrs de Villiers\")      & female & 24.00000 & 0 & 0 & PC 17482    &  49.5042 & C90         & C\\\\\n\t49 &  75 & 1 & 1 & Perreault, Miss. Anne                                 & female & 30.00000 & 0 & 0 & 12749       &  93.5000 & B73         & S\\\\\n\t50 &  76 & 1 & 1 & Gracie, Col. Archibald IV                             & male   & 53.00000 & 0 & 0 & 113780      &  28.5000 & C51         & C\\\\\n\t53 &  80 & 1 & 1 & Fortune, Miss. Alice Elizabeth                        & female & 24.00000 & 3 & 2 & 19950       & 263.0000 & C23 C25 C27 & S\\\\\n\t55 &  84 & 1 & 1 & Pears, Mrs. Thomas (Edith Wearne)                     & female & 22.00000 & 1 & 0 & 113776      &  66.6000 & C2          & S\\\\\n\t59 &  88 & 1 & 1 & Sloper, Mr. William Thompson                          & male   & 28.00000 & 0 & 0 & 113788      &  35.5000 & A6          & S\\\\\n\t64 &  94 & 1 & 1 & Fortune, Mrs. Mark (Mary McDougald)                   & female & 60.00000 & 1 & 4 & 19950       & 263.0000 & C23 C25 C27 & S\\\\\n\t66 &  97 & 0 & 1 & Sutton, Mr. Frederick                                 & male   & 61.00000 & 0 & 0 & 36963       &  32.3208 & D50         & S\\\\\n\t67 &  98 & 1 & 1 & Snyder, Mrs. John Pillsbury (Nelle Stevenson)         & female & 23.00000 & 1 & 0 & 21228       &  82.2667 & B45         & S\\\\\n\t70 & 101 & 1 & 1 & Earnshaw, Mrs. Boulton (Olive Potter)                 & female & 23.00000 & 0 & 1 & 11767       &  83.1583 & C54         & C\\\\\n\t78 & 112 & 1 & 1 & Daly, Mr. Peter Denis                                 & male   & 51.00000 & 0 & 0 & 113055      &  26.5500 & E17         & S\\\\\n\t79 & 113 & 1 & 1 & Lesurer, Mr. Gustave J                                & male   & 35.00000 & 0 & 0 & PC 17755    & 512.3292 & B101        & C\\\\\n\t84 & 118 & 1 & 1 & Dodge, Mrs. Washington (Ruth Vidaver)                 & female & 54.00000 & 1 & 1 & 33638       &  81.8583 & A34         & S\\\\\n\t87 & 122 & 0 & 1 & Smith, Mr. Richard William                            & male   & 29.99363 & 0 & 0 & 113056      &  26.0000 & A19         & S\\\\\n\t88 & 123 & 0 & 1 & Baxter, Mr. Quigg Edmond                              & male   & 24.00000 & 0 & 1 & PC 17558    & 247.5208 & B58 B60     & C\\\\\n\t92 & 127 & 1 & 1 & Compton, Mrs. Alexander Taylor (Mary Eliza Ingersoll) & female & 64.00000 & 0 & 2 & PC 17756    &  83.1583 & E45         & C\\\\\n\t⋮ & ⋮ & ⋮ & ⋮ & ⋮ & ⋮ & ⋮ & ⋮ & ⋮ & ⋮ & ⋮ & ⋮ & ⋮\\\\\n\t769 & 1121 & 1 & 1 & Newsom, Miss. Helen Monypeny                        & female & 19.00000 & 0 & 2 & 11752       &  26.2833 & D47     & S\\\\\n\t782 & 1143 & 1 & 1 & Rosenbaum, Miss. Edith Louise                       & female & 33.00000 & 0 & 0 & PC 17613    &  27.7208 & A11     & C\\\\\n\t783 & 1145 & 0 & 1 & Hilliard, Mr. Herbert Henry                         & male   & 29.99363 & 0 & 0 & 17463       &  51.8625 & E46     & S\\\\\n\t797 & 1163 & 0 & 1 & Franklin, Mr. Thomas Parham                         & male   & 29.99363 & 0 & 0 & 113778      &  26.5500 & D34     & S\\\\\n\t805 & 1174 & 1 & 1 & Maioni, Miss. Roberta                               & female & 16.00000 & 0 & 0 & 110152      &  86.5000 & B79     & S\\\\\n\t808 & 1180 & 1 & 1 & Dodge, Master. Washington                           & male   &  4.00000 & 0 & 2 & 33638       &  81.8583 & A34     & S\\\\\n\t809 & 1183 & 1 & 1 & Bird, Miss. Ellen                                   & female & 29.00000 & 0 & 0 & PC 17483    & 221.7792 & C97     & S\\\\\n\t818 & 1196 & 0 & 1 & Kenyon, Mr. Frederick R                             & male   & 41.00000 & 1 & 0 & 17464       &  51.8625 & D21     & S\\\\\n\t819 & 1197 & 1 & 2 & Cook, Mrs. (Selena Rogers)                          & female & 22.00000 & 0 & 0 & W./C. 14266 &  10.5000 & F33     & S\\\\\n\t820 & 1198 & 1 & 3 & Moor, Mrs. (Beila)                                  & female & 27.00000 & 0 & 1 & 392096      &  12.4750 & E121    & S\\\\\n\t832 & 1219 & 1 & 1 & Smith, Mrs. Lucien Philip (Mary Eloise Hughes)      & female & 18.00000 & 1 & 0 & 13695       &  60.0000 & C31     & S\\\\\n\t833 & 1220 & 0 & 1 & Allison, Mr. Hudson Joshua Creighton                & male   & 30.00000 & 1 & 2 & 113781      & 151.5500 & C22 C26 & S\\\\\n\t842 & 1236 & 0 & 1 & Ross, Mr. John Hugo                                 & male   & 36.00000 & 0 & 0 & 13049       &  40.1250 & A10     & C\\\\\n\t843 & 1237 & 0 & 1 & Maguire, Mr. John Edward                            & male   & 30.00000 & 0 & 0 & 110469      &  26.0000 & C106    & S\\\\\n\t845 & 1239 & 0 & 1 & Van der hoef, Mr. Wyckoff                           & male   & 61.00000 & 0 & 0 & 111240      &  33.5000 & B19     & S\\\\\n\t852 & 1252 & 0 & 1 & Newell, Mr. Arthur Webster                          & male   & 58.00000 & 0 & 2 & 35273       & 113.2750 & D48     & C\\\\\n\t854 & 1254 & 0 & 1 & Molson, Mr. Harry Markland                          & male   & 55.00000 & 0 & 0 & 113787      &  30.5000 & C30     & S\\\\\n\t855 & 1255 & 0 & 1 & Widener, Mr. George Dunton                          & male   & 50.00000 & 1 & 1 & 113503      & 211.5000 & C80     & C\\\\\n\t857 & 1258 & 1 & 1 & Appleton, Mrs. Edward Dale (Charlotte Lamson)       & female & 53.00000 & 2 & 0 & 11769       &  51.4792 & C101    & S\\\\\n\t858 & 1259 & 1 & 1 & Cumings, Mrs. John Bradley (Florence Briggs Thayer) & female & 38.00000 & 1 & 0 & PC 17599    &  71.2833 & C85     & C\\\\\n\t859 & 1261 & 0 & 1 & Farthing, Mr. John                                  & male   & 29.99363 & 0 & 0 & PC 17483    & 221.7792 & C95     & S\\\\\n\t860 & 1263 & 0 & 2 & Navratil, Mr. Michel (\"Louis M Hoffman\")            & male   & 36.50000 & 0 & 2 & 230080      &  26.0000 & F2      & S\\\\\n\t862 & 1265 & 1 & 2 & Becker, Mrs. Allen Oliver (Nellie E Baumgardner)    & female & 36.00000 & 0 & 3 & 230136      &  39.0000 & F4      & S\\\\\n\t865 & 1268 & 1 & 1 & Stengel, Mr. Charles Emil Henry                     & male   & 54.00000 & 1 & 0 & 11778       &  55.4417 & C116    & C\\\\\n\t872 & 1277 & 1 & 1 & Hays, Mrs. Charles Melville (Clara Jennings Gregg)  & female & 52.00000 & 1 & 1 & 12749       &  93.5000 & B69     & S\\\\\n\t878 & 1286 & 0 & 1 & Guggenheim, Mr. Benjamin                            & male   & 46.00000 & 0 & 0 & PC 17593    &  79.2000 & B82 B84 & C\\\\\n\t879 & 1287 & 1 & 1 & Brown, Mrs. James Joseph (Margaret Tobin)           & female & 44.00000 & 0 & 0 & PC 17610    &  27.7208 & B4      & C\\\\\n\t883 & 1293 & 0 & 1 & Douglas, Mr. Walter Donald                          & male   & 50.00000 & 1 & 0 & PC 17761    & 106.4250 & C86     & C\\\\\n\t887 & 1297 & 1 & 1 & Flynn, Mr. John Irwin (\"Irving\")                    & male   & 36.00000 & 0 & 0 & PC 17474    &  26.3875 & E25     & S\\\\\n\t889 & 1299 & 1 & 2 & Brown, Miss. Amelia \"Mildred\"                       & female & 24.00000 & 0 & 0 & 248733      &  13.0000 & F33     & S\\\\\n\\end{tabular}\n",
            "text/plain": [
              "    PassengerId Survived Pclass\n",
              "2     3         1        1     \n",
              "4     5         1        1     \n",
              "7    11         1        1     \n",
              "12   18         1        1     \n",
              "18   26         1        1     \n",
              "19   27         0        1     \n",
              "26   35         1        1     \n",
              "28   38         0        2     \n",
              "32   44         0        1     \n",
              "34   47         0        1     \n",
              "35   49         1        1     \n",
              "38   58         0        1     \n",
              "41   62         1        2     \n",
              "42   63         1        1     \n",
              "44   65         1        1     \n",
              "49   75         1        1     \n",
              "50   76         1        1     \n",
              "53   80         1        1     \n",
              "55   84         1        1     \n",
              "59   88         1        1     \n",
              "64   94         1        1     \n",
              "66   97         0        1     \n",
              "67   98         1        1     \n",
              "70  101         1        1     \n",
              "78  112         1        1     \n",
              "79  113         1        1     \n",
              "84  118         1        1     \n",
              "87  122         0        1     \n",
              "88  123         0        1     \n",
              "92  127         1        1     \n",
              "⋮   ⋮           ⋮        ⋮     \n",
              "769 1121        1        1     \n",
              "782 1143        1        1     \n",
              "783 1145        0        1     \n",
              "797 1163        0        1     \n",
              "805 1174        1        1     \n",
              "808 1180        1        1     \n",
              "809 1183        1        1     \n",
              "818 1196        0        1     \n",
              "819 1197        1        2     \n",
              "820 1198        1        3     \n",
              "832 1219        1        1     \n",
              "833 1220        0        1     \n",
              "842 1236        0        1     \n",
              "843 1237        0        1     \n",
              "845 1239        0        1     \n",
              "852 1252        0        1     \n",
              "854 1254        0        1     \n",
              "855 1255        0        1     \n",
              "857 1258        1        1     \n",
              "858 1259        1        1     \n",
              "859 1261        0        1     \n",
              "860 1263        0        2     \n",
              "862 1265        1        2     \n",
              "865 1268        1        1     \n",
              "872 1277        1        1     \n",
              "878 1286        0        1     \n",
              "879 1287        1        1     \n",
              "883 1293        0        1     \n",
              "887 1297        1        1     \n",
              "889 1299        1        2     \n",
              "    Name                                                  Sex    Age      SibSp\n",
              "2   Minahan, Mrs. William Edward (Lillian E Thorpe)       female 37.00000 1    \n",
              "4   Chibnall, Mrs. (Edith Martha Bowerman)                female 29.99363 0    \n",
              "7   Dodge, Dr. Washington                                 male   53.00000 1    \n",
              "12  Endres, Miss. Caroline Louise                         female 38.00000 0    \n",
              "18  Allen, Miss. Elisabeth Walton                         female 29.00000 0    \n",
              "19  Brandeis, Mr. Emil                                    male   48.00000 0    \n",
              "26  Stahelin-Maeglin, Dr. Max                             male   32.00000 0    \n",
              "28  Nesson, Mr. Israel                                    male   26.00000 0    \n",
              "32  Foreman, Mr. Benjamin Laventall                       male   30.00000 0    \n",
              "34  Chaffee, Mr. Herbert Fuller                           male   46.00000 1    \n",
              "35  Francatelli, Miss. Laura Mabel                        female 30.00000 0    \n",
              "38  Fry, Mr. Richard                                      male   29.99363 0    \n",
              "41  Nye, Mrs. (Elizabeth Ramell)                          female 29.00000 0    \n",
              "42  Greenfield, Mr. William Bertram                       male   23.00000 0    \n",
              "44  Mayne, Mlle. Berthe Antonine (\"Mrs de Villiers\")      female 24.00000 0    \n",
              "49  Perreault, Miss. Anne                                 female 30.00000 0    \n",
              "50  Gracie, Col. Archibald IV                             male   53.00000 0    \n",
              "53  Fortune, Miss. Alice Elizabeth                        female 24.00000 3    \n",
              "55  Pears, Mrs. Thomas (Edith Wearne)                     female 22.00000 1    \n",
              "59  Sloper, Mr. William Thompson                          male   28.00000 0    \n",
              "64  Fortune, Mrs. Mark (Mary McDougald)                   female 60.00000 1    \n",
              "66  Sutton, Mr. Frederick                                 male   61.00000 0    \n",
              "67  Snyder, Mrs. John Pillsbury (Nelle Stevenson)         female 23.00000 1    \n",
              "70  Earnshaw, Mrs. Boulton (Olive Potter)                 female 23.00000 0    \n",
              "78  Daly, Mr. Peter Denis                                 male   51.00000 0    \n",
              "79  Lesurer, Mr. Gustave J                                male   35.00000 0    \n",
              "84  Dodge, Mrs. Washington (Ruth Vidaver)                 female 54.00000 1    \n",
              "87  Smith, Mr. Richard William                            male   29.99363 0    \n",
              "88  Baxter, Mr. Quigg Edmond                              male   24.00000 0    \n",
              "92  Compton, Mrs. Alexander Taylor (Mary Eliza Ingersoll) female 64.00000 0    \n",
              "⋮   ⋮                                                     ⋮      ⋮        ⋮    \n",
              "769 Newsom, Miss. Helen Monypeny                          female 19.00000 0    \n",
              "782 Rosenbaum, Miss. Edith Louise                         female 33.00000 0    \n",
              "783 Hilliard, Mr. Herbert Henry                           male   29.99363 0    \n",
              "797 Franklin, Mr. Thomas Parham                           male   29.99363 0    \n",
              "805 Maioni, Miss. Roberta                                 female 16.00000 0    \n",
              "808 Dodge, Master. Washington                             male    4.00000 0    \n",
              "809 Bird, Miss. Ellen                                     female 29.00000 0    \n",
              "818 Kenyon, Mr. Frederick R                               male   41.00000 1    \n",
              "819 Cook, Mrs. (Selena Rogers)                            female 22.00000 0    \n",
              "820 Moor, Mrs. (Beila)                                    female 27.00000 0    \n",
              "832 Smith, Mrs. Lucien Philip (Mary Eloise Hughes)        female 18.00000 1    \n",
              "833 Allison, Mr. Hudson Joshua Creighton                  male   30.00000 1    \n",
              "842 Ross, Mr. John Hugo                                   male   36.00000 0    \n",
              "843 Maguire, Mr. John Edward                              male   30.00000 0    \n",
              "845 Van der hoef, Mr. Wyckoff                             male   61.00000 0    \n",
              "852 Newell, Mr. Arthur Webster                            male   58.00000 0    \n",
              "854 Molson, Mr. Harry Markland                            male   55.00000 0    \n",
              "855 Widener, Mr. George Dunton                            male   50.00000 1    \n",
              "857 Appleton, Mrs. Edward Dale (Charlotte Lamson)         female 53.00000 2    \n",
              "858 Cumings, Mrs. John Bradley (Florence Briggs Thayer)   female 38.00000 1    \n",
              "859 Farthing, Mr. John                                    male   29.99363 0    \n",
              "860 Navratil, Mr. Michel (\"Louis M Hoffman\")              male   36.50000 0    \n",
              "862 Becker, Mrs. Allen Oliver (Nellie E Baumgardner)      female 36.00000 0    \n",
              "865 Stengel, Mr. Charles Emil Henry                       male   54.00000 1    \n",
              "872 Hays, Mrs. Charles Melville (Clara Jennings Gregg)    female 52.00000 1    \n",
              "878 Guggenheim, Mr. Benjamin                              male   46.00000 0    \n",
              "879 Brown, Mrs. James Joseph (Margaret Tobin)             female 44.00000 0    \n",
              "883 Douglas, Mr. Walter Donald                            male   50.00000 1    \n",
              "887 Flynn, Mr. John Irwin (\"Irving\")                      male   36.00000 0    \n",
              "889 Brown, Miss. Amelia \"Mildred\"                         female 24.00000 0    \n",
              "    Parch Ticket      Fare     Cabin       Embarked\n",
              "2   0     19928        90.0000 C78         Q       \n",
              "4   1     113505       55.0000 E33         S       \n",
              "7   1     33638        81.8583 A34         S       \n",
              "12  0     PC 17757    227.5250 C45         C       \n",
              "18  0     24160       211.3375 B5          S       \n",
              "19  0     PC 17591     50.4958 B10         C       \n",
              "26  0     13214        30.5000 B50         C       \n",
              "28  0     244368       13.0000 F2          S       \n",
              "32  0     113051       27.7500 C111        C       \n",
              "34  0     W.E.P. 5734  61.1750 E31         S       \n",
              "35  0     PC 17485     56.9292 E36         C       \n",
              "38  0     112058        0.0000 B102        S       \n",
              "41  0     C.A. 29395   10.5000 F33         S       \n",
              "42  1     PC 17759     63.3583 D10 D12     C       \n",
              "44  0     PC 17482     49.5042 C90         C       \n",
              "49  0     12749        93.5000 B73         S       \n",
              "50  0     113780       28.5000 C51         C       \n",
              "53  2     19950       263.0000 C23 C25 C27 S       \n",
              "55  0     113776       66.6000 C2          S       \n",
              "59  0     113788       35.5000 A6          S       \n",
              "64  4     19950       263.0000 C23 C25 C27 S       \n",
              "66  0     36963        32.3208 D50         S       \n",
              "67  0     21228        82.2667 B45         S       \n",
              "70  1     11767        83.1583 C54         C       \n",
              "78  0     113055       26.5500 E17         S       \n",
              "79  0     PC 17755    512.3292 B101        C       \n",
              "84  1     33638        81.8583 A34         S       \n",
              "87  0     113056       26.0000 A19         S       \n",
              "88  1     PC 17558    247.5208 B58 B60     C       \n",
              "92  2     PC 17756     83.1583 E45         C       \n",
              "⋮   ⋮     ⋮           ⋮        ⋮           ⋮       \n",
              "769 2     11752        26.2833 D47         S       \n",
              "782 0     PC 17613     27.7208 A11         C       \n",
              "783 0     17463        51.8625 E46         S       \n",
              "797 0     113778       26.5500 D34         S       \n",
              "805 0     110152       86.5000 B79         S       \n",
              "808 2     33638        81.8583 A34         S       \n",
              "809 0     PC 17483    221.7792 C97         S       \n",
              "818 0     17464        51.8625 D21         S       \n",
              "819 0     W./C. 14266  10.5000 F33         S       \n",
              "820 1     392096       12.4750 E121        S       \n",
              "832 0     13695        60.0000 C31         S       \n",
              "833 2     113781      151.5500 C22 C26     S       \n",
              "842 0     13049        40.1250 A10         C       \n",
              "843 0     110469       26.0000 C106        S       \n",
              "845 0     111240       33.5000 B19         S       \n",
              "852 2     35273       113.2750 D48         C       \n",
              "854 0     113787       30.5000 C30         S       \n",
              "855 1     113503      211.5000 C80         C       \n",
              "857 0     11769        51.4792 C101        S       \n",
              "858 0     PC 17599     71.2833 C85         C       \n",
              "859 0     PC 17483    221.7792 C95         S       \n",
              "860 2     230080       26.0000 F2          S       \n",
              "862 3     230136       39.0000 F4          S       \n",
              "865 0     11778        55.4417 C116        C       \n",
              "872 1     12749        93.5000 B69         S       \n",
              "878 0     PC 17593     79.2000 B82 B84     C       \n",
              "879 0     PC 17610     27.7208 B4          C       \n",
              "883 0     PC 17761    106.4250 C86         C       \n",
              "887 0     PC 17474     26.3875 E25         S       \n",
              "889 0     248733       13.0000 F33         S       "
            ]
          },
          "metadata": {}
        }
      ]
    },
    {
      "cell_type": "code",
      "source": [
        "any(is.na(train$Embarked))"
      ],
      "metadata": {
        "colab": {
          "base_uri": "https://localhost:8080/",
          "height": 34
        },
        "id": "8-yKJs8uNbPX",
        "outputId": "63864b1c-6d3d-4f01-cbfd-3c722cc0dcce"
      },
      "execution_count": null,
      "outputs": [
        {
          "output_type": "display_data",
          "data": {
            "text/html": [
              "FALSE"
            ],
            "text/markdown": "FALSE",
            "text/latex": "FALSE",
            "text/plain": [
              "[1] FALSE"
            ]
          },
          "metadata": {}
        }
      ]
    },
    {
      "cell_type": "code",
      "source": [
        "any(is.na(train$Cabin))"
      ],
      "metadata": {
        "colab": {
          "base_uri": "https://localhost:8080/",
          "height": 34
        },
        "id": "tzAHfKJLNeNP",
        "outputId": "40e793fc-a93c-4dc9-bdb1-aa8c1d34c36d"
      },
      "execution_count": null,
      "outputs": [
        {
          "output_type": "display_data",
          "data": {
            "text/html": [
              "FALSE"
            ],
            "text/markdown": "FALSE",
            "text/latex": "FALSE",
            "text/plain": [
              "[1] FALSE"
            ]
          },
          "metadata": {}
        }
      ]
    },
    {
      "cell_type": "code",
      "source": [
        "sapply(train, function(x) sum(is.na(x)))"
      ],
      "metadata": {
        "colab": {
          "base_uri": "https://localhost:8080/",
          "height": 34
        },
        "id": "dx9V9vwuNgDl",
        "outputId": "fb9ec26a-944a-49a3-de56-4685701e9290"
      },
      "execution_count": null,
      "outputs": [
        {
          "output_type": "display_data",
          "data": {
            "text/html": [
              "<style>\n",
              ".dl-inline {width: auto; margin:0; padding: 0}\n",
              ".dl-inline>dt, .dl-inline>dd {float: none; width: auto; display: inline-block}\n",
              ".dl-inline>dt::after {content: \":\\0020\"; padding-right: .5ex}\n",
              ".dl-inline>dt:not(:first-of-type) {padding-left: .5ex}\n",
              "</style><dl class=dl-inline><dt>PassengerId</dt><dd>0</dd><dt>Survived</dt><dd>0</dd><dt>Pclass</dt><dd>0</dd><dt>Name</dt><dd>0</dd><dt>Sex</dt><dd>0</dd><dt>Age</dt><dd>0</dd><dt>SibSp</dt><dd>0</dd><dt>Parch</dt><dd>0</dd><dt>Ticket</dt><dd>0</dd><dt>Fare</dt><dd>0</dd><dt>Cabin</dt><dd>0</dd><dt>Embarked</dt><dd>0</dd></dl>\n"
            ],
            "text/markdown": "PassengerId\n:   0Survived\n:   0Pclass\n:   0Name\n:   0Sex\n:   0Age\n:   0SibSp\n:   0Parch\n:   0Ticket\n:   0Fare\n:   0Cabin\n:   0Embarked\n:   0\n\n",
            "text/latex": "\\begin{description*}\n\\item[PassengerId] 0\n\\item[Survived] 0\n\\item[Pclass] 0\n\\item[Name] 0\n\\item[Sex] 0\n\\item[Age] 0\n\\item[SibSp] 0\n\\item[Parch] 0\n\\item[Ticket] 0\n\\item[Fare] 0\n\\item[Cabin] 0\n\\item[Embarked] 0\n\\end{description*}\n",
            "text/plain": [
              "PassengerId    Survived      Pclass        Name         Sex         Age \n",
              "          0           0           0           0           0           0 \n",
              "      SibSp       Parch      Ticket        Fare       Cabin    Embarked \n",
              "          0           0           0           0           0           0 "
            ]
          },
          "metadata": {}
        }
      ]
    },
    {
      "cell_type": "markdown",
      "source": [
        "b)      Você deve criar um modelo  onde Survived será uma função das demais variáveis."
      ],
      "metadata": {
        "id": "h1bfc-v1ihvZ"
      }
    },
    {
      "cell_type": "code",
      "source": [
        ""
      ],
      "metadata": {
        "id": "8f6AEKuhO-21"
      },
      "execution_count": null,
      "outputs": []
    },
    {
      "cell_type": "code",
      "source": [
        "model = glm(train$Survived ~ train$Pclass + train$Sex + train$Age + train$SibSp + train$Parch + train$Fare + train$Embarked) #family = binomial(link = \"logit\"), data = data)"
      ],
      "metadata": {
        "id": "eZTTMW_pleOR"
      },
      "execution_count": null,
      "outputs": []
    },
    {
      "cell_type": "code",
      "source": [
        "model"
      ],
      "metadata": {
        "colab": {
          "base_uri": "https://localhost:8080/",
          "height": 277
        },
        "id": "v8fXpwo-PBsC",
        "outputId": "60767a58-51a5-4062-81bd-18b12eb26a80"
      },
      "execution_count": null,
      "outputs": [
        {
          "output_type": "display_data",
          "data": {
            "text/plain": [
              "\n",
              "Call:  glm(formula = train$Survived ~ train$Pclass + train$Sex + train$Age + \n",
              "    train$SibSp + train$Parch + train$Fare + train$Embarked)\n",
              "\n",
              "Coefficients:\n",
              "    (Intercept)     train$Pclass    train$Sexmale        train$Age  \n",
              "      1.0552031       -0.0015024       -0.5317785       -0.0029122  \n",
              "    train$SibSp      train$Parch       train$Fare  train$EmbarkedQ  \n",
              "      0.0348675       -0.0059490        0.0001298       -0.3000897  \n",
              "train$EmbarkedS  \n",
              "     -0.0492436  \n",
              "\n",
              "Degrees of Freedom: 200 Total (i.e. Null);  192 Residual\n",
              "Null Deviance:\t    46.21 \n",
              "Residual Deviance: 29.77 \tAIC: 206.5"
            ]
          },
          "metadata": {}
        }
      ]
    },
    {
      "cell_type": "code",
      "source": [
        "summary(model)"
      ],
      "metadata": {
        "colab": {
          "base_uri": "https://localhost:8080/",
          "height": 538
        },
        "id": "t-XHJyPblkhP",
        "outputId": "0740e681-fcd4-4e55-bf2d-31ab404becab"
      },
      "execution_count": null,
      "outputs": [
        {
          "output_type": "display_data",
          "data": {
            "text/plain": [
              "\n",
              "Call:\n",
              "glm(formula = train$Survived ~ train$Pclass + train$Sex + train$Age + \n",
              "    train$SibSp + train$Parch + train$Fare + train$Embarked)\n",
              "\n",
              "Deviance Residuals: \n",
              "     Min        1Q    Median        3Q       Max  \n",
              "-1.04127  -0.35636   0.01775   0.13196   0.75640  \n",
              "\n",
              "Coefficients:\n",
              "                  Estimate Std. Error t value Pr(>|t|)    \n",
              "(Intercept)      1.0552031  0.1416852   7.448 3.14e-12 ***\n",
              "train$Pclass    -0.0015024  0.0624287  -0.024    0.981    \n",
              "train$Sexmale   -0.5317785  0.0581958  -9.138  < 2e-16 ***\n",
              "train$Age       -0.0029122  0.0019448  -1.497    0.136    \n",
              "train$SibSp      0.0348675  0.0471393   0.740    0.460    \n",
              "train$Parch     -0.0059490  0.0402280  -0.148    0.883    \n",
              "train$Fare       0.0001298  0.0004036   0.322    0.748    \n",
              "train$EmbarkedQ -0.3000897  0.2380654  -1.261    0.209    \n",
              "train$EmbarkedS -0.0492436  0.0607619  -0.810    0.419    \n",
              "---\n",
              "Signif. codes:  0 ‘***’ 0.001 ‘**’ 0.01 ‘*’ 0.05 ‘.’ 0.1 ‘ ’ 1\n",
              "\n",
              "(Dispersion parameter for gaussian family taken to be 0.1550378)\n",
              "\n",
              "    Null deviance: 46.209  on 200  degrees of freedom\n",
              "Residual deviance: 29.767  on 192  degrees of freedom\n",
              "AIC: 206.52\n",
              "\n",
              "Number of Fisher Scoring iterations: 2\n"
            ]
          },
          "metadata": {}
        }
      ]
    },
    {
      "cell_type": "markdown",
      "source": [
        "c)       Faça as análises do modelo, verificando a significância estatística das variáveis (e seus parâmetros ajustados), gráficos diagnósticos, etc."
      ],
      "metadata": {
        "id": "_KCXegpCilYd"
      }
    },
    {
      "cell_type": "code",
      "source": [
        "deviance(model)/df.residual(model)"
      ],
      "metadata": {
        "colab": {
          "base_uri": "https://localhost:8080/",
          "height": 34
        },
        "id": "zwdC-gsblndW",
        "outputId": "9df19401-21cf-4b20-84f4-150803179055"
      },
      "execution_count": null,
      "outputs": [
        {
          "output_type": "display_data",
          "data": {
            "text/html": [
              "0.15503779898695"
            ],
            "text/markdown": "0.15503779898695",
            "text/latex": "0.15503779898695",
            "text/plain": [
              "[1] 0.1550378"
            ]
          },
          "metadata": {}
        }
      ]
    },
    {
      "cell_type": "markdown",
      "source": [
        "d)      Atualize o modelo como consequência da análise realizada no item anterior."
      ],
      "metadata": {
        "id": "5XwWPPheinFG"
      }
    },
    {
      "cell_type": "code",
      "source": [
        "# *Remova as variÃ¡veis sem significÃ¢ncia estatÃ­stica uma a uma.\n",
        "# *Execute o modelo e avalie os resultados.\n",
        "# *Avalie novamente a super dispersÃ£o."
      ],
      "metadata": {
        "id": "80P4gk_2lsJi"
      },
      "execution_count": null,
      "outputs": []
    },
    {
      "cell_type": "markdown",
      "source": [
        "e)      Faça as previsões da variável Survived na base de dados de teste utilizando o modelo refinado, e prepare um arquivo CSV para submissão que contenha apenas duas colunas: PassengerId, Survived."
      ],
      "metadata": {
        "id": "0B23iSd3ipQk"
      }
    },
    {
      "cell_type": "code",
      "source": [
        "# *Trate a base de dados de teste.\n",
        "# *Avalie os dados faltantes e trate-os.\n",
        "# Aplique o modelo preditivo.\n",
        "results.Survived = predict(model,\n",
        "                           newdata = subset(test,\n",
        "                                            select = c(2,4, 5, 6, 7, 9, 11)),\n",
        "                           type = \"response\")\n",
        "results.Survived = ifelse(results.Survived > 0.5, 1, 0)\n",
        "table(results.Survived)\n",
        "results.Survived"
      ],
      "metadata": {
        "colab": {
          "base_uri": "https://localhost:8080/",
          "height": 148
        },
        "id": "U7dQNNp3lwb3",
        "outputId": "5de62bf1-2c43-427d-9cf1-4383cea1b719"
      },
      "execution_count": null,
      "outputs": [
        {
          "output_type": "error",
          "ename": "ERROR",
          "evalue": "ignored",
          "traceback": [
            "Error in predict(model, newdata = subset(test, select = c(2, 4, 5, 6, : object 'model' not found\nTraceback:\n",
            "1. predict(model, newdata = subset(test, select = c(2, 4, 5, 6, \n .     7, 9, 11)), type = \"response\")"
          ]
        }
      ]
    },
    {
      "cell_type": "markdown",
      "source": [
        "f)        Submeta seu arquivo e também o script R com todas as análises realizadas, até a criação do arquivo CSV."
      ],
      "metadata": {
        "id": "hXksFWKvitKQ"
      }
    },
    {
      "cell_type": "code",
      "source": [
        "submissao = data.frame(PassengerId = test[, \"PassengerId\"],\n",
        "                        Survived = results.Survived)\n",
        "\n",
        "write.csv(submissao, \"titanic-submissao.csv\",\n",
        "          row.names = FALSE, quote = FALSE)"
      ],
      "metadata": {
        "colab": {
          "base_uri": "https://localhost:8080/",
          "height": 130
        },
        "id": "qU85c1rsl0EB",
        "outputId": "39386a66-ae20-435d-ff5d-fea8044ff140"
      },
      "execution_count": null,
      "outputs": [
        {
          "output_type": "error",
          "ename": "ERROR",
          "evalue": "ignored",
          "traceback": [
            "Error in data.frame(PassengerId = test[, \"PassengerId\"], Survived = results.Survived): object 'results.Survived' not found\nTraceback:\n",
            "1. data.frame(PassengerId = test[, \"PassengerId\"], Survived = results.Survived)"
          ]
        }
      ]
    },
    {
      "cell_type": "code",
      "source": [
        "# BÃ´nus: calcular a acurÃ¡cia\n",
        "# Pacote: caret - funÃ§Ã£o confusionMatrix()\n",
        "\n",
        "# Total      : 1309\n",
        "# Treinamento: 891 (68%) ---> 606 (tem resposta)\n",
        "# ValidaÃ§Ã£o  :           ---> 285 (tem resposta)\n",
        "# Teste      : 418 (32%) ---> nÃ£o tem a resposta\n",
        "\n",
        "# 1. Separar a base de treinamento em treinamento/validaÃ§Ã£o;\n",
        "# 2. Criar o modelo de regressÃ£o usando treinamento (glm);\n",
        "# 3. Predizer a resposta em validaÃ§Ã£o sem usar Survived (predict);\n",
        "# 4. Comparar a resposta predita com a resposta original."
      ],
      "metadata": {
        "id": "_8vUd5fGl3EA"
      },
      "execution_count": null,
      "outputs": []
    }
  ]
}