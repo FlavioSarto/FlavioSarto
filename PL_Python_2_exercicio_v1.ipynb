{
  "nbformat": 4,
  "nbformat_minor": 0,
  "metadata": {
    "colab": {
      "name": "PL_Python_2_exercicio.ipynb",
      "provenance": [],
      "collapsed_sections": [],
      "include_colab_link": true
    },
    "kernelspec": {
      "name": "python3",
      "display_name": "Python 3"
    },
    "language_info": {
      "name": "python"
    }
  },
  "cells": [
    {
      "cell_type": "markdown",
      "metadata": {
        "id": "view-in-github",
        "colab_type": "text"
      },
      "source": [
        "<a href=\"https://colab.research.google.com/github/FlavioSarto/FlavioSarto/blob/main/PL_Python_2_exercicio_v1.ipynb\" target=\"_parent\"><img src=\"https://colab.research.google.com/assets/colab-badge.svg\" alt=\"Open In Colab\"/></a>"
      ]
    },
    {
      "cell_type": "markdown",
      "metadata": {
        "id": "pqEhMdFQO3A-"
      },
      "source": [
        "<head>\n",
        "  <meta name=\"author\" content=\"Rogério de Oliveira\">\n",
        "  <meta institution=\"author\" content=\"Universidade Presbiteriana Mackenzie\">\n",
        "</head>\n",
        "\n",
        "<img src=\"http://meusite.mackenzie.br/rogerio/mackenzie_logo/UPM.2_horizontal_vermelho.jpg\" width=300, align=\"right\"> \n",
        "\n",
        "<h1 align=left><font size = 8, style=\"color:rgb(200,0,0)\"><b>Ciência de Dados </b></font></h1> \n",
        "<h1 align=left><font size = 5, style=\"color:rgb(0,0,0)\"><b>Paradigmas de Linguagens de\n",
        "Programação para Ciência de Dados</b></font></h1> \n",
        "\n",
        "# 2 Seleção e Organização de Dados com Pandas\n",
        "Professores: *Diego Nogare* & *Rogério de Oliveira* \n",
        "\n",
        "<br>\n",
        "<br>\n",
        "\n",
        "---\n"
      ]
    },
    {
      "cell_type": "markdown",
      "metadata": {
        "id": "42yF1G-yHu98"
      },
      "source": [
        "# Exercícios"
      ]
    },
    {
      "cell_type": "markdown",
      "metadata": {
        "id": "BDm3FTRtWXCY"
      },
      "source": [
        "Nos exercícios a seguir emprege a base de dados `titanic`.\n",
        "\n",
        "Todos exercícios possuem várias soluções possíveis, mas não se preocupe com isso. A melhor solução é primeiro, a que funciona para você!"
      ]
    },
    {
      "cell_type": "code",
      "metadata": {
        "colab": {
          "base_uri": "https://localhost:8080/",
          "height": 204
        },
        "id": "xBjopVrbVgb5",
        "outputId": "496a8930-35af-4261-e469-2631c2161572"
      },
      "source": [
        "import numpy as np\n",
        "import pandas as pd\n",
        "import seaborn as sns\n",
        "from random import choices\n",
        "\n",
        "titanic = sns.load_dataset('titanic')\n",
        "titanic.head()"
      ],
      "execution_count": 1,
      "outputs": [
        {
          "output_type": "execute_result",
          "data": {
            "text/html": [
              "<div>\n",
              "<style scoped>\n",
              "    .dataframe tbody tr th:only-of-type {\n",
              "        vertical-align: middle;\n",
              "    }\n",
              "\n",
              "    .dataframe tbody tr th {\n",
              "        vertical-align: top;\n",
              "    }\n",
              "\n",
              "    .dataframe thead th {\n",
              "        text-align: right;\n",
              "    }\n",
              "</style>\n",
              "<table border=\"1\" class=\"dataframe\">\n",
              "  <thead>\n",
              "    <tr style=\"text-align: right;\">\n",
              "      <th></th>\n",
              "      <th>survived</th>\n",
              "      <th>pclass</th>\n",
              "      <th>sex</th>\n",
              "      <th>age</th>\n",
              "      <th>sibsp</th>\n",
              "      <th>parch</th>\n",
              "      <th>fare</th>\n",
              "      <th>embarked</th>\n",
              "      <th>class</th>\n",
              "      <th>who</th>\n",
              "      <th>adult_male</th>\n",
              "      <th>deck</th>\n",
              "      <th>embark_town</th>\n",
              "      <th>alive</th>\n",
              "      <th>alone</th>\n",
              "    </tr>\n",
              "  </thead>\n",
              "  <tbody>\n",
              "    <tr>\n",
              "      <th>0</th>\n",
              "      <td>0</td>\n",
              "      <td>3</td>\n",
              "      <td>male</td>\n",
              "      <td>22.0</td>\n",
              "      <td>1</td>\n",
              "      <td>0</td>\n",
              "      <td>7.2500</td>\n",
              "      <td>S</td>\n",
              "      <td>Third</td>\n",
              "      <td>man</td>\n",
              "      <td>True</td>\n",
              "      <td>NaN</td>\n",
              "      <td>Southampton</td>\n",
              "      <td>no</td>\n",
              "      <td>False</td>\n",
              "    </tr>\n",
              "    <tr>\n",
              "      <th>1</th>\n",
              "      <td>1</td>\n",
              "      <td>1</td>\n",
              "      <td>female</td>\n",
              "      <td>38.0</td>\n",
              "      <td>1</td>\n",
              "      <td>0</td>\n",
              "      <td>71.2833</td>\n",
              "      <td>C</td>\n",
              "      <td>First</td>\n",
              "      <td>woman</td>\n",
              "      <td>False</td>\n",
              "      <td>C</td>\n",
              "      <td>Cherbourg</td>\n",
              "      <td>yes</td>\n",
              "      <td>False</td>\n",
              "    </tr>\n",
              "    <tr>\n",
              "      <th>2</th>\n",
              "      <td>1</td>\n",
              "      <td>3</td>\n",
              "      <td>female</td>\n",
              "      <td>26.0</td>\n",
              "      <td>0</td>\n",
              "      <td>0</td>\n",
              "      <td>7.9250</td>\n",
              "      <td>S</td>\n",
              "      <td>Third</td>\n",
              "      <td>woman</td>\n",
              "      <td>False</td>\n",
              "      <td>NaN</td>\n",
              "      <td>Southampton</td>\n",
              "      <td>yes</td>\n",
              "      <td>True</td>\n",
              "    </tr>\n",
              "    <tr>\n",
              "      <th>3</th>\n",
              "      <td>1</td>\n",
              "      <td>1</td>\n",
              "      <td>female</td>\n",
              "      <td>35.0</td>\n",
              "      <td>1</td>\n",
              "      <td>0</td>\n",
              "      <td>53.1000</td>\n",
              "      <td>S</td>\n",
              "      <td>First</td>\n",
              "      <td>woman</td>\n",
              "      <td>False</td>\n",
              "      <td>C</td>\n",
              "      <td>Southampton</td>\n",
              "      <td>yes</td>\n",
              "      <td>False</td>\n",
              "    </tr>\n",
              "    <tr>\n",
              "      <th>4</th>\n",
              "      <td>0</td>\n",
              "      <td>3</td>\n",
              "      <td>male</td>\n",
              "      <td>35.0</td>\n",
              "      <td>0</td>\n",
              "      <td>0</td>\n",
              "      <td>8.0500</td>\n",
              "      <td>S</td>\n",
              "      <td>Third</td>\n",
              "      <td>man</td>\n",
              "      <td>True</td>\n",
              "      <td>NaN</td>\n",
              "      <td>Southampton</td>\n",
              "      <td>no</td>\n",
              "      <td>True</td>\n",
              "    </tr>\n",
              "  </tbody>\n",
              "</table>\n",
              "</div>"
            ],
            "text/plain": [
              "   survived  pclass     sex   age  ...  deck  embark_town  alive  alone\n",
              "0         0       3    male  22.0  ...   NaN  Southampton     no  False\n",
              "1         1       1  female  38.0  ...     C    Cherbourg    yes  False\n",
              "2         1       3  female  26.0  ...   NaN  Southampton    yes   True\n",
              "3         1       1  female  35.0  ...     C  Southampton    yes  False\n",
              "4         0       3    male  35.0  ...   NaN  Southampton     no   True\n",
              "\n",
              "[5 rows x 15 columns]"
            ]
          },
          "metadata": {
            "tags": []
          },
          "execution_count": 1
        }
      ]
    },
    {
      "cell_type": "markdown",
      "metadata": {
        "id": "XEngnerfXmKX"
      },
      "source": [
        "1. Qual a quantidade de linhas e colunas de `titanic`? "
      ]
    },
    {
      "cell_type": "code",
      "metadata": {
        "id": "wUKRa5v3z0Sm",
        "outputId": "23b7ed38-33e6-481d-b3ef-5cc0662fecaa",
        "colab": {
          "base_uri": "https://localhost:8080/"
        }
      },
      "source": [
        "titanic.shape"
      ],
      "execution_count": 3,
      "outputs": [
        {
          "output_type": "execute_result",
          "data": {
            "text/plain": [
              "(891, 15)"
            ]
          },
          "metadata": {
            "tags": []
          },
          "execution_count": 3
        }
      ]
    },
    {
      "cell_type": "markdown",
      "metadata": {
        "id": "95H7DlB_YARA"
      },
      "source": [
        "2. Qual a idade do passageiro mais velho?"
      ]
    },
    {
      "cell_type": "code",
      "metadata": {
        "id": "j19ANBI4orHs",
        "outputId": "90d56509-8384-466b-aec3-429b1310f816",
        "colab": {
          "base_uri": "https://localhost:8080/"
        }
      },
      "source": [
        "print(titanic.age)\n"
      ],
      "execution_count": 5,
      "outputs": [
        {
          "output_type": "stream",
          "text": [
            "0      22.0\n",
            "1      38.0\n",
            "2      26.0\n",
            "3      35.0\n",
            "4      35.0\n",
            "       ... \n",
            "886    27.0\n",
            "887    19.0\n",
            "888     NaN\n",
            "889    26.0\n",
            "890    32.0\n",
            "Name: age, Length: 891, dtype: float64\n"
          ],
          "name": "stdout"
        }
      ]
    },
    {
      "cell_type": "code",
      "metadata": {
        "id": "cVfa90ZJFuEB"
      },
      "source": [
        "titanic2 = titanic.age"
      ],
      "execution_count": 9,
      "outputs": []
    },
    {
      "cell_type": "code",
      "metadata": {
        "id": "M_JqRHqLE2Xe",
        "outputId": "7dad44a8-c1c4-4e65-d27d-80d3146e926f",
        "colab": {
          "base_uri": "https://localhost:8080/"
        }
      },
      "source": [
        "titanic_ordenado = sorted(titanic2)\n",
        "print(titanic_ordenado)"
      ],
      "execution_count": 22,
      "outputs": [
        {
          "output_type": "stream",
          "text": [
            "[2.0, 2.0, 3.0, 4.0, 7.0, 8.0, 14.0, 14.0, 14.0, 15.0, 18.0, 18.0, 19.0, 19.0, 20.0, 21.0, 21.0, 22.0, 26.0, 27.0, 27.0, 28.0, 28.0, 29.0, 31.0, 34.0, 35.0, 35.0, 38.0, nan, 35.0, 38.0, 39.0, 40.0, 40.0, 42.0, 54.0, 55.0, 58.0, nan, nan, nan, nan, nan, nan, nan, 66.0, nan, nan, nan, nan, nan, nan, 49.0, 65.0, nan, 0.83, 4.0, 5.0, 11.0, 14.5, 16.0, 16.0, 17.0, 17.0, 19.0, 20.0, 21.0, 21.0, 21.0, 21.0, 22.0, 22.0, 23.0, 23.0, 24.0, 25.0, 26.0, 28.0, 28.0, 28.0, 28.5, 33.0, 34.0, 38.0, 45.0, nan, nan, 26.0, 26.0, 29.0, 29.0, 29.0, 30.0, 32.0, 32.0, nan, nan, nan, 33.0, nan, 37.0, 38.0, 46.0, 59.0, nan, 34.0, 71.0, nan, nan, nan, 1.0, 2.0, 9.0, 9.0, 12.0, 16.0, 16.0, 17.0, 17.0, 18.0, 19.0, 19.0, 19.0, 20.0, 20.0, 21.0, 21.0, 22.0, 22.0, 22.0, 23.0, 24.0, 24.0, 24.0, 24.0, 25.0, 26.0, 29.0, 30.0, 32.5, 54.0, 70.5, nan, 32.5, nan, nan, 27.0, 29.0, 33.0, 36.5, 37.0, 40.0, 40.5, 42.0, 44.0, 45.0, 47.0, nan, 45.0, 51.0, 51.0, 55.5, nan, nan, nan, nan, nan, 1.0, 1.0, 2.0, 3.0, 4.0, 4.0, 9.0, 16.0, 16.0, 18.0, 18.0, 19.0, 19.0, 21.0, 22.0, 24.0, 24.0, 26.0, 27.0, 27.0, 28.0, 28.0, 30.0, 30.0, 30.0, 31.0, 32.0, 32.0, 34.0, 36.0, 50.0, 56.0, 61.0, nan, nan, nan, nan, nan, 32.0, 35.0, 36.0, 40.0, 40.0, 42.0, 42.0, 44.0, 45.0, 45.5, 47.0, 58.0, nan, nan, nan, nan, 51.0, nan, 3.0, 5.0, 7.0, 8.0, 16.0, 18.0, 19.0, 19.0, 20.5, 22.0, 24.0, 24.0, 25.0, 29.0, 29.0, 30.0, 38.0, nan, 25.0, 25.0, 29.0, 30.0, 33.0, 35.0, 35.0, 36.0, 59.0, nan, 37.0, 44.0, nan, nan, 22.0, 29.0, 30.0, 35.0, 35.0, 37.0, 41.0, 41.0, 44.0, 45.0, 50.0, 54.0, nan, 62.0, nan, nan, 40.0, 52.0, nan, 58.0, nan, nan, 63.0, nan, 0.92, 2.0, 16.0, 16.0, 16.0, 17.0, 18.0, 19.0, 19.0, 19.0, 22.0, 22.0, 22.0, 22.0, 23.5, 24.0, 24.0, 24.0, 24.0, 26.0, 26.0, 26.0, 27.0, 28.0, 30.0, 31.0, 36.0, 38.0, 61.0, 65.0, nan, 30.0, 30.0, 31.0, 33.0, 36.0, 42.0, nan, nan, 36.0, 40.0, 43.0, 50.0, nan, nan, nan, nan, nan, 28.0, 30.0, 45.5, 54.0, nan, nan, nan, nan, 1.0, 1.0, 2.0, 3.0, 3.0, 15.0, 17.0, 18.0, 18.0, 19.0, 19.0, 20.0, 21.0, 22.0, 22.0, 22.0, 23.0, 24.0, 24.0, 24.0, 25.0, 25.0, 25.0, 27.0, 28.0, 28.0, 29.0, 29.0, 30.0, 35.0, 36.0, 38.0, 40.0, 40.0, 41.0, 42.0, 45.0, 45.0, nan, nan, nan, nan, nan, 45.0, nan, 32.0, 60.0, nan, nan, nan, 35.0, 42.0, nan, 36.0, nan, 3.0, 4.0, 10.0, 13.0, 14.0, 17.0, 18.0, 18.0, 19.0, 20.0, 20.0, 21.0, 21.0, 21.0, 21.0, 22.0, 23.0, 23.0, 24.0, 24.0, 25.0, 26.0, 28.0, 28.0, 28.0, 28.0, 28.0, 28.0, 28.0, 29.0, 30.0, 31.0, 31.0, 32.0, 33.0, 34.0, 34.0, 34.0, 36.0, 39.0, 42.0, 44.0, 45.0, 46.0, 50.0, 51.0, nan, nan, nan, nan, nan, nan, nan, nan, nan, 64.0, nan, 0.75, 5.0, 9.0, 9.0, 17.0, 21.0, 21.0, 21.0, 22.0, 22.0, 23.0, 24.0, 25.0, 25.0, 29.0, 30.0, 30.0, 33.0, 34.0, 34.0, 35.0, 36.0, 37.0, 38.0, 38.0, 47.0, 52.0, nan, 48.0, 48.0, 49.0, nan, 50.0, 56.0, 65.0, nan, nan, nan, nan, nan, nan, nan, 2.0, 29.0, nan, 50.0, 54.0, 58.0, 63.0, nan, nan, 55.0, 71.0, nan, nan, nan, 8.0, 9.0, 16.0, 17.0, 18.0, 19.0, 22.0, 22.0, 22.0, 26.0, 29.0, 33.0, nan, 28.0, nan, 2.0, 7.0, 11.0, 17.0, 22.0, 23.0, 24.0, 27.0, 30.0, 30.0, 30.0, 32.0, 32.0, 34.0, 36.0, 36.0, 36.0, 39.0, 40.5, 45.0, 47.0, 50.0, 54.0, nan, nan, 44.0, nan, nan, nan, nan, nan, 33.0, 36.0, 39.0, 48.0, 50.0, 62.0, 64.0, nan, nan, nan, nan, 19.0, 24.0, 28.0, 32.0, 40.0, nan, nan, 29.0, nan, 16.0, 18.0, 19.0, 22.0, 22.0, 24.0, 24.0, 25.0, 27.0, 30.0, 32.0, 34.0, 35.0, 35.0, 36.0, 36.0, 36.0, 36.0, 37.0, 39.0, 47.0, 49.0, 53.0, 62.0, nan, nan, 39.0, 39.0, 47.0, 54.0, nan, 60.0, nan, 35.0, 52.0, nan, nan, 49.0, nan, nan, nan, 40.0, 44.0, nan, nan, nan, 0.75, 2.0, 4.0, 9.0, 18.0, 18.0, 19.0, 20.0, 20.0, 20.0, 21.0, 21.0, 21.0, 21.0, 23.0, 23.0, 24.0, 24.0, 25.0, 26.0, 26.0, 26.0, 27.0, 28.0, 31.0, 31.0, 32.0, 32.0, 32.0, 32.0, 34.0, 36.0, 40.0, 40.0, 41.0, 42.0, 43.0, 47.0, 48.0, 50.0, 51.0, 56.0, 57.0, 61.0, nan, 80.0, nan, nan, nan, nan, nan, nan, nan, 58.0, nan, nan, 4.0, 6.0, 14.0, 14.0, 15.0, 17.0, 18.0, 18.0, 18.0, 18.0, 18.0, 19.0, 19.0, 20.0, 20.0, 22.0, 24.0, 24.5, 25.0, 25.0, 25.0, 26.0, 27.0, 27.0, 27.0, 29.0, 30.0, 31.0, 31.0, 35.0, 70.0, nan, 33.0, 34.0, 36.0, 38.0, 39.0, 43.0, nan, 42.0, 42.0, 44.0, 52.0, 60.0, nan, 60.0, nan, 45.0, 49.0, nan, nan, 48.0, 52.0, nan, 50.0, nan, 0.67, 4.0, 5.0, 6.0, 11.0, 13.0, 16.0, 16.0, 17.0, 18.0, 19.0, 20.0, 23.0, 23.0, 23.0, 25.0, 25.0, 28.0, 28.5, 29.0, nan, 18.0, 24.0, 29.0, 30.0, 30.5, 31.0, 35.0, 43.0, 48.0, nan, nan, nan, 21.0, 24.0, 31.0, 32.0, 33.0, 33.0, 34.0, 36.0, 36.0, 41.0, 48.0, 48.0, 51.0, 70.0, nan, nan, nan, 54.0, 57.0, nan, nan, nan, nan, 0.42, 0.83, 1.0, 1.0, 2.0, 6.0, 8.0, 10.0, 11.0, 15.0, 16.0, 18.0, 18.0, 18.0, 21.0, 23.0, 23.0, 25.0, 25.0, 26.0, 27.0, 27.0, 27.0, 30.0, 30.0, 30.5, 31.0, 32.0, 35.0, 46.0, nan, nan, nan, 25.0, 31.0, 31.0, 31.0, 33.0, 34.0, 38.0, 39.0, 39.0, 39.0, 39.0, 39.0, 43.0, 49.0, nan, 52.0, nan, nan, nan, 62.0, nan, nan, nan, 4.0, 4.0, 9.0, 15.0, 16.0, 16.0, 17.0, 18.0, 19.0, 19.0, 20.0, 20.0, 21.0, 22.0, 24.0, 24.0, 25.0, 25.0, 26.0, 26.0, 27.0, 27.0, 28.0, 28.0, 28.0, 30.0, 31.0, 33.0, 34.5, 35.0, 42.0, nan, nan, 32.0, 33.0, 39.0, 41.0, 42.0, 44.0, 45.0, 47.0, 47.0, 48.0, 51.0, 56.0, 74.0, nan, nan, nan, nan, nan]\n"
          ],
          "name": "stdout"
        }
      ]
    },
    {
      "cell_type": "code",
      "metadata": {
        "id": "DQAcVA71IElp",
        "outputId": "317cd291-393b-4b8e-afca-12f495168396",
        "colab": {
          "base_uri": "https://localhost:8080/"
        }
      },
      "source": [
        "max(titanic2)"
      ],
      "execution_count": 23,
      "outputs": [
        {
          "output_type": "execute_result",
          "data": {
            "text/plain": [
              "80.0"
            ]
          },
          "metadata": {
            "tags": []
          },
          "execution_count": 23
        }
      ]
    },
    {
      "cell_type": "markdown",
      "metadata": {
        "id": "_i-bSWW9YNa_"
      },
      "source": [
        "3. Qual a idade da sobrevivente feminina mais velha? "
      ]
    },
    {
      "cell_type": "code",
      "metadata": {
        "id": "MwegbEtForl8"
      },
      "source": [
        "titanic_female = titanic[titanic.sex == 'female']\n"
      ],
      "execution_count": 27,
      "outputs": []
    },
    {
      "cell_type": "code",
      "metadata": {
        "id": "xJXq7JA2Kh_0",
        "outputId": "868212d9-98f9-4d7f-bc5c-cd0de40987eb",
        "colab": {
          "base_uri": "https://localhost:8080/"
        }
      },
      "source": [
        "max(titanic_female.age)"
      ],
      "execution_count": 32,
      "outputs": [
        {
          "output_type": "execute_result",
          "data": {
            "text/plain": [
              "63.0"
            ]
          },
          "metadata": {
            "tags": []
          },
          "execution_count": 32
        }
      ]
    },
    {
      "cell_type": "code",
      "metadata": {
        "id": "iGbllUGCKqzQ",
        "outputId": "87b058b8-57cf-4e3d-ce59-73041d205e9d",
        "colab": {
          "base_uri": "https://localhost:8080/"
        }
      },
      "source": [
        "print(titanic_female)"
      ],
      "execution_count": 29,
      "outputs": [
        {
          "output_type": "stream",
          "text": [
            "     survived  pclass     sex   age  ...  deck  embark_town  alive  alone\n",
            "1           1       1  female  38.0  ...     C    Cherbourg    yes  False\n",
            "2           1       3  female  26.0  ...   NaN  Southampton    yes   True\n",
            "3           1       1  female  35.0  ...     C  Southampton    yes  False\n",
            "8           1       3  female  27.0  ...   NaN  Southampton    yes  False\n",
            "9           1       2  female  14.0  ...   NaN    Cherbourg    yes  False\n",
            "..        ...     ...     ...   ...  ...   ...          ...    ...    ...\n",
            "880         1       2  female  25.0  ...   NaN  Southampton    yes  False\n",
            "882         0       3  female  22.0  ...   NaN  Southampton     no   True\n",
            "885         0       3  female  39.0  ...   NaN   Queenstown     no  False\n",
            "887         1       1  female  19.0  ...     B  Southampton    yes   True\n",
            "888         0       3  female   NaN  ...   NaN  Southampton     no  False\n",
            "\n",
            "[314 rows x 15 columns]\n"
          ],
          "name": "stdout"
        }
      ]
    },
    {
      "cell_type": "code",
      "metadata": {
        "id": "vFwUwkAQRpfu"
      },
      "source": [
        "titanic_female_alive = titanic_female[titanic_female.alive == 'yes']"
      ],
      "execution_count": 60,
      "outputs": []
    },
    {
      "cell_type": "code",
      "metadata": {
        "id": "XzTI3JZOR-it",
        "outputId": "4499c196-96f8-4b74-8246-77caf60cc423",
        "colab": {
          "base_uri": "https://localhost:8080/"
        }
      },
      "source": [
        "print(titanic_female_alive)"
      ],
      "execution_count": 61,
      "outputs": [
        {
          "output_type": "stream",
          "text": [
            "     survived  pclass     sex   age  ...  deck  embark_town  alive  alone\n",
            "1           1       1  female  38.0  ...     C    Cherbourg    yes  False\n",
            "2           1       3  female  26.0  ...   NaN  Southampton    yes   True\n",
            "3           1       1  female  35.0  ...     C  Southampton    yes  False\n",
            "8           1       3  female  27.0  ...   NaN  Southampton    yes  False\n",
            "9           1       2  female  14.0  ...   NaN    Cherbourg    yes  False\n",
            "..        ...     ...     ...   ...  ...   ...          ...    ...    ...\n",
            "874         1       2  female  28.0  ...   NaN    Cherbourg    yes  False\n",
            "875         1       3  female  15.0  ...   NaN    Cherbourg    yes   True\n",
            "879         1       1  female  56.0  ...     C    Cherbourg    yes  False\n",
            "880         1       2  female  25.0  ...   NaN  Southampton    yes  False\n",
            "887         1       1  female  19.0  ...     B  Southampton    yes   True\n",
            "\n",
            "[233 rows x 15 columns]\n"
          ],
          "name": "stdout"
        }
      ]
    },
    {
      "cell_type": "code",
      "metadata": {
        "id": "6XM8HRPoSE6L",
        "outputId": "b57065c9-4134-4d7f-88ef-634a22bed22b",
        "colab": {
          "base_uri": "https://localhost:8080/"
        }
      },
      "source": [
        "max(titanic_female_alive.age)"
      ],
      "execution_count": 62,
      "outputs": [
        {
          "output_type": "execute_result",
          "data": {
            "text/plain": [
              "63.0"
            ]
          },
          "metadata": {
            "tags": []
          },
          "execution_count": 62
        }
      ]
    },
    {
      "cell_type": "markdown",
      "metadata": {
        "id": "Fs5Ys1kybzDz"
      },
      "source": [
        "4. Qual o percentual de sobreviventes da primeira e terceira classes?"
      ]
    },
    {
      "cell_type": "code",
      "metadata": {
        "id": "3jEnGjSTUOLN"
      },
      "source": [
        "titanic_alive = titanic[titanic.alive == 'yes']"
      ],
      "execution_count": 72,
      "outputs": []
    },
    {
      "cell_type": "code",
      "metadata": {
        "id": "sCbwNAjQMJ-S",
        "outputId": "77243a0f-4ba0-42c5-cacd-9c8a03e2e363",
        "colab": {
          "base_uri": "https://localhost:8080/"
        }
      },
      "source": [
        "titanic_alive.pclass"
      ],
      "execution_count": 73,
      "outputs": [
        {
          "output_type": "execute_result",
          "data": {
            "text/plain": [
              "1      1\n",
              "2      3\n",
              "3      1\n",
              "8      3\n",
              "9      2\n",
              "      ..\n",
              "875    3\n",
              "879    1\n",
              "880    2\n",
              "887    1\n",
              "889    1\n",
              "Name: pclass, Length: 342, dtype: int64"
            ]
          },
          "metadata": {
            "tags": []
          },
          "execution_count": 73
        }
      ]
    },
    {
      "cell_type": "code",
      "metadata": {
        "id": "MG7cjbEqor8u"
      },
      "source": [
        "titanic_1class = titanic [ titanic.pclass == '1' ]\n",
        "titanic_3class = titanic [ titanic.pclass == '3' ]"
      ],
      "execution_count": 57,
      "outputs": []
    },
    {
      "cell_type": "code",
      "metadata": {
        "id": "ZpfSnJieSaMK",
        "outputId": "28c7ede0-096a-4035-841a-ad6ea541bca7",
        "colab": {
          "base_uri": "https://localhost:8080/"
        }
      },
      "source": [
        "from collections import Counter\n",
        "counter = Counter(titanic_alive.pclass == 3)\n",
        "print(counter)"
      ],
      "execution_count": 75,
      "outputs": [
        {
          "output_type": "stream",
          "text": [
            "Counter({False: 223, True: 119})\n"
          ],
          "name": "stdout"
        }
      ]
    },
    {
      "cell_type": "code",
      "metadata": {
        "id": "Y04cfE4uU1za",
        "outputId": "64a21766-8fb5-4873-f04a-9c2692184c2f",
        "colab": {
          "base_uri": "https://localhost:8080/"
        }
      },
      "source": [
        "from collections import Counter\n",
        "counter = Counter(titanic.pclass == 3)\n",
        "print(counter)"
      ],
      "execution_count": 76,
      "outputs": [
        {
          "output_type": "stream",
          "text": [
            "Counter({True: 491, False: 400})\n"
          ],
          "name": "stdout"
        }
      ]
    },
    {
      "cell_type": "code",
      "metadata": {
        "id": "0M3zkAejVNsG",
        "outputId": "3b58b514-09a3-4986-9345-21c3db0024f6",
        "colab": {
          "base_uri": "https://localhost:8080/"
        }
      },
      "source": [
        "from collections import Counter\n",
        "counter = Counter(titanic_alive.pclass == 1)\n",
        "print(counter)"
      ],
      "execution_count": 82,
      "outputs": [
        {
          "output_type": "stream",
          "text": [
            "Counter({False: 206, True: 136})\n"
          ],
          "name": "stdout"
        }
      ]
    },
    {
      "cell_type": "code",
      "metadata": {
        "id": "6k-oK3KYVTF7",
        "outputId": "d4019332-f62b-4144-ed14-f440747b588f",
        "colab": {
          "base_uri": "https://localhost:8080/"
        }
      },
      "source": [
        "from collections import Counter\n",
        "counter = Counter(titanic.pclass == 1)\n",
        "print(counter)"
      ],
      "execution_count": 80,
      "outputs": [
        {
          "output_type": "stream",
          "text": [
            "Counter({False: 675, True: 216})\n"
          ],
          "name": "stdout"
        }
      ]
    },
    {
      "cell_type": "code",
      "metadata": {
        "id": "DGt9lia2TSEi",
        "outputId": "a6d9cd82-23e6-45bb-e0b4-5a475c589666",
        "colab": {
          "base_uri": "https://localhost:8080/"
        }
      },
      "source": [
        "136/216"
      ],
      "execution_count": 83,
      "outputs": [
        {
          "output_type": "execute_result",
          "data": {
            "text/plain": [
              "0.6296296296296297"
            ]
          },
          "metadata": {
            "tags": []
          },
          "execution_count": 83
        }
      ]
    },
    {
      "cell_type": "code",
      "metadata": {
        "id": "uRsw3sMlU0qV",
        "outputId": "996d3234-9917-4197-b7e9-25c539039ef4",
        "colab": {
          "base_uri": "https://localhost:8080/"
        }
      },
      "source": [
        "119/491"
      ],
      "execution_count": 78,
      "outputs": [
        {
          "output_type": "execute_result",
          "data": {
            "text/plain": [
              "0.24236252545824846"
            ]
          },
          "metadata": {
            "tags": []
          },
          "execution_count": 78
        }
      ]
    },
    {
      "cell_type": "code",
      "metadata": {
        "id": "6bpzvkusQM2m",
        "outputId": "06cbe948-d9f8-4d25-ea1a-b19e3f1d4e4e",
        "colab": {
          "base_uri": "https://localhost:8080/"
        }
      },
      "source": [
        "print(titanic_1class)"
      ],
      "execution_count": 58,
      "outputs": [
        {
          "output_type": "stream",
          "text": [
            "Empty DataFrame\n",
            "Columns: [survived, pclass, sex, age, sibsp, parch, fare, embarked, class, who, adult_male, deck, embark_town, alive, alone]\n",
            "Index: []\n"
          ],
          "name": "stdout"
        }
      ]
    },
    {
      "cell_type": "code",
      "metadata": {
        "id": "T1tn0yR9OaRh",
        "outputId": "9490eda7-ad65-49b7-f4d1-31fc9891f41a",
        "colab": {
          "base_uri": "https://localhost:8080/"
        }
      },
      "source": [
        "len(titanic.pclass)"
      ],
      "execution_count": 45,
      "outputs": [
        {
          "output_type": "execute_result",
          "data": {
            "text/plain": [
              "891"
            ]
          },
          "metadata": {
            "tags": []
          },
          "execution_count": 45
        }
      ]
    },
    {
      "cell_type": "code",
      "metadata": {
        "id": "EZglYlWdMt-y",
        "outputId": "602c505c-3d71-491f-c484-4f1ba2ae7023",
        "colab": {
          "base_uri": "https://localhost:8080/"
        }
      },
      "source": [
        "print(f'percentual de classes {len( titanic_3class )/ len( titanic.pclass ) :.2f} %')"
      ],
      "execution_count": 53,
      "outputs": [
        {
          "output_type": "stream",
          "text": [
            "percentual de classes 0.00 %\n"
          ],
          "name": "stdout"
        }
      ]
    },
    {
      "cell_type": "code",
      "metadata": {
        "id": "FkkCMZd4NgdG",
        "outputId": "9893e761-7516-4b52-dacc-727b2cb4d0f3",
        "colab": {
          "base_uri": "https://localhost:8080/"
        }
      },
      "source": [
        "print(titanic_1class)"
      ],
      "execution_count": 54,
      "outputs": [
        {
          "output_type": "stream",
          "text": [
            "Empty DataFrame\n",
            "Columns: [survived, pclass, sex, age, sibsp, parch, fare, embarked, class, who, adult_male, deck, embark_town, alive, alone]\n",
            "Index: []\n"
          ],
          "name": "stdout"
        }
      ]
    },
    {
      "cell_type": "markdown",
      "metadata": {
        "id": "cdADnpZFZKxg"
      },
      "source": [
        "5. Analise a média de idade dos passageiros por classe e sexo (sugestão: empregue groupby). Você pode notar que?"
      ]
    },
    {
      "cell_type": "code",
      "metadata": {
        "id": "kjhMhmAaosVq"
      },
      "source": [
        "# seu código\n"
      ],
      "execution_count": null,
      "outputs": []
    }
  ]
}