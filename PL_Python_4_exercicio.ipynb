{
  "nbformat": 4,
  "nbformat_minor": 0,
  "metadata": {
    "colab": {
      "name": "PL_Python_4_exercicio.ipynb",
      "provenance": [],
      "collapsed_sections": [],
      "include_colab_link": true
    },
    "kernelspec": {
      "name": "python3",
      "display_name": "Python 3"
    },
    "language_info": {
      "name": "python"
    }
  },
  "cells": [
    {
      "cell_type": "markdown",
      "metadata": {
        "id": "view-in-github",
        "colab_type": "text"
      },
      "source": [
        "<a href=\"https://colab.research.google.com/github/FlavioSarto/FlavioSarto/blob/main/PL_Python_4_exercicio.ipynb\" target=\"_parent\"><img src=\"https://colab.research.google.com/assets/colab-badge.svg\" alt=\"Open In Colab\"/></a>"
      ]
    },
    {
      "cell_type": "markdown",
      "metadata": {
        "id": "iubZQEb71EHd"
      },
      "source": [
        "<head>\n",
        "  <meta name=\"author\" content=\"Rogério de Oliveira\">\n",
        "  <meta institution=\"author\" content=\"Universidade Presbiteriana Mackenzie\">\n",
        "</head>\n",
        "\n",
        "<img src=\"http://meusite.mackenzie.br/rogerio/mackenzie_logo/UPM.2_horizontal_vermelho.jpg\" width=300, align=\"right\"> \n",
        "\n",
        "<h1 align=left><font size = 8, style=\"color:rgb(200,0,0)\"><b>Ciência de Dados </b></font></h1> \n",
        "<h1 align=left><font size = 5, style=\"color:rgb(0,0,0)\"><b>Paradigmas de Linguagens de\n",
        "Programação para Ciência de Dados</b></font></h1> \n",
        "\n",
        "# 4 Estudos de Caso de Análise de Dados I\n",
        "Professores: *Diego Nogare* & *Rogério de Oliveira* \n",
        "\n",
        "<br>\n",
        "<br>\n",
        "\n",
        "---\n"
      ]
    },
    {
      "cell_type": "markdown",
      "metadata": {
        "id": "42yF1G-yHu98"
      },
      "source": [
        "# Exercícios"
      ]
    },
    {
      "cell_type": "code",
      "metadata": {
        "id": "-sQD_AuCkWp8"
      },
      "source": [
        "import numpy as np\n",
        "import pandas as pd\n",
        "import matplotlib.pyplot as plt\n",
        "%matplotlib inline\n",
        "import seaborn as sns"
      ],
      "execution_count": 1,
      "outputs": []
    },
    {
      "cell_type": "markdown",
      "metadata": {
        "id": "irUloP4YHH8n"
      },
      "source": [
        "# WHO Worl Health Organization\n",
        "\n",
        "Os dados abaixo foram obtidos diretamente da Organização Mundial de Saúde. Empregue os dados de 2015 já selecionados abaixo para responder as perguntas."
      ]
    },
    {
      "cell_type": "code",
      "metadata": {
        "colab": {
          "base_uri": "https://localhost:8080/",
          "height": 313
        },
        "id": "1IgZTqak5ajs",
        "outputId": "451cc06e-398e-4c23-8327-8d63bc166ccd"
      },
      "source": [
        "WHO = pd.read_csv('https://raw.githubusercontent.com/Rogerio-mack/Visualizacao-de-Dados-em-Python/main/data/Life_Expectancy_Data.csv')\n",
        "WHO.rename(columns={' BMI ':'BMI', 'Life expectancy ':'Life_expectancy'}, inplace=True)\n",
        "WHO = WHO[ WHO.Year == 2015 ]\n",
        "WHO.head()"
      ],
      "execution_count": 2,
      "outputs": [
        {
          "output_type": "execute_result",
          "data": {
            "text/html": [
              "<div>\n",
              "<style scoped>\n",
              "    .dataframe tbody tr th:only-of-type {\n",
              "        vertical-align: middle;\n",
              "    }\n",
              "\n",
              "    .dataframe tbody tr th {\n",
              "        vertical-align: top;\n",
              "    }\n",
              "\n",
              "    .dataframe thead th {\n",
              "        text-align: right;\n",
              "    }\n",
              "</style>\n",
              "<table border=\"1\" class=\"dataframe\">\n",
              "  <thead>\n",
              "    <tr style=\"text-align: right;\">\n",
              "      <th></th>\n",
              "      <th>Country</th>\n",
              "      <th>Year</th>\n",
              "      <th>Status</th>\n",
              "      <th>Life_expectancy</th>\n",
              "      <th>Adult Mortality</th>\n",
              "      <th>infant deaths</th>\n",
              "      <th>Alcohol</th>\n",
              "      <th>percentage expenditure</th>\n",
              "      <th>Hepatitis B</th>\n",
              "      <th>Measles</th>\n",
              "      <th>BMI</th>\n",
              "      <th>under-five deaths</th>\n",
              "      <th>Polio</th>\n",
              "      <th>Total expenditure</th>\n",
              "      <th>Diphtheria</th>\n",
              "      <th>HIV/AIDS</th>\n",
              "      <th>GDP</th>\n",
              "      <th>Population</th>\n",
              "      <th>thinness  1-19 years</th>\n",
              "      <th>thinness 5-9 years</th>\n",
              "      <th>Income composition of resources</th>\n",
              "      <th>Schooling</th>\n",
              "    </tr>\n",
              "  </thead>\n",
              "  <tbody>\n",
              "    <tr>\n",
              "      <th>0</th>\n",
              "      <td>Afghanistan</td>\n",
              "      <td>2015</td>\n",
              "      <td>Developing</td>\n",
              "      <td>65.0</td>\n",
              "      <td>263.0</td>\n",
              "      <td>62</td>\n",
              "      <td>0.01</td>\n",
              "      <td>71.279624</td>\n",
              "      <td>65.0</td>\n",
              "      <td>1154</td>\n",
              "      <td>19.1</td>\n",
              "      <td>83</td>\n",
              "      <td>6.0</td>\n",
              "      <td>8.16</td>\n",
              "      <td>65.0</td>\n",
              "      <td>0.1</td>\n",
              "      <td>584.259210</td>\n",
              "      <td>33736494.0</td>\n",
              "      <td>17.2</td>\n",
              "      <td>17.3</td>\n",
              "      <td>0.479</td>\n",
              "      <td>10.1</td>\n",
              "    </tr>\n",
              "    <tr>\n",
              "      <th>16</th>\n",
              "      <td>Albania</td>\n",
              "      <td>2015</td>\n",
              "      <td>Developing</td>\n",
              "      <td>77.8</td>\n",
              "      <td>74.0</td>\n",
              "      <td>0</td>\n",
              "      <td>4.60</td>\n",
              "      <td>364.975229</td>\n",
              "      <td>99.0</td>\n",
              "      <td>0</td>\n",
              "      <td>58.0</td>\n",
              "      <td>0</td>\n",
              "      <td>99.0</td>\n",
              "      <td>6.00</td>\n",
              "      <td>99.0</td>\n",
              "      <td>0.1</td>\n",
              "      <td>3954.227830</td>\n",
              "      <td>28873.0</td>\n",
              "      <td>1.2</td>\n",
              "      <td>1.3</td>\n",
              "      <td>0.762</td>\n",
              "      <td>14.2</td>\n",
              "    </tr>\n",
              "    <tr>\n",
              "      <th>32</th>\n",
              "      <td>Algeria</td>\n",
              "      <td>2015</td>\n",
              "      <td>Developing</td>\n",
              "      <td>75.6</td>\n",
              "      <td>19.0</td>\n",
              "      <td>21</td>\n",
              "      <td>NaN</td>\n",
              "      <td>0.000000</td>\n",
              "      <td>95.0</td>\n",
              "      <td>63</td>\n",
              "      <td>59.5</td>\n",
              "      <td>24</td>\n",
              "      <td>95.0</td>\n",
              "      <td>NaN</td>\n",
              "      <td>95.0</td>\n",
              "      <td>0.1</td>\n",
              "      <td>4132.762920</td>\n",
              "      <td>39871528.0</td>\n",
              "      <td>6.0</td>\n",
              "      <td>5.8</td>\n",
              "      <td>0.743</td>\n",
              "      <td>14.4</td>\n",
              "    </tr>\n",
              "    <tr>\n",
              "      <th>48</th>\n",
              "      <td>Angola</td>\n",
              "      <td>2015</td>\n",
              "      <td>Developing</td>\n",
              "      <td>52.4</td>\n",
              "      <td>335.0</td>\n",
              "      <td>66</td>\n",
              "      <td>NaN</td>\n",
              "      <td>0.000000</td>\n",
              "      <td>64.0</td>\n",
              "      <td>118</td>\n",
              "      <td>23.3</td>\n",
              "      <td>98</td>\n",
              "      <td>7.0</td>\n",
              "      <td>NaN</td>\n",
              "      <td>64.0</td>\n",
              "      <td>1.9</td>\n",
              "      <td>3695.793748</td>\n",
              "      <td>2785935.0</td>\n",
              "      <td>8.3</td>\n",
              "      <td>8.2</td>\n",
              "      <td>0.531</td>\n",
              "      <td>11.4</td>\n",
              "    </tr>\n",
              "    <tr>\n",
              "      <th>64</th>\n",
              "      <td>Antigua and Barbuda</td>\n",
              "      <td>2015</td>\n",
              "      <td>Developing</td>\n",
              "      <td>76.4</td>\n",
              "      <td>13.0</td>\n",
              "      <td>0</td>\n",
              "      <td>NaN</td>\n",
              "      <td>0.000000</td>\n",
              "      <td>99.0</td>\n",
              "      <td>0</td>\n",
              "      <td>47.7</td>\n",
              "      <td>0</td>\n",
              "      <td>86.0</td>\n",
              "      <td>NaN</td>\n",
              "      <td>99.0</td>\n",
              "      <td>0.2</td>\n",
              "      <td>13566.954100</td>\n",
              "      <td>NaN</td>\n",
              "      <td>3.3</td>\n",
              "      <td>3.3</td>\n",
              "      <td>0.784</td>\n",
              "      <td>13.9</td>\n",
              "    </tr>\n",
              "  </tbody>\n",
              "</table>\n",
              "</div>"
            ],
            "text/plain": [
              "                Country  Year  ... Income composition of resources  Schooling\n",
              "0           Afghanistan  2015  ...                           0.479       10.1\n",
              "16              Albania  2015  ...                           0.762       14.2\n",
              "32              Algeria  2015  ...                           0.743       14.4\n",
              "48               Angola  2015  ...                           0.531       11.4\n",
              "64  Antigua and Barbuda  2015  ...                           0.784       13.9\n",
              "\n",
              "[5 rows x 22 columns]"
            ]
          },
          "metadata": {},
          "execution_count": 2
        }
      ]
    },
    {
      "cell_type": "code",
      "metadata": {
        "id": "KVXhu7fI4qYz",
        "outputId": "d8fc993b-e2a4-486c-940b-9a3b7afb7c0d",
        "colab": {
          "base_uri": "https://localhost:8080/"
        }
      },
      "source": [
        "print(WHO)"
      ],
      "execution_count": 9,
      "outputs": [
        {
          "output_type": "stream",
          "name": "stdout",
          "text": [
            "                                 Country  ...  Schooling\n",
            "0                            Afghanistan  ...       10.1\n",
            "16                               Albania  ...       14.2\n",
            "32                               Algeria  ...       14.4\n",
            "48                                Angola  ...       11.4\n",
            "64                   Antigua and Barbuda  ...       13.9\n",
            "...                                  ...  ...        ...\n",
            "2858  Venezuela (Bolivarian Republic of)  ...       14.3\n",
            "2874                            Viet Nam  ...       12.6\n",
            "2890                               Yemen  ...        9.0\n",
            "2906                              Zambia  ...       12.5\n",
            "2922                            Zimbabwe  ...       10.3\n",
            "\n",
            "[183 rows x 22 columns]\n"
          ]
        }
      ]
    },
    {
      "cell_type": "markdown",
      "metadata": {
        "id": "_zrNu_lEHhsP"
      },
      "source": [
        "# Qualidade dos Dados\n",
        "\n",
        "Verifique a Qualidade dos Dados. Quantos atributos apresentam dados ausentes a qual atributo tem o maior percentual de dados ausentes?"
      ]
    },
    {
      "cell_type": "code",
      "metadata": {
        "id": "fRHY5L195lOj",
        "outputId": "2c6395b7-657f-4a5e-9e52-aed0a468d153",
        "colab": {
          "base_uri": "https://localhost:8080/"
        }
      },
      "source": [
        "print(WHO.isnull().sum())\n",
        "print(WHO.describe())"
      ],
      "execution_count": 10,
      "outputs": [
        {
          "output_type": "stream",
          "name": "stdout",
          "text": [
            "Country                              0\n",
            "Year                                 0\n",
            "Status                               0\n",
            "Life_expectancy                      0\n",
            "Adult Mortality                      0\n",
            "infant deaths                        0\n",
            "Alcohol                            177\n",
            "percentage expenditure               0\n",
            "Hepatitis B                          9\n",
            "Measles                              0\n",
            "BMI                                  2\n",
            "under-five deaths                    0\n",
            "Polio                                0\n",
            "Total expenditure                  181\n",
            "Diphtheria                           0\n",
            " HIV/AIDS                            0\n",
            "GDP                                 29\n",
            "Population                          41\n",
            " thinness  1-19 years                2\n",
            " thinness 5-9 years                  2\n",
            "Income composition of resources     10\n",
            "Schooling                           10\n",
            "dtype: int64\n",
            "         Year  Life_expectancy  ...  Income composition of resources   Schooling\n",
            "count   183.0       183.000000  ...                       173.000000  173.000000\n",
            "mean   2015.0        71.616940  ...                         0.691740   12.927168\n",
            "std       0.0         8.123706  ...                         0.153412    2.912366\n",
            "min    2015.0        51.000000  ...                         0.347000    4.900000\n",
            "25%    2015.0        65.750000  ...                         0.565000   10.800000\n",
            "50%    2015.0        73.900000  ...                         0.723000   13.100000\n",
            "75%    2015.0        76.950000  ...                         0.798000   15.000000\n",
            "max    2015.0        88.000000  ...                         0.948000   20.400000\n",
            "\n",
            "[8 rows x 20 columns]\n"
          ]
        }
      ]
    },
    {
      "cell_type": "markdown",
      "metadata": {
        "id": "vkBJZTRDJah_"
      },
      "source": [
        "# Qualidade dos Dados\n",
        "\n",
        "Alguns países estão classificados como países *em desenvolvimento* e parecem destoar do nosso entendimento geral de países *desenvolvidos $\\times$ em desenvolvimento*. Quais dois países parecem se enquadrar neste caso?\n",
        "\n",
        "(Dica: verifique os países em desenvolvimento que apresentam um GDP que discrepante dos demais) "
      ]
    },
    {
      "cell_type": "code",
      "metadata": {
        "id": "pgulq3tJMJ_R"
      },
      "source": [
        "# Seu código"
      ],
      "execution_count": 4,
      "outputs": []
    },
    {
      "cell_type": "markdown",
      "metadata": {
        "id": "OfEScFxBKY3e"
      },
      "source": [
        "# Distribuição dos Dados\n",
        "\n",
        "Analise a Distribuição da Expectativa de Vida entre os países Desenvolvidos e em Desenvolvimento. O que você consegue afirmar sobre essas distribuições? "
      ]
    },
    {
      "cell_type": "code",
      "metadata": {
        "id": "FjY7MDViMLdc"
      },
      "source": [
        "# Seu código"
      ],
      "execution_count": 5,
      "outputs": []
    },
    {
      "cell_type": "markdown",
      "metadata": {
        "id": "u0rWQ7awKt5V"
      },
      "source": [
        "# Relações\n",
        "\n",
        "Quais índices aparecem como mais correlacionados a Expectativa de Vida dos países em Desenvolvimento?  "
      ]
    },
    {
      "cell_type": "code",
      "metadata": {
        "id": "RWxUK-s3MMiT"
      },
      "source": [
        "# Seu código"
      ],
      "execution_count": 6,
      "outputs": []
    },
    {
      "cell_type": "markdown",
      "metadata": {
        "id": "1WkN-T57LUjd"
      },
      "source": [
        "# Ranking\n",
        "\n",
        "Qual a posição do Brasil no Ranking de Escolaridade (`Schooling`) com relação aos demais países? "
      ]
    },
    {
      "cell_type": "code",
      "metadata": {
        "id": "2fheoxdEMNaQ",
        "outputId": "f8449c9c-548f-4385-c4ee-82f34700589b",
        "colab": {
          "base_uri": "https://localhost:8080/"
        }
      },
      "source": [
        "WHO.index"
      ],
      "execution_count": 18,
      "outputs": [
        {
          "output_type": "execute_result",
          "data": {
            "text/plain": [
              "Int64Index([   0,   16,   32,   48,   64,   80,   96,  112,  128,  144,\n",
              "            ...\n",
              "            2778, 2794, 2810, 2826, 2842, 2858, 2874, 2890, 2906, 2922],\n",
              "           dtype='int64', length=183)"
            ]
          },
          "metadata": {},
          "execution_count": 18
        }
      ]
    },
    {
      "cell_type": "code",
      "metadata": {
        "id": "2S5d5z1e9c0O",
        "outputId": "fa2bfbbe-7585-41a4-d332-607d015ed53a",
        "colab": {
          "base_uri": "https://localhost:8080/",
          "height": 225
        }
      },
      "source": [
        "display( WHO.Country.value_counts())\n"
      ],
      "execution_count": 28,
      "outputs": [
        {
          "output_type": "display_data",
          "data": {
            "text/plain": [
              "Chile                                        1\n",
              "Yemen                                        1\n",
              "Solomon Islands                              1\n",
              "Cameroon                                     1\n",
              "The former Yugoslav republic of Macedonia    1\n",
              "                                            ..\n",
              "Netherlands                                  1\n",
              "Gambia                                       1\n",
              "Maldives                                     1\n",
              "Sudan                                        1\n",
              "Togo                                         1\n",
              "Name: Country, Length: 183, dtype: int64"
            ]
          },
          "metadata": {}
        }
      ]
    },
    {
      "cell_type": "code",
      "metadata": {
        "id": "pFEvzp5cAFoF"
      },
      "source": [
        "who2 = WHO.Schooling\n"
      ],
      "execution_count": 36,
      "outputs": []
    },
    {
      "cell_type": "code",
      "metadata": {
        "id": "1L1or-p2-skk",
        "outputId": "7f9d1112-58be-48cf-a590-c0b980e89ca5",
        "colab": {
          "base_uri": "https://localhost:8080/"
        }
      },
      "source": [
        "WHO.Schooling.sort_index\n"
      ],
      "execution_count": 37,
      "outputs": [
        {
          "output_type": "execute_result",
          "data": {
            "text/plain": [
              "<bound method Series.sort_index of 0       10.1\n",
              "16      14.2\n",
              "32      14.4\n",
              "48      11.4\n",
              "64      13.9\n",
              "        ... \n",
              "2858    14.3\n",
              "2874    12.6\n",
              "2890     9.0\n",
              "2906    12.5\n",
              "2922    10.3\n",
              "Name: Schooling, Length: 183, dtype: float64>"
            ]
          },
          "metadata": {},
          "execution_count": 37
        }
      ]
    }
  ]
}