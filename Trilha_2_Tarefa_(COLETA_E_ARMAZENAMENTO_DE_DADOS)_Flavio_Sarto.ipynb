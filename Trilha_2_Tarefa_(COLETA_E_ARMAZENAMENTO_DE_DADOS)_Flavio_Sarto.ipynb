{
  "nbformat": 4,
  "nbformat_minor": 0,
  "metadata": {
    "colab": {
      "name": "Trilha 2: Tarefa (COLETA E ARMAZENAMENTO DE DADOS) Flavio Sarto.ipynb",
      "provenance": [],
      "authorship_tag": "ABX9TyPHoBorAEXnfchI7lOTpHQq",
      "include_colab_link": true
    },
    "kernelspec": {
      "name": "python3",
      "display_name": "Python 3"
    },
    "language_info": {
      "name": "python"
    }
  },
  "cells": [
    {
      "cell_type": "markdown",
      "metadata": {
        "id": "view-in-github",
        "colab_type": "text"
      },
      "source": [
        "<a href=\"https://colab.research.google.com/github/FlavioSarto/FlavioSarto/blob/main/Trilha_2_Tarefa_(COLETA_E_ARMAZENAMENTO_DE_DADOS)_Flavio_Sarto.ipynb\" target=\"_parent\"><img src=\"https://colab.research.google.com/assets/colab-badge.svg\" alt=\"Open In Colab\"/></a>"
      ]
    },
    {
      "cell_type": "markdown",
      "metadata": {
        "id": "SgFHW6iRaKo3"
      },
      "source": [
        "\n",
        "Nome: Flávio Sarto\n",
        "\n",
        "\n"
      ]
    },
    {
      "cell_type": "code",
      "metadata": {
        "id": "K6ldbJpnMzQ6"
      },
      "source": [
        "import pandas as pd\n",
        "import requests\n",
        "from bs4 import BeautifulSoup\n",
        "import matplotlib.pyplot as plt\n",
        "import seaborn as sns"
      ],
      "execution_count": 110,
      "outputs": []
    },
    {
      "cell_type": "code",
      "metadata": {
        "colab": {
          "base_uri": "https://localhost:8080/"
        },
        "id": "YfoW10H1RkzV",
        "outputId": "b09a8181-ed8f-487d-9fd4-d8f95a7d2260"
      },
      "source": [
        "def scrape_stats(base_url, year_start, year_end):\n",
        "    years = range(year_start,year_end+1,1)\n",
        "\n",
        "    final_df = pd.DataFrame()\n",
        "\n",
        "    for year in years:\n",
        "        print('Extraindo ano {}'.format(year))\n",
        "        req_url = base_url.format(year)\n",
        "        req = requests.get(req_url)\n",
        "        soup = BeautifulSoup(req.content, 'html.parser')\n",
        "        table = soup.find('table', {'id':'totals_stats'})\n",
        "        df = pd.read_html(str(table))[0]\n",
        "        \n",
        "        df['Year'] = year\n",
        "        final_df = final_df.append(df)\n",
        "    return final_df\n",
        "url = 'https://www.basketball-reference.com/leagues/NBA_{}_totals.html'\n",
        "df = scrape_stats(url, 2013, 2021)"
      ],
      "execution_count": 111,
      "outputs": [
        {
          "output_type": "stream",
          "name": "stdout",
          "text": [
            "Extraindo ano 2013\n",
            "Extraindo ano 2014\n",
            "Extraindo ano 2015\n",
            "Extraindo ano 2016\n",
            "Extraindo ano 2017\n",
            "Extraindo ano 2018\n",
            "Extraindo ano 2019\n",
            "Extraindo ano 2020\n",
            "Extraindo ano 2021\n"
          ]
        }
      ]
    },
    {
      "cell_type": "code",
      "metadata": {
        "colab": {
          "base_uri": "https://localhost:8080/",
          "height": 419
        },
        "id": "qWZ2o4Z7YrB3",
        "outputId": "d8c9992d-2b04-44ea-db91-9711d73e1f2c"
      },
      "source": [
        "df[df.index.duplicated()]"
      ],
      "execution_count": 112,
      "outputs": [
        {
          "output_type": "execute_result",
          "data": {
            "text/html": [
              "<div>\n",
              "<style scoped>\n",
              "    .dataframe tbody tr th:only-of-type {\n",
              "        vertical-align: middle;\n",
              "    }\n",
              "\n",
              "    .dataframe tbody tr th {\n",
              "        vertical-align: top;\n",
              "    }\n",
              "\n",
              "    .dataframe thead th {\n",
              "        text-align: right;\n",
              "    }\n",
              "</style>\n",
              "<table border=\"1\" class=\"dataframe\">\n",
              "  <thead>\n",
              "    <tr style=\"text-align: right;\">\n",
              "      <th></th>\n",
              "      <th>Rk</th>\n",
              "      <th>Player</th>\n",
              "      <th>Pos</th>\n",
              "      <th>Age</th>\n",
              "      <th>Tm</th>\n",
              "      <th>G</th>\n",
              "      <th>GS</th>\n",
              "      <th>MP</th>\n",
              "      <th>FG</th>\n",
              "      <th>FGA</th>\n",
              "      <th>FG%</th>\n",
              "      <th>3P</th>\n",
              "      <th>3PA</th>\n",
              "      <th>3P%</th>\n",
              "      <th>2P</th>\n",
              "      <th>2PA</th>\n",
              "      <th>2P%</th>\n",
              "      <th>eFG%</th>\n",
              "      <th>FT</th>\n",
              "      <th>FTA</th>\n",
              "      <th>FT%</th>\n",
              "      <th>ORB</th>\n",
              "      <th>DRB</th>\n",
              "      <th>TRB</th>\n",
              "      <th>AST</th>\n",
              "      <th>STL</th>\n",
              "      <th>BLK</th>\n",
              "      <th>TOV</th>\n",
              "      <th>PF</th>\n",
              "      <th>PTS</th>\n",
              "      <th>Year</th>\n",
              "    </tr>\n",
              "  </thead>\n",
              "  <tbody>\n",
              "    <tr>\n",
              "      <th>0</th>\n",
              "      <td>1</td>\n",
              "      <td>Quincy Acy</td>\n",
              "      <td>SF</td>\n",
              "      <td>23</td>\n",
              "      <td>TOT</td>\n",
              "      <td>63</td>\n",
              "      <td>0</td>\n",
              "      <td>847</td>\n",
              "      <td>66</td>\n",
              "      <td>141</td>\n",
              "      <td>.468</td>\n",
              "      <td>4</td>\n",
              "      <td>15</td>\n",
              "      <td>.267</td>\n",
              "      <td>62</td>\n",
              "      <td>126</td>\n",
              "      <td>.492</td>\n",
              "      <td>.482</td>\n",
              "      <td>35</td>\n",
              "      <td>53</td>\n",
              "      <td>.660</td>\n",
              "      <td>72</td>\n",
              "      <td>144</td>\n",
              "      <td>216</td>\n",
              "      <td>28</td>\n",
              "      <td>23</td>\n",
              "      <td>26</td>\n",
              "      <td>30</td>\n",
              "      <td>122</td>\n",
              "      <td>171</td>\n",
              "      <td>2014</td>\n",
              "    </tr>\n",
              "    <tr>\n",
              "      <th>1</th>\n",
              "      <td>1</td>\n",
              "      <td>Quincy Acy</td>\n",
              "      <td>SF</td>\n",
              "      <td>23</td>\n",
              "      <td>TOR</td>\n",
              "      <td>7</td>\n",
              "      <td>0</td>\n",
              "      <td>61</td>\n",
              "      <td>6</td>\n",
              "      <td>14</td>\n",
              "      <td>.429</td>\n",
              "      <td>2</td>\n",
              "      <td>5</td>\n",
              "      <td>.400</td>\n",
              "      <td>4</td>\n",
              "      <td>9</td>\n",
              "      <td>.444</td>\n",
              "      <td>.500</td>\n",
              "      <td>5</td>\n",
              "      <td>8</td>\n",
              "      <td>.625</td>\n",
              "      <td>5</td>\n",
              "      <td>10</td>\n",
              "      <td>15</td>\n",
              "      <td>4</td>\n",
              "      <td>4</td>\n",
              "      <td>3</td>\n",
              "      <td>2</td>\n",
              "      <td>8</td>\n",
              "      <td>19</td>\n",
              "      <td>2014</td>\n",
              "    </tr>\n",
              "    <tr>\n",
              "      <th>2</th>\n",
              "      <td>1</td>\n",
              "      <td>Quincy Acy</td>\n",
              "      <td>SF</td>\n",
              "      <td>23</td>\n",
              "      <td>SAC</td>\n",
              "      <td>56</td>\n",
              "      <td>0</td>\n",
              "      <td>786</td>\n",
              "      <td>60</td>\n",
              "      <td>127</td>\n",
              "      <td>.472</td>\n",
              "      <td>2</td>\n",
              "      <td>10</td>\n",
              "      <td>.200</td>\n",
              "      <td>58</td>\n",
              "      <td>117</td>\n",
              "      <td>.496</td>\n",
              "      <td>.480</td>\n",
              "      <td>30</td>\n",
              "      <td>45</td>\n",
              "      <td>.667</td>\n",
              "      <td>67</td>\n",
              "      <td>134</td>\n",
              "      <td>201</td>\n",
              "      <td>24</td>\n",
              "      <td>19</td>\n",
              "      <td>23</td>\n",
              "      <td>28</td>\n",
              "      <td>114</td>\n",
              "      <td>152</td>\n",
              "      <td>2014</td>\n",
              "    </tr>\n",
              "    <tr>\n",
              "      <th>3</th>\n",
              "      <td>2</td>\n",
              "      <td>Steven Adams</td>\n",
              "      <td>C</td>\n",
              "      <td>20</td>\n",
              "      <td>OKC</td>\n",
              "      <td>81</td>\n",
              "      <td>20</td>\n",
              "      <td>1197</td>\n",
              "      <td>93</td>\n",
              "      <td>185</td>\n",
              "      <td>.503</td>\n",
              "      <td>0</td>\n",
              "      <td>0</td>\n",
              "      <td>NaN</td>\n",
              "      <td>93</td>\n",
              "      <td>185</td>\n",
              "      <td>.503</td>\n",
              "      <td>.503</td>\n",
              "      <td>79</td>\n",
              "      <td>136</td>\n",
              "      <td>.581</td>\n",
              "      <td>142</td>\n",
              "      <td>190</td>\n",
              "      <td>332</td>\n",
              "      <td>43</td>\n",
              "      <td>40</td>\n",
              "      <td>57</td>\n",
              "      <td>71</td>\n",
              "      <td>203</td>\n",
              "      <td>265</td>\n",
              "      <td>2014</td>\n",
              "    </tr>\n",
              "    <tr>\n",
              "      <th>4</th>\n",
              "      <td>3</td>\n",
              "      <td>Jeff Adrien</td>\n",
              "      <td>PF</td>\n",
              "      <td>27</td>\n",
              "      <td>TOT</td>\n",
              "      <td>53</td>\n",
              "      <td>12</td>\n",
              "      <td>961</td>\n",
              "      <td>143</td>\n",
              "      <td>275</td>\n",
              "      <td>.520</td>\n",
              "      <td>0</td>\n",
              "      <td>0</td>\n",
              "      <td>NaN</td>\n",
              "      <td>143</td>\n",
              "      <td>275</td>\n",
              "      <td>.520</td>\n",
              "      <td>.520</td>\n",
              "      <td>76</td>\n",
              "      <td>119</td>\n",
              "      <td>.639</td>\n",
              "      <td>102</td>\n",
              "      <td>204</td>\n",
              "      <td>306</td>\n",
              "      <td>38</td>\n",
              "      <td>24</td>\n",
              "      <td>36</td>\n",
              "      <td>39</td>\n",
              "      <td>108</td>\n",
              "      <td>362</td>\n",
              "      <td>2014</td>\n",
              "    </tr>\n",
              "    <tr>\n",
              "      <th>...</th>\n",
              "      <td>...</td>\n",
              "      <td>...</td>\n",
              "      <td>...</td>\n",
              "      <td>...</td>\n",
              "      <td>...</td>\n",
              "      <td>...</td>\n",
              "      <td>...</td>\n",
              "      <td>...</td>\n",
              "      <td>...</td>\n",
              "      <td>...</td>\n",
              "      <td>...</td>\n",
              "      <td>...</td>\n",
              "      <td>...</td>\n",
              "      <td>...</td>\n",
              "      <td>...</td>\n",
              "      <td>...</td>\n",
              "      <td>...</td>\n",
              "      <td>...</td>\n",
              "      <td>...</td>\n",
              "      <td>...</td>\n",
              "      <td>...</td>\n",
              "      <td>...</td>\n",
              "      <td>...</td>\n",
              "      <td>...</td>\n",
              "      <td>...</td>\n",
              "      <td>...</td>\n",
              "      <td>...</td>\n",
              "      <td>...</td>\n",
              "      <td>...</td>\n",
              "      <td>...</td>\n",
              "      <td>...</td>\n",
              "    </tr>\n",
              "    <tr>\n",
              "      <th>726</th>\n",
              "      <td>536</td>\n",
              "      <td>Delon Wright</td>\n",
              "      <td>PG</td>\n",
              "      <td>28</td>\n",
              "      <td>SAC</td>\n",
              "      <td>27</td>\n",
              "      <td>8</td>\n",
              "      <td>696</td>\n",
              "      <td>104</td>\n",
              "      <td>225</td>\n",
              "      <td>.462</td>\n",
              "      <td>33</td>\n",
              "      <td>83</td>\n",
              "      <td>.398</td>\n",
              "      <td>71</td>\n",
              "      <td>142</td>\n",
              "      <td>.500</td>\n",
              "      <td>.536</td>\n",
              "      <td>30</td>\n",
              "      <td>36</td>\n",
              "      <td>.833</td>\n",
              "      <td>28</td>\n",
              "      <td>77</td>\n",
              "      <td>105</td>\n",
              "      <td>97</td>\n",
              "      <td>43</td>\n",
              "      <td>11</td>\n",
              "      <td>35</td>\n",
              "      <td>30</td>\n",
              "      <td>271</td>\n",
              "      <td>2021</td>\n",
              "    </tr>\n",
              "    <tr>\n",
              "      <th>727</th>\n",
              "      <td>537</td>\n",
              "      <td>Thaddeus Young</td>\n",
              "      <td>PF</td>\n",
              "      <td>32</td>\n",
              "      <td>CHI</td>\n",
              "      <td>68</td>\n",
              "      <td>23</td>\n",
              "      <td>1652</td>\n",
              "      <td>370</td>\n",
              "      <td>662</td>\n",
              "      <td>.559</td>\n",
              "      <td>12</td>\n",
              "      <td>45</td>\n",
              "      <td>.267</td>\n",
              "      <td>358</td>\n",
              "      <td>617</td>\n",
              "      <td>.580</td>\n",
              "      <td>.568</td>\n",
              "      <td>71</td>\n",
              "      <td>113</td>\n",
              "      <td>.628</td>\n",
              "      <td>168</td>\n",
              "      <td>255</td>\n",
              "      <td>423</td>\n",
              "      <td>291</td>\n",
              "      <td>74</td>\n",
              "      <td>40</td>\n",
              "      <td>137</td>\n",
              "      <td>152</td>\n",
              "      <td>823</td>\n",
              "      <td>2021</td>\n",
              "    </tr>\n",
              "    <tr>\n",
              "      <th>728</th>\n",
              "      <td>538</td>\n",
              "      <td>Trae Young</td>\n",
              "      <td>PG</td>\n",
              "      <td>22</td>\n",
              "      <td>ATL</td>\n",
              "      <td>63</td>\n",
              "      <td>63</td>\n",
              "      <td>2125</td>\n",
              "      <td>487</td>\n",
              "      <td>1112</td>\n",
              "      <td>.438</td>\n",
              "      <td>136</td>\n",
              "      <td>397</td>\n",
              "      <td>.343</td>\n",
              "      <td>351</td>\n",
              "      <td>715</td>\n",
              "      <td>.491</td>\n",
              "      <td>.499</td>\n",
              "      <td>484</td>\n",
              "      <td>546</td>\n",
              "      <td>.886</td>\n",
              "      <td>38</td>\n",
              "      <td>207</td>\n",
              "      <td>245</td>\n",
              "      <td>594</td>\n",
              "      <td>53</td>\n",
              "      <td>12</td>\n",
              "      <td>261</td>\n",
              "      <td>111</td>\n",
              "      <td>1594</td>\n",
              "      <td>2021</td>\n",
              "    </tr>\n",
              "    <tr>\n",
              "      <th>729</th>\n",
              "      <td>539</td>\n",
              "      <td>Cody Zeller</td>\n",
              "      <td>C</td>\n",
              "      <td>28</td>\n",
              "      <td>CHO</td>\n",
              "      <td>48</td>\n",
              "      <td>21</td>\n",
              "      <td>1005</td>\n",
              "      <td>181</td>\n",
              "      <td>324</td>\n",
              "      <td>.559</td>\n",
              "      <td>4</td>\n",
              "      <td>28</td>\n",
              "      <td>.143</td>\n",
              "      <td>177</td>\n",
              "      <td>296</td>\n",
              "      <td>.598</td>\n",
              "      <td>.565</td>\n",
              "      <td>85</td>\n",
              "      <td>119</td>\n",
              "      <td>.714</td>\n",
              "      <td>119</td>\n",
              "      <td>209</td>\n",
              "      <td>328</td>\n",
              "      <td>86</td>\n",
              "      <td>27</td>\n",
              "      <td>17</td>\n",
              "      <td>51</td>\n",
              "      <td>121</td>\n",
              "      <td>451</td>\n",
              "      <td>2021</td>\n",
              "    </tr>\n",
              "    <tr>\n",
              "      <th>730</th>\n",
              "      <td>540</td>\n",
              "      <td>Ivica Zubac</td>\n",
              "      <td>C</td>\n",
              "      <td>23</td>\n",
              "      <td>LAC</td>\n",
              "      <td>72</td>\n",
              "      <td>33</td>\n",
              "      <td>1609</td>\n",
              "      <td>257</td>\n",
              "      <td>394</td>\n",
              "      <td>.652</td>\n",
              "      <td>1</td>\n",
              "      <td>4</td>\n",
              "      <td>.250</td>\n",
              "      <td>256</td>\n",
              "      <td>390</td>\n",
              "      <td>.656</td>\n",
              "      <td>.654</td>\n",
              "      <td>135</td>\n",
              "      <td>171</td>\n",
              "      <td>.789</td>\n",
              "      <td>189</td>\n",
              "      <td>330</td>\n",
              "      <td>519</td>\n",
              "      <td>90</td>\n",
              "      <td>24</td>\n",
              "      <td>62</td>\n",
              "      <td>81</td>\n",
              "      <td>187</td>\n",
              "      <td>650</td>\n",
              "      <td>2021</td>\n",
              "    </tr>\n",
              "  </tbody>\n",
              "</table>\n",
              "<p>5224 rows × 31 columns</p>\n",
              "</div>"
            ],
            "text/plain": [
              "      Rk          Player Pos Age   Tm   G  ... STL BLK  TOV   PF   PTS  Year\n",
              "0      1      Quincy Acy  SF  23  TOT  63  ...  23  26   30  122   171  2014\n",
              "1      1      Quincy Acy  SF  23  TOR   7  ...   4   3    2    8    19  2014\n",
              "2      1      Quincy Acy  SF  23  SAC  56  ...  19  23   28  114   152  2014\n",
              "3      2    Steven Adams   C  20  OKC  81  ...  40  57   71  203   265  2014\n",
              "4      3     Jeff Adrien  PF  27  TOT  53  ...  24  36   39  108   362  2014\n",
              "..   ...             ...  ..  ..  ...  ..  ...  ..  ..  ...  ...   ...   ...\n",
              "726  536    Delon Wright  PG  28  SAC  27  ...  43  11   35   30   271  2021\n",
              "727  537  Thaddeus Young  PF  32  CHI  68  ...  74  40  137  152   823  2021\n",
              "728  538      Trae Young  PG  22  ATL  63  ...  53  12  261  111  1594  2021\n",
              "729  539     Cody Zeller   C  28  CHO  48  ...  27  17   51  121   451  2021\n",
              "730  540     Ivica Zubac   C  23  LAC  72  ...  24  62   81  187   650  2021\n",
              "\n",
              "[5224 rows x 31 columns]"
            ]
          },
          "metadata": {},
          "execution_count": 112
        }
      ]
    },
    {
      "cell_type": "code",
      "metadata": {
        "id": "l3zy4tGnYysJ"
      },
      "source": [
        "df = df[~df.index.duplicated()]"
      ],
      "execution_count": 113,
      "outputs": []
    },
    {
      "cell_type": "code",
      "metadata": {
        "colab": {
          "base_uri": "https://localhost:8080/"
        },
        "id": "5Q9Vz9rfRwhz",
        "outputId": "fbaf717c-6096-4059-dd96-e83d19e0455f"
      },
      "source": [
        "drop_indexes = df[df['Rk'] == 'Rk'].index # Pega indexes onde a coluna 'Rk' possui valor 'Rk'\n",
        "df.drop(drop_indexes, inplace=True) # elimina os valores dos index passados da tabela"
      ],
      "execution_count": 114,
      "outputs": [
        {
          "output_type": "stream",
          "name": "stderr",
          "text": [
            "/usr/local/lib/python3.7/dist-packages/pandas/core/frame.py:4174: SettingWithCopyWarning: \n",
            "A value is trying to be set on a copy of a slice from a DataFrame\n",
            "\n",
            "See the caveats in the documentation: https://pandas.pydata.org/pandas-docs/stable/user_guide/indexing.html#returning-a-view-versus-a-copy\n",
            "  errors=errors,\n"
          ]
        }
      ]
    },
    {
      "cell_type": "code",
      "metadata": {
        "colab": {
          "base_uri": "https://localhost:8080/"
        },
        "id": "22OVrVhxRxqN",
        "outputId": "8cad3866-6e56-4055-aef5-1166604c6059"
      },
      "source": [
        "numeric_cols = df.columns.drop(['Player','Pos','Tm'])\n",
        "df[numeric_cols] = df[numeric_cols].apply(pd.to_numeric)"
      ],
      "execution_count": 115,
      "outputs": [
        {
          "output_type": "stream",
          "name": "stderr",
          "text": [
            "/usr/local/lib/python3.7/dist-packages/pandas/core/frame.py:3069: SettingWithCopyWarning: \n",
            "A value is trying to be set on a copy of a slice from a DataFrame.\n",
            "Try using .loc[row_indexer,col_indexer] = value instead\n",
            "\n",
            "See the caveats in the documentation: https://pandas.pydata.org/pandas-docs/stable/user_guide/indexing.html#returning-a-view-versus-a-copy\n",
            "  self[k1] = value[k2]\n"
          ]
        }
      ]
    },
    {
      "cell_type": "code",
      "metadata": {
        "colab": {
          "base_uri": "https://localhost:8080/",
          "height": 296
        },
        "id": "jT8j5h6CYCga",
        "outputId": "ebbd5401-fa20-44d9-a5cc-edccb0d02b48"
      },
      "source": [
        "sns.lineplot(x='Year', y='3PA', data=df)"
      ],
      "execution_count": 116,
      "outputs": [
        {
          "output_type": "execute_result",
          "data": {
            "text/plain": [
              "<matplotlib.axes._subplots.AxesSubplot at 0x7f630bc26c50>"
            ]
          },
          "metadata": {},
          "execution_count": 116
        },
        {
          "output_type": "display_data",
          "data": {
            "image/png": "[encoded data removed]",
            "text/plain": [
              "<Figure size 432x288 with 1 Axes>"
            ]
          },
          "metadata": {
            "needs_background": "light"
          }
        }
      ]
    },
    {
      "cell_type": "code",
      "metadata": {
        "colab": {
          "base_uri": "https://localhost:8080/",
          "height": 296
        },
        "id": "oWLcV9-sbMU1",
        "outputId": "17fe3310-a0be-4d29-a81d-ba9202c59d76"
      },
      "source": [
        "sns.lineplot(x='Age', y='PTS', data=df)"
      ],
      "execution_count": 117,
      "outputs": [
        {
          "output_type": "execute_result",
          "data": {
            "text/plain": [
              "<matplotlib.axes._subplots.AxesSubplot at 0x7f630b1db610>"
            ]
          },
          "metadata": {},
          "execution_count": 117
        },
        {
          "output_type": "display_data",
          "data": {
            "image/png": "[encoded data removed]",
            "text/plain": [
              "<Figure size 432x288 with 1 Axes>"
            ]
          },
          "metadata": {
            "needs_background": "light"
          }
        }
      ]
    },
    {
      "cell_type": "code",
      "metadata": {
        "colab": {
          "base_uri": "https://localhost:8080/",
          "height": 296
        },
        "id": "M5MM-XEscCsw",
        "outputId": "8f49728d-febd-47f5-f948-5592bc958a7e"
      },
      "source": [
        "sns.lineplot(x='Year', y='Age', data=df)"
      ],
      "execution_count": 118,
      "outputs": [
        {
          "output_type": "execute_result",
          "data": {
            "text/plain": [
              "<matplotlib.axes._subplots.AxesSubplot at 0x7f630ac7fb90>"
            ]
          },
          "metadata": {},
          "execution_count": 118
        },
        {
          "output_type": "display_data",
          "data": {
            "image/png": "[encoded data removed]",
            "text/plain": [
              "<Figure size 432x288 with 1 Axes>"
            ]
          },
          "metadata": {
            "needs_background": "light"
          }
        }
      ]
    },
    {
      "cell_type": "code",
      "metadata": {
        "colab": {
          "base_uri": "https://localhost:8080/",
          "height": 296
        },
        "id": "Gtewt7moc-DT",
        "outputId": "4abf1664-4d3b-4fd7-a5b5-0dced6d853ef"
      },
      "source": [
        "sns.lineplot(x='Year', y='PTS', data=df)"
      ],
      "execution_count": 119,
      "outputs": [
        {
          "output_type": "execute_result",
          "data": {
            "text/plain": [
              "<matplotlib.axes._subplots.AxesSubplot at 0x7f630bbf7750>"
            ]
          },
          "metadata": {},
          "execution_count": 119
        },
        {
          "output_type": "display_data",
          "data": {
            "image/png": "[encoded data removed]",
            "text/plain": [
              "<Figure size 432x288 with 1 Axes>"
            ]
          },
          "metadata": {
            "needs_background": "light"
          }
        }
      ]
    },
    {
      "cell_type": "code",
      "metadata": {
        "id": "YK4jf3rRc98g"
      },
      "source": [
        ""
      ],
      "execution_count": 119,
      "outputs": []
    }
  ]
}