{
  "nbformat": 4,
  "nbformat_minor": 0,
  "metadata": {
    "colab": {
      "name": "exercicio trilha4_flaviosarto.ipynb",
      "provenance": [],
      "authorship_tag": "ABX9TyNOHzhS3AbrV//TPsXFpqLC",
      "include_colab_link": true
    },
    "kernelspec": {
      "name": "python3",
      "display_name": "Python 3"
    },
    "language_info": {
      "name": "python"
    }
  },
  "cells": [
    {
      "cell_type": "markdown",
      "metadata": {
        "id": "view-in-github",
        "colab_type": "text"
      },
      "source": [
        "<a href=\"https://colab.research.google.com/github/FlavioSarto/FlavioSarto/blob/main/exercicio_trilha4_flaviosarto.ipynb\" target=\"_parent\"><img src=\"https://colab.research.google.com/assets/colab-badge.svg\" alt=\"Open In Colab\"/></a>"
      ]
    },
    {
      "cell_type": "code",
      "execution_count": 1,
      "metadata": {
        "id": "8tqTHp8r22gl"
      },
      "outputs": [],
      "source": [
        "import numpy as np\n",
        "import matplotlib.pyplot as plt\n",
        "import pandas as pd\n",
        "import scipy.stats as stat\n",
        "import seaborn as sns"
      ]
    },
    {
      "cell_type": "code",
      "source": [
        "import csv"
      ],
      "metadata": {
        "id": "jVoOetWb26QN"
      },
      "execution_count": 2,
      "outputs": []
    },
    {
      "cell_type": "code",
      "source": [
        "df = pd.read_csv('netflix_titles.csv') \n",
        "print(df)"
      ],
      "metadata": {
        "colab": {
          "base_uri": "https://localhost:8080/"
        },
        "id": "mOP_Cni93Gxj",
        "outputId": "cf8eca24-80a2-4d85-e715-33153efd5807"
      },
      "execution_count": 3,
      "outputs": [
        {
          "output_type": "stream",
          "name": "stdout",
          "text": [
            "     show_id     type                  title         director  \\\n",
            "0         s1    Movie   Dick Johnson Is Dead  Kirsten Johnson   \n",
            "1         s2  TV Show          Blood & Water              NaN   \n",
            "2         s3  TV Show              Ganglands  Julien Leclercq   \n",
            "3         s4  TV Show  Jailbirds New Orleans              NaN   \n",
            "4         s5  TV Show           Kota Factory              NaN   \n",
            "...      ...      ...                    ...              ...   \n",
            "8802   s8803    Movie                 Zodiac    David Fincher   \n",
            "8803   s8804  TV Show            Zombie Dumb              NaN   \n",
            "8804   s8805    Movie             Zombieland  Ruben Fleischer   \n",
            "8805   s8806    Movie                   Zoom     Peter Hewitt   \n",
            "8806   s8807    Movie                 Zubaan      Mozez Singh   \n",
            "\n",
            "                                                   cast        country  \\\n",
            "0                                                   NaN  United States   \n",
            "1     Ama Qamata, Khosi Ngema, Gail Mabalane, Thaban...   South Africa   \n",
            "2     Sami Bouajila, Tracy Gotoas, Samuel Jouy, Nabi...            NaN   \n",
            "3                                                   NaN            NaN   \n",
            "4     Mayur More, Jitendra Kumar, Ranjan Raj, Alam K...          India   \n",
            "...                                                 ...            ...   \n",
            "8802  Mark Ruffalo, Jake Gyllenhaal, Robert Downey J...  United States   \n",
            "8803                                                NaN            NaN   \n",
            "8804  Jesse Eisenberg, Woody Harrelson, Emma Stone, ...  United States   \n",
            "8805  Tim Allen, Courteney Cox, Chevy Chase, Kate Ma...  United States   \n",
            "8806  Vicky Kaushal, Sarah-Jane Dias, Raaghav Chanan...          India   \n",
            "\n",
            "              date_added  release_year rating   duration  \\\n",
            "0     September 25, 2021          2020  PG-13     90 min   \n",
            "1     September 24, 2021          2021  TV-MA  2 Seasons   \n",
            "2     September 24, 2021          2021  TV-MA   1 Season   \n",
            "3     September 24, 2021          2021  TV-MA   1 Season   \n",
            "4     September 24, 2021          2021  TV-MA  2 Seasons   \n",
            "...                  ...           ...    ...        ...   \n",
            "8802   November 20, 2019          2007      R    158 min   \n",
            "8803        July 1, 2019          2018  TV-Y7  2 Seasons   \n",
            "8804    November 1, 2019          2009      R     88 min   \n",
            "8805    January 11, 2020          2006     PG     88 min   \n",
            "8806       March 2, 2019          2015  TV-14    111 min   \n",
            "\n",
            "                                              listed_in  \\\n",
            "0                                         Documentaries   \n",
            "1       International TV Shows, TV Dramas, TV Mysteries   \n",
            "2     Crime TV Shows, International TV Shows, TV Act...   \n",
            "3                                Docuseries, Reality TV   \n",
            "4     International TV Shows, Romantic TV Shows, TV ...   \n",
            "...                                                 ...   \n",
            "8802                     Cult Movies, Dramas, Thrillers   \n",
            "8803             Kids' TV, Korean TV Shows, TV Comedies   \n",
            "8804                            Comedies, Horror Movies   \n",
            "8805                 Children & Family Movies, Comedies   \n",
            "8806     Dramas, International Movies, Music & Musicals   \n",
            "\n",
            "                                            description  \n",
            "0     As her father nears the end of his life, filmm...  \n",
            "1     After crossing paths at a party, a Cape Town t...  \n",
            "2     To protect his family from a powerful drug lor...  \n",
            "3     Feuds, flirtations and toilet talk go down amo...  \n",
            "4     In a city of coaching centers known to train I...  \n",
            "...                                                 ...  \n",
            "8802  A political cartoonist, a crime reporter and a...  \n",
            "8803  While living alone in a spooky town, a young g...  \n",
            "8804  Looking to survive in a world taken over by zo...  \n",
            "8805  Dragged from civilian life, a former superhero...  \n",
            "8806  A scrappy but poor boy worms his way into a ty...  \n",
            "\n",
            "[8807 rows x 12 columns]\n"
          ]
        }
      ]
    }
  ]
}